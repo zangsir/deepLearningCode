{
 "cells": [
  {
   "cell_type": "markdown",
   "metadata": {},
   "source": [
    "# new singleton-data with entity: what are the entity types?"
   ]
  },
  {
   "cell_type": "code",
   "execution_count": null,
   "metadata": {
    "collapsed": true
   },
   "outputs": [],
   "source": []
  },
  {
   "cell_type": "code",
   "execution_count": 1,
   "metadata": {
    "collapsed": false
   },
   "outputs": [],
   "source": [
    "datafile=\"Data/singleton_data_entity.tab\"\n",
    "f=open(datafile,'r').read().split('\\n')\n",
    "entity=[]\n",
    "data=[]\n",
    "for line in f[1:]:\n",
    "    if line!='':   \n",
    "        l=line.split(',')\n",
    "        data.append(l) \n",
    "        #entity.append(l[3])"
   ]
  },
  {
   "cell_type": "code",
   "execution_count": 2,
   "metadata": {
    "collapsed": true
   },
   "outputs": [],
   "source": [
    "def smr(alist):\n",
    "    print \"len:\",len(alist)\n",
    "    print \"head:\",alist[:10]\n",
    "    print \"tail:\",alist[-10:]"
   ]
  },
  {
   "cell_type": "code",
   "execution_count": 3,
   "metadata": {
    "collapsed": false
   },
   "outputs": [],
   "source": [
    "import re\n",
    "def get_num_features(line):\n",
    "    pat='([a-z]+,\\d+,\\d+,\\d+,\\d+,\\d+,)+'\n",
    "    match=re.search(pat,line)\n",
    "    if match:\n",
    "        return match.start()"
   ]
  },
  {
   "cell_type": "code",
   "execution_count": 24,
   "metadata": {
    "collapsed": false
   },
   "outputs": [],
   "source": [
    "entity=[]\n",
    "num_data=[]\n",
    "for line in data:\n",
    "    lstr=\",\".join(line)\n",
    "    index=get_num_features(lstr)\n",
    "    num_data.append(lstr[index:].split(',')[1:])\n",
    "    ent=lstr[index:].split(',')[0]\n",
    "    entity.append(ent)"
   ]
  },
  {
   "cell_type": "code",
   "execution_count": 25,
   "metadata": {
    "collapsed": false
   },
   "outputs": [
    {
     "name": "stdout",
     "output_type": "stream",
     "text": [
      "len: 350846\n",
      "head: [['1', '4', '0', '0', '0', '0', '0', '0', '0', '0', '0', '0.0909090909091', '0.00163132137031', '1\\r'], ['2', '1', '1', '0', '0', '0', '0', '0', '0', '0', '0', '0.181818181818', '0.00326264274062', '1\\r'], ['1', '2', '0', '0', '0', '0', '0', '0', '0', '0', '0', '0.363636363636', '0.00652528548124', '0\\r'], ['2', '3', '0', '0', '0', '0', '0', '0', '0', '0', '0', '0.636363636364', '0.0114192495922', '1\\r'], ['1', '4', '0', '0', '0', '0', '0', '0', '1', '0', '0', '0.909090909091', '0.0163132137031', '1\\r'], ['3', '3', '2', '0', '0', '0', '0', '0', '1', '0', '0', '1.0', '0.0179445350734', '0\\r'], ['1', '3', '0', '0', '0', '0', '0', '0', '1', '0', '0', '1.0', '0.0195758564437', '1\\r'], ['1', '3', '0', '0', '0', '0', '0', '0', '0', '0', '0', '1.0', '0.021207177814', '1\\r'], ['3', '3', '0', '0', '0', '0', '0', '0', '1', '0', '0', '0.333333333333', '0.0228384991843', '1\\r'], ['1', '3', '0', '0', '0', '0', '0', '0', '1', '0', '0', '1.0', '0.026101141925', '0\\r']]\n",
      "tail: [['1', '2', '0', '0', '0', '0', '0', '0', '0', '0', '0', '0.133333333333', '0.949633699634', '1\\r'], ['2', '1', '0', '0', '0', '0', '1', '0', '0', '0', '0', '0.333333333333', '0.955128205128', '0\\r'], ['1', '4', '0', '0', '0', '0', '0', '0', '1', '0', '0', '0.633333333333', '0.96336996337', '1\\r'], ['11', '1', '1', '0', '0', '0', '0', '0', '1', '0', '0', '0.666666666667', '0.964285714286', '1\\r'], ['1', '4', '0', '0', '0', '0', '0', '0', '1', '0', '0', '0.8', '0.967948717949', '0\\r'], ['8', '3', '2', '1', '0', '0', '0', '0', '0', '0', '0', '0.833333333333', '0.968864468864', '0\\r'], ['1', '4', '0', '0', '0', '0', '0', '0', '1', '0', '0', '0.2', '0.978937728938', '1\\r'], ['9', '3', '1', '0', '0', '0', '0', '0', '1', '0', '1', '0.233333333333', '0.979853479853', '1\\r'], ['3', '3', '0', '0', '0', '1', '1', '1', '0', '0', '1', '0.366666666667', '0.983516483516', '1\\r'], ['1', '3', '0', '0', '0', '0', '0', '0', '0', '0', '0', '0.466666666667', '0.986263736264', '1\\r']]\n"
     ]
    }
   ],
   "source": [
    "smr(num_data)"
   ]
  },
  {
   "cell_type": "code",
   "execution_count": null,
   "metadata": {
    "collapsed": true
   },
   "outputs": [],
   "source": []
  },
  {
   "cell_type": "code",
   "execution_count": 5,
   "metadata": {
    "collapsed": false
   },
   "outputs": [
    {
     "name": "stdout",
     "output_type": "stream",
     "text": [
      "len: 350846\n",
      "head: ['abstract', 'event', 'place', 'person', 'place', 'person', 'person', 'time', 'place', 'organization']\n",
      "tail: ['abstract', 'organization', 'person', 'person', 'organization', 'person', 'place', 'person', 'abstract', 'place']\n"
     ]
    }
   ],
   "source": [
    "smr(entity)"
   ]
  },
  {
   "cell_type": "code",
   "execution_count": 6,
   "metadata": {
    "collapsed": false
   },
   "outputs": [],
   "source": [
    "entity_types=set(entity)"
   ]
  },
  {
   "cell_type": "code",
   "execution_count": 7,
   "metadata": {
    "collapsed": false
   },
   "outputs": [
    {
     "data": {
      "text/plain": [
       "11"
      ]
     },
     "execution_count": 7,
     "metadata": {},
     "output_type": "execute_result"
    }
   ],
   "source": [
    "len(entity_types)"
   ]
  },
  {
   "cell_type": "code",
   "execution_count": 9,
   "metadata": {
    "collapsed": false
   },
   "outputs": [
    {
     "data": {
      "text/plain": [
       "{'abstract',\n",
       " 'animal',\n",
       " 'event',\n",
       " 'object',\n",
       " 'organization',\n",
       " 'person',\n",
       " 'place',\n",
       " 'plant',\n",
       " 'quantity',\n",
       " 'substance',\n",
       " 'time'}"
      ]
     },
     "execution_count": 9,
     "metadata": {},
     "output_type": "execute_result"
    }
   ],
   "source": [
    "entity_types"
   ]
  },
  {
   "cell_type": "code",
   "execution_count": 10,
   "metadata": {
    "collapsed": false
   },
   "outputs": [
    {
     "name": "stdout",
     "output_type": "stream",
     "text": [
      "len: 350846\n",
      "head: [['Celebration', 'celebration', 'nn', 'abstract', '1', '4', '0', '0', '0', '0', '0', '0', '0', '0', '0', '0.0909090909091', '0.00163132137031', '1\\r'], ['Celebration Shooting', 'shooting', 'nsubj', 'event', '2', '1', '1', '0', '0', '0', '0', '0', '0', '0', '0', '0.181818181818', '0.00326264274062', '1\\r'], ['Wedding', 'wedding', 'dobj', 'place', '1', '2', '0', '0', '0', '0', '0', '0', '0', '0', '0', '0.363636363636', '0.00652528548124', '0\\r'], ['a Funeral', 'funeral', 'pobj', 'person', '2', '3', '0', '0', '0', '0', '0', '0', '0', '0', '0', '0.636363636364', '0.0114192495922', '1\\r'], ['Gaza', 'gaza', 'nn', 'place', '1', '4', '0', '0', '0', '0', '0', '0', '1', '0', '0', '0.909090909091', '0.0163132137031', '1\\r'], ['Southern Gaza Strip', 'strip', 'pobj', 'person', '3', '3', '2', '0', '0', '0', '0', '0', '1', '0', '0', '1.0', '0.0179445350734', '0\\r'], ['Asad', 'asad', 'root', 'person', '1', '3', '0', '0', '0', '0', '0', '0', '1', '0', '0', '1.0', '0.0195758564437', '1\\r'], ['1/20/2007', '1/20/2007', 'root', 'time', '1', '3', '0', '0', '0', '0', '0', '0', '0', '0', '0', '1.0', '0.021207177814', '1\\r'], ['Gaza - UPI', 'gaza', 'root', 'place', '3', '3', '0', '0', '0', '0', '0', '0', '1', '0', '0', '0.333333333333', '0.0228384991843', '1\\r'], ['UPI', 'UPI', 'dep', 'organization', '1', '3', '0', '0', '0', '0', '0', '0', '1', '0', '0', '1.0', '0.026101141925', '0\\r']]\n",
      "tail: [['discipline', 'discipline', 'dobj', 'abstract', '1', '2', '0', '0', '0', '0', '0', '0', '0', '0', '0', '0.133333333333', '0.949633699634', '1\\r'], ['the government', 'government', 'nsubj', 'organization', '2', '1', '0', '0', '0', '0', '1', '0', '0', '0', '0', '0.333333333333', '0.955128205128', '0\\r'], ['Andrew', 'andrew', 'nn', 'person', '1', '4', '0', '0', '0', '0', '0', '0', '1', '0', '0', '0.633333333333', '0.96336996337', '1\\r'], ['Andrew Mlangeni ', ' another early Umkhonto leader who is now 63', 'mlangeni', 'nsubj', 'person', '11', '1', '1', '0', '0', '0', '0', '0', '1', '0', '0', '0.666666666667', '0.964285714286', '1\\r'], ['Umkhonto', 'umkhonto', 'nn', 'organization', '1', '4', '0', '0', '0', '0', '0', '0', '1', '0', '0', '0.8', '0.967948717949', '0\\r'], ['another early Umkhonto leader who is now 63', 'leader', 'appos', 'person', '8', '3', '2', '1', '0', '0', '0', '0', '0', '0', '0', '0.833333333333', '0.968864468864', '0\\r'], ['Nelson', 'nelson', 'nn', 'place', '1', '4', '0', '0', '0', '0', '0', '0', '1', '0', '0', '0.2', '0.978937728938', '1\\r'], ['Nelson Mandela and all our comrades out of prison', 'mandela', 'dep', 'person', '9', '3', '1', '0', '0', '0', '0', '0', '1', '0', '1', '0.233333333333', '0.979853479853', '1\\r'], ['all our comrades', 'comrade', 'dep', 'abstract', '3', '3', '0', '0', '0', '1', '1', '1', '0', '0', '1', '0.366666666667', '0.983516483516', '1\\r'], ['prison', 'prison', 'pobj', 'place', '1', '3', '0', '0', '0', '0', '0', '0', '0', '0', '0', '0.466666666667', '0.986263736264', '1\\r']]\n"
     ]
    }
   ],
   "source": [
    "smr(data)"
   ]
  },
  {
   "cell_type": "code",
   "execution_count": 13,
   "metadata": {
    "collapsed": false
   },
   "outputs": [],
   "source": [
    "entity_dict={}\n",
    "ent_id=0\n",
    "for ent in entity_types:\n",
    "    entity_dict[ent]=ent_id\n",
    "    ent_id+=1\n",
    "    \n",
    "\n",
    "    "
   ]
  },
  {
   "cell_type": "code",
   "execution_count": 14,
   "metadata": {
    "collapsed": false
   },
   "outputs": [
    {
     "data": {
      "text/plain": [
       "{'abstract': 2,\n",
       " 'animal': 6,\n",
       " 'event': 9,\n",
       " 'object': 3,\n",
       " 'organization': 8,\n",
       " 'person': 4,\n",
       " 'place': 5,\n",
       " 'plant': 0,\n",
       " 'quantity': 10,\n",
       " 'substance': 1,\n",
       " 'time': 7}"
      ]
     },
     "execution_count": 14,
     "metadata": {},
     "output_type": "execute_result"
    }
   ],
   "source": [
    "entity_dict\n"
   ]
  },
  {
   "cell_type": "code",
   "execution_count": 31,
   "metadata": {
    "collapsed": false
   },
   "outputs": [],
   "source": [
    "import numpy as np\n",
    "ent_vector=np.zeros(len(entity_types), dtype=str)"
   ]
  },
  {
   "cell_type": "code",
   "execution_count": null,
   "metadata": {
    "collapsed": true
   },
   "outputs": [],
   "source": []
  },
  {
   "cell_type": "code",
   "execution_count": 32,
   "metadata": {
    "collapsed": false
   },
   "outputs": [
    {
     "data": {
      "text/plain": [
       "array(['', '', '', '', '', '', '', '', '', '', ''], \n",
       "      dtype='|S1')"
      ]
     },
     "execution_count": 32,
     "metadata": {},
     "output_type": "execute_result"
    }
   ],
   "source": [
    "ent_vector"
   ]
  },
  {
   "cell_type": "code",
   "execution_count": null,
   "metadata": {
    "collapsed": true
   },
   "outputs": [],
   "source": []
  },
  {
   "cell_type": "code",
   "execution_count": 22,
   "metadata": {
    "collapsed": true
   },
   "outputs": [],
   "source": [
    "ent_vector[entity_dict['abstract']]=1"
   ]
  },
  {
   "cell_type": "code",
   "execution_count": 28,
   "metadata": {
    "collapsed": false
   },
   "outputs": [
    {
     "data": {
      "text/plain": [
       "[0, 0, 1, 0, 0, 0, 0, 0, 0, 0, 0]"
      ]
     },
     "execution_count": 28,
     "metadata": {},
     "output_type": "execute_result"
    }
   ],
   "source": [
    "list(ent_vector)"
   ]
  },
  {
   "cell_type": "code",
   "execution_count": 30,
   "metadata": {
    "collapsed": false
   },
   "outputs": [
    {
     "data": {
      "text/plain": [
       "[0,\n",
       " 0,\n",
       " 1,\n",
       " 0,\n",
       " 0,\n",
       " 0,\n",
       " 0,\n",
       " 0,\n",
       " 0,\n",
       " 0,\n",
       " 0,\n",
       " '1',\n",
       " '4',\n",
       " '0',\n",
       " '0',\n",
       " '0',\n",
       " '0',\n",
       " '0',\n",
       " '0',\n",
       " '0',\n",
       " '0',\n",
       " '0',\n",
       " '0.0909090909091',\n",
       " '0.00163132137031',\n",
       " '1\\r']"
      ]
     },
     "execution_count": 30,
     "metadata": {},
     "output_type": "execute_result"
    }
   ],
   "source": [
    "list(ent_vector)+num_data[0]"
   ]
  },
  {
   "cell_type": "code",
   "execution_count": null,
   "metadata": {
    "collapsed": true
   },
   "outputs": [],
   "source": []
  },
  {
   "cell_type": "code",
   "execution_count": 48,
   "metadata": {
    "collapsed": false
   },
   "outputs": [
    {
     "name": "stdout",
     "output_type": "stream",
     "text": [
      "plant\n",
      "substance\n",
      "abstract\n",
      "object\n",
      "person\n",
      "place\n",
      "animal\n",
      "time\n",
      "organization\n",
      "event\n",
      "quantity\n"
     ]
    }
   ],
   "source": [
    "for k in entity_types:\n",
    "    print k"
   ]
  },
  {
   "cell_type": "code",
   "execution_count": 49,
   "metadata": {
    "collapsed": false
   },
   "outputs": [
    {
     "name": "stdout",
     "output_type": "stream",
     "text": [
      "Current date and time using isoformat:\n",
      "2016-10-21T11:14:53.584600\n"
     ]
    }
   ],
   "source": [
    "import datetime\n",
    "\n",
    "now = datetime.datetime.now()\n",
    "print \"Current date and time using isoformat:\"\n",
    "print now.isoformat()"
   ]
  },
  {
   "cell_type": "code",
   "execution_count": null,
   "metadata": {
    "collapsed": true
   },
   "outputs": [],
   "source": []
  },
  {
   "cell_type": "code",
   "execution_count": 95,
   "metadata": {
    "collapsed": false
   },
   "outputs": [
    {
     "data": {
      "text/plain": [
       "{'boxes': [<matplotlib.lines.Line2D at 0x108836a90>],\n",
       " 'caps': [<matplotlib.lines.Line2D at 0x1088d2650>,\n",
       "  <matplotlib.lines.Line2D at 0x1086a32d0>],\n",
       " 'fliers': [<matplotlib.lines.Line2D at 0x1088c97d0>],\n",
       " 'means': [],\n",
       " 'medians': [<matplotlib.lines.Line2D at 0x10884ebd0>],\n",
       " 'whiskers': [<matplotlib.lines.Line2D at 0x108836710>,\n",
       "  <matplotlib.lines.Line2D at 0x108836d10>]}"
      ]
     },
     "execution_count": 95,
     "metadata": {},
     "output_type": "execute_result"
    },
    {
     "data": {
      "image/png": "[encoded data removed]",
      "text/plain": [
       "<matplotlib.figure.Figure at 0x1076ae290>"
      ]
     },
     "metadata": {},
     "output_type": "display_data"
    }
   ],
   "source": [
    "plt.boxplot(probs)"
   ]
  },
  {
   "cell_type": "code",
   "execution_count": 106,
   "metadata": {
    "collapsed": false
   },
   "outputs": [
    {
     "data": {
      "text/plain": [
       "8.317725288942391e-05"
      ]
     },
     "execution_count": 106,
     "metadata": {},
     "output_type": "execute_result"
    }
   ],
   "source": [
    "10 ** np.random.uniform(-6, 1)"
   ]
  },
  {
   "cell_type": "code",
   "execution_count": null,
   "metadata": {
    "collapsed": true
   },
   "outputs": [],
   "source": []
  },
  {
   "cell_type": "code",
   "execution_count": null,
   "metadata": {
    "collapsed": true
   },
   "outputs": [],
   "source": []
  },
  {
   "cell_type": "code",
   "execution_count": null,
   "metadata": {
    "collapsed": true
   },
   "outputs": [],
   "source": []
  },
  {
   "cell_type": "code",
   "execution_count": null,
   "metadata": {
    "collapsed": true
   },
   "outputs": [],
   "source": []
  },
  {
   "cell_type": "code",
   "execution_count": null,
   "metadata": {
    "collapsed": true
   },
   "outputs": [],
   "source": []
  },
  {
   "cell_type": "code",
   "execution_count": null,
   "metadata": {
    "collapsed": true
   },
   "outputs": [],
   "source": []
  },
  {
   "cell_type": "code",
   "execution_count": null,
   "metadata": {
    "collapsed": true
   },
   "outputs": [],
   "source": []
  },
  {
   "cell_type": "code",
   "execution_count": null,
   "metadata": {
    "collapsed": true
   },
   "outputs": [],
   "source": []
  },
  {
   "cell_type": "code",
   "execution_count": null,
   "metadata": {
    "collapsed": true
   },
   "outputs": [],
   "source": []
  },
  {
   "cell_type": "code",
   "execution_count": null,
   "metadata": {
    "collapsed": true
   },
   "outputs": [],
   "source": []
  },
  {
   "cell_type": "code",
   "execution_count": null,
   "metadata": {
    "collapsed": true
   },
   "outputs": [],
   "source": []
  },
  {
   "cell_type": "code",
   "execution_count": null,
   "metadata": {
    "collapsed": true
   },
   "outputs": [],
   "source": []
  },
  {
   "cell_type": "code",
   "execution_count": null,
   "metadata": {
    "collapsed": true
   },
   "outputs": [],
   "source": []
  },
  {
   "cell_type": "code",
   "execution_count": null,
   "metadata": {
    "collapsed": true
   },
   "outputs": [],
   "source": []
  },
  {
   "cell_type": "code",
   "execution_count": null,
   "metadata": {
    "collapsed": true
   },
   "outputs": [],
   "source": []
  },
  {
   "cell_type": "code",
   "execution_count": null,
   "metadata": {
    "collapsed": true
   },
   "outputs": [],
   "source": []
  },
  {
   "cell_type": "code",
   "execution_count": null,
   "metadata": {
    "collapsed": true
   },
   "outputs": [],
   "source": []
  },
  {
   "cell_type": "code",
   "execution_count": null,
   "metadata": {
    "collapsed": true
   },
   "outputs": [],
   "source": []
  },
  {
   "cell_type": "code",
   "execution_count": null,
   "metadata": {
    "collapsed": true
   },
   "outputs": [],
   "source": []
  },
  {
   "cell_type": "code",
   "execution_count": null,
   "metadata": {
    "collapsed": true
   },
   "outputs": [],
   "source": []
  },
  {
   "cell_type": "code",
   "execution_count": null,
   "metadata": {
    "collapsed": true
   },
   "outputs": [],
   "source": []
  },
  {
   "cell_type": "code",
   "execution_count": null,
   "metadata": {
    "collapsed": true
   },
   "outputs": [],
   "source": []
  },
  {
   "cell_type": "code",
   "execution_count": null,
   "metadata": {
    "collapsed": true
   },
   "outputs": [],
   "source": []
  },
  {
   "cell_type": "code",
   "execution_count": null,
   "metadata": {
    "collapsed": true
   },
   "outputs": [],
   "source": []
  },
  {
   "cell_type": "code",
   "execution_count": 70,
   "metadata": {
    "collapsed": false
   },
   "outputs": [
    {
     "data": {
      "text/plain": [
       "[5, 6, 8, 7, 9]"
      ]
     },
     "execution_count": 70,
     "metadata": {},
     "output_type": "execute_result"
    }
   ],
   "source": [
    "h"
   ]
  },
  {
   "cell_type": "code",
   "execution_count": null,
   "metadata": {
    "collapsed": true
   },
   "outputs": [],
   "source": []
  },
  {
   "cell_type": "code",
   "execution_count": null,
   "metadata": {
    "collapsed": true
   },
   "outputs": [],
   "source": []
  },
  {
   "cell_type": "code",
   "execution_count": null,
   "metadata": {
    "collapsed": true
   },
   "outputs": [],
   "source": []
  },
  {
   "cell_type": "code",
   "execution_count": null,
   "metadata": {
    "collapsed": true
   },
   "outputs": [],
   "source": []
  },
  {
   "cell_type": "code",
   "execution_count": null,
   "metadata": {
    "collapsed": true
   },
   "outputs": [],
   "source": []
  },
  {
   "cell_type": "code",
   "execution_count": null,
   "metadata": {
    "collapsed": true
   },
   "outputs": [],
   "source": []
  },
  {
   "cell_type": "code",
   "execution_count": null,
   "metadata": {
    "collapsed": true
   },
   "outputs": [],
   "source": []
  },
  {
   "cell_type": "code",
   "execution_count": null,
   "metadata": {
    "collapsed": true
   },
   "outputs": [],
   "source": []
  },
  {
   "cell_type": "code",
   "execution_count": null,
   "metadata": {
    "collapsed": true
   },
   "outputs": [],
   "source": []
  },
  {
   "cell_type": "code",
   "execution_count": null,
   "metadata": {
    "collapsed": true
   },
   "outputs": [],
   "source": []
  },
  {
   "cell_type": "code",
   "execution_count": null,
   "metadata": {
    "collapsed": true
   },
   "outputs": [],
   "source": []
  },
  {
   "cell_type": "code",
   "execution_count": null,
   "metadata": {
    "collapsed": true
   },
   "outputs": [],
   "source": []
  },
  {
   "cell_type": "code",
   "execution_count": null,
   "metadata": {
    "collapsed": true
   },
   "outputs": [],
   "source": []
  },
  {
   "cell_type": "code",
   "execution_count": null,
   "metadata": {
    "collapsed": true
   },
   "outputs": [],
   "source": []
  },
  {
   "cell_type": "code",
   "execution_count": null,
   "metadata": {
    "collapsed": true
   },
   "outputs": [],
   "source": []
  },
  {
   "cell_type": "code",
   "execution_count": null,
   "metadata": {
    "collapsed": true
   },
   "outputs": [],
   "source": []
  },
  {
   "cell_type": "code",
   "execution_count": null,
   "metadata": {
    "collapsed": true
   },
   "outputs": [],
   "source": []
  },
  {
   "cell_type": "code",
   "execution_count": null,
   "metadata": {
    "collapsed": true
   },
   "outputs": [],
   "source": []
  },
  {
   "cell_type": "code",
   "execution_count": null,
   "metadata": {
    "collapsed": true
   },
   "outputs": [],
   "source": []
  },
  {
   "cell_type": "code",
   "execution_count": null,
   "metadata": {
    "collapsed": true
   },
   "outputs": [],
   "source": []
  },
  {
   "cell_type": "code",
   "execution_count": null,
   "metadata": {
    "collapsed": true
   },
   "outputs": [],
   "source": []
  },
  {
   "cell_type": "code",
   "execution_count": null,
   "metadata": {
    "collapsed": true
   },
   "outputs": [],
   "source": []
  },
  {
   "cell_type": "code",
   "execution_count": null,
   "metadata": {
    "collapsed": true
   },
   "outputs": [],
   "source": []
  }
 ],
 "metadata": {
  "kernelspec": {
   "display_name": "Python 2",
   "language": "python",
   "name": "python2"
  },
  "language_info": {
   "codemirror_mode": {
    "name": "ipython",
    "version": 2
   },
   "file_extension": ".py",
   "mimetype": "text/x-python",
   "name": "python",
   "nbconvert_exporter": "python",
   "pygments_lexer": "ipython2",
   "version": "2.7.12"
  }
 },
 "nbformat": 4,
 "nbformat_minor": 0
}
