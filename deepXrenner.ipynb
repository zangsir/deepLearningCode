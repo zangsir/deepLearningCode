{
 "cells": [
  {
   "cell_type": "markdown",
   "metadata": {},
   "source": [
    "# Deep learning: singleton classification in XRENNER\n"
   ]
  },
  {
   "cell_type": "code",
   "execution_count": null,
   "metadata": {
    "collapsed": true
   },
   "outputs": [],
   "source": []
  },
  {
   "cell_type": "code",
   "execution_count": 1,
   "metadata": {
    "collapsed": false
   },
   "outputs": [
    {
     "name": "stdout",
     "output_type": "stream",
     "text": [
      "/Users/zangsir/Desktop/deep_xrenner\n"
     ]
    }
   ],
   "source": [
    "cd ~/Desktop/deep_xrenner/"
   ]
  },
  {
   "cell_type": "code",
   "execution_count": 2,
   "metadata": {
    "collapsed": false
   },
   "outputs": [
    {
     "name": "stdout",
     "output_type": "stream",
     "text": [
      "\u001b[1m\u001b[34mData\u001b[m\u001b[m/               mlp_update.py       singleton_net.p     xrenner_xrenner.py\r\n"
     ]
    }
   ],
   "source": [
    "ls"
   ]
  },
  {
   "cell_type": "code",
   "execution_count": 3,
   "metadata": {
    "collapsed": true
   },
   "outputs": [],
   "source": [
    "# These are all the modules we'll be using later. Make sure you can import them\n",
    "# before proceeding further.\n",
    "from __future__ import print_function\n",
    "import numpy as np\n",
    "import tensorflow as tf\n",
    "from six.moves import cPickle as pickle\n",
    "from six.moves import range"
   ]
  },
  {
   "cell_type": "markdown",
   "metadata": {},
   "source": [
    "want: in the notMNIST data set like this:\n",
    "\n",
    "Training set (200000, 28, 28) (200000,)\n",
    "\n",
    "Validation set (10000, 28, 28) (10000,)\n",
    "\n",
    "Test set (10000, 28, 28) (10000,)\n",
    "\n",
    "and after transformation:\n",
    "\n",
    "Training set (200000, 784) (200000, 10)\n",
    "\n",
    "Validation set (10000, 784) (10000, 10)\n",
    "\n",
    "Test set (10000, 784) (10000, 10)"
   ]
  },
  {
   "cell_type": "code",
   "execution_count": null,
   "metadata": {
    "collapsed": true
   },
   "outputs": [],
   "source": []
  },
  {
   "cell_type": "code",
   "execution_count": null,
   "metadata": {
    "collapsed": true
   },
   "outputs": [],
   "source": []
  },
  {
   "cell_type": "markdown",
   "metadata": {},
   "source": [
    "## load data"
   ]
  },
  {
   "cell_type": "code",
   "execution_count": null,
   "metadata": {
    "collapsed": true
   },
   "outputs": [],
   "source": []
  },
  {
   "cell_type": "code",
   "execution_count": 122,
   "metadata": {
    "collapsed": false
   },
   "outputs": [],
   "source": [
    "def load_data(datafile):\n",
    "    data = np.loadtxt(datafile, delimiter=',')\n",
    "\n",
    "    # first ten values are the one hot encoded y (target) values\n",
    "    ####y = data[:, 0:10]\n",
    "    y = data[:, -1]\n",
    "    # y[y == 0] = -1 # if you are using a tanh transfer function make the 0 into -1\n",
    "    # y[y == 1] = .90 # try values that won't saturate tanh\n",
    "\n",
    "    data = data[:, :-1]  # x data\n",
    "    # data = data - data.mean(axis = 1)\n",
    "    data -= data.min()  # scale the data so values are between 0 and 1\n",
    "    data /= data.max()  # scale\n",
    "    out = []\n",
    "    labels=[]\n",
    "    print(data.shape)\n",
    "    label_dict={1:[0,1],0:[1,0]}\n",
    "    # populate the tuple list with the data\n",
    "    for i in range(data.shape[0]):\n",
    "        fart = list((data[i, :].tolist()))  # don't mind this variable name\n",
    "        out.append(fart)\n",
    "        #two classes one hot coding:two classes are [NS,S] y=1:[0,1]; y=0:[1,0]\n",
    "        labels.append(label_dict[y[i]])\n",
    "\n",
    "    return np.array(out,dtype=np.float32),np.array(labels,dtype=np.float32)"
   ]
  },
  {
   "cell_type": "code",
   "execution_count": null,
   "metadata": {
    "collapsed": true
   },
   "outputs": [],
   "source": []
  },
  {
   "cell_type": "code",
   "execution_count": null,
   "metadata": {
    "collapsed": true
   },
   "outputs": [],
   "source": []
  },
  {
   "cell_type": "code",
   "execution_count": null,
   "metadata": {
    "collapsed": true
   },
   "outputs": [],
   "source": []
  },
  {
   "cell_type": "code",
   "execution_count": 98,
   "metadata": {
    "collapsed": false
   },
   "outputs": [
    {
     "name": "stdout",
     "output_type": "stream",
     "text": [
      "(40000, 14)\n"
     ]
    }
   ],
   "source": [
    "datafile='Data/singleton_data_mini.tab'\n",
    "X,labels = load_data(datafile)\n"
   ]
  },
  {
   "cell_type": "code",
   "execution_count": 36,
   "metadata": {
    "collapsed": false
   },
   "outputs": [
    {
     "data": {
      "text/plain": [
       "40000"
      ]
     },
     "execution_count": 36,
     "metadata": {},
     "output_type": "execute_result"
    }
   ],
   "source": [
    "X.shape[0]"
   ]
  },
  {
   "cell_type": "code",
   "execution_count": 101,
   "metadata": {
    "collapsed": false
   },
   "outputs": [
    {
     "data": {
      "text/plain": [
       "array([[  6.71140943e-03,   2.68456377e-02,   0.00000000e+00, ...,\n",
       "          0.00000000e+00,   6.10128103e-04,   1.13177221e-05],\n",
       "       [  1.34228189e-02,   6.71140943e-03,   6.71140943e-03, ...,\n",
       "          0.00000000e+00,   1.22025621e-03,   2.26354441e-05],\n",
       "       [  6.71140943e-03,   1.34228189e-02,   0.00000000e+00, ...,\n",
       "          0.00000000e+00,   2.44051241e-03,   4.52708882e-05],\n",
       "       ..., \n",
       "       [  6.71140943e-03,   2.68456377e-02,   0.00000000e+00, ...,\n",
       "          0.00000000e+00,   4.72849282e-03,   2.08693999e-03],\n",
       "       [  1.94630876e-01,   2.01342274e-02,   6.71140943e-03, ...,\n",
       "          0.00000000e+00,   4.88102483e-03,   2.11065519e-03],\n",
       "       [  5.36912754e-02,   1.34228189e-02,   1.34228189e-02, ...,\n",
       "          0.00000000e+00,   5.79621736e-03,   2.25294661e-03]], dtype=float32)"
      ]
     },
     "execution_count": 101,
     "metadata": {},
     "output_type": "execute_result"
    }
   ],
   "source": [
    "X"
   ]
  },
  {
   "cell_type": "code",
   "execution_count": null,
   "metadata": {
    "collapsed": true
   },
   "outputs": [],
   "source": []
  },
  {
   "cell_type": "code",
   "execution_count": null,
   "metadata": {
    "collapsed": true
   },
   "outputs": [],
   "source": []
  },
  {
   "cell_type": "code",
   "execution_count": 32,
   "metadata": {
    "collapsed": false
   },
   "outputs": [
    {
     "data": {
      "text/plain": [
       "array([[0, 1],\n",
       "       [0, 1],\n",
       "       [1, 0],\n",
       "       ..., \n",
       "       [0, 1],\n",
       "       [0, 1],\n",
       "       [0, 1]])"
      ]
     },
     "execution_count": 32,
     "metadata": {},
     "output_type": "execute_result"
    }
   ],
   "source": [
    "labels"
   ]
  },
  {
   "cell_type": "markdown",
   "metadata": {},
   "source": [
    "## divide into dev, val, test sets"
   ]
  },
  {
   "cell_type": "code",
   "execution_count": 111,
   "metadata": {
    "collapsed": true
   },
   "outputs": [],
   "source": [
    "train_prop=0.9\n",
    "val_prop=0.05\n",
    "test_prop=0.05\n",
    "\n",
    "train_size=X.shape[0]*train_prop\n",
    "val_size=X.shape[0]*val_prop\n",
    "test_size=X.shape[0]*test_prop\n",
    "\n",
    "#should shuffle the dataset"
   ]
  },
  {
   "cell_type": "code",
   "execution_count": null,
   "metadata": {
    "collapsed": true
   },
   "outputs": [],
   "source": []
  },
  {
   "cell_type": "code",
   "execution_count": 50,
   "metadata": {
    "collapsed": true
   },
   "outputs": [],
   "source": [
    "def randomize(dataset, labels):\n",
    "    permutation = np.random.permutation(labels.shape[0])\n",
    "    shuffled_dataset = dataset[permutation,:]\n",
    "    shuffled_labels = labels[permutation]\n",
    "    return shuffled_dataset, shuffled_labels"
   ]
  },
  {
   "cell_type": "code",
   "execution_count": 113,
   "metadata": {
    "collapsed": false
   },
   "outputs": [],
   "source": [
    "#pipeline\n",
    "#load data\n",
    "datafile='Data/singleton_data_mini.tab'\n",
    "X,labels = load_data(datafile)\n",
    "\n",
    "#shuffle dataset\n",
    "dataset_shf,labels_shf = randomize(X, labels)\n",
    "\n",
    "#get sizes of division\n",
    "train_dataset=dataset_shf[:int(train_size),:]\n",
    "valid_dataset=dataset_shf[int(train_size):int(train_size+val_size),:]\n",
    "test_dataset=dataset_shf[int(train_size+val_size):,:]\n",
    "train_labels=labels_shf[:int(train_size)]\n",
    "valid_labels=labels_shf[int(train_size):int(train_size+val_size)]\n",
    "test_labels=labels_shf[int(train_size+val_size):]\n",
    "\n",
    "#divide the dataset\n",
    "train_dataset, train_labels = randomize(train_dataset, train_labels)\n",
    "test_dataset, test_labels = randomize(test_dataset, test_labels)\n",
    "valid_dataset, valid_labels = randomize(valid_dataset, valid_labels)"
   ]
  },
  {
   "cell_type": "code",
   "execution_count": 114,
   "metadata": {
    "collapsed": false
   },
   "outputs": [],
   "source": []
  },
  {
   "cell_type": "code",
   "execution_count": 115,
   "metadata": {
    "collapsed": false
   },
   "outputs": [
    {
     "data": {
      "text/plain": [
       "array([[ 0.02684564,  0.00671141,  0.        , ...,  0.        ,\n",
       "         0.00503356,  0.00433419],\n",
       "       [ 0.00671141,  0.02684564,  0.        , ...,  0.        ,\n",
       "         0.0059657 ,  0.00409857],\n",
       "       [ 0.06711409,  0.02013423,  0.        , ...,  0.        ,\n",
       "         0.00198292,  0.00483374],\n",
       "       ..., \n",
       "       [ 0.01342282,  0.01342282,  0.        , ...,  0.        ,\n",
       "         0.00491079,  0.00612212],\n",
       "       [ 0.02013423,  0.02013423,  0.        , ...,  0.        ,\n",
       "         0.00233882,  0.00421499],\n",
       "       [ 0.06040268,  0.02013423,  0.00671141, ...,  0.        ,\n",
       "         0.00457596,  0.00025422]], dtype=float32)"
      ]
     },
     "execution_count": 115,
     "metadata": {},
     "output_type": "execute_result"
    }
   ],
   "source": [
    "train_dataset"
   ]
  },
  {
   "cell_type": "code",
   "execution_count": null,
   "metadata": {
    "collapsed": true
   },
   "outputs": [],
   "source": []
  },
  {
   "cell_type": "code",
   "execution_count": null,
   "metadata": {
    "collapsed": true
   },
   "outputs": [],
   "source": []
  },
  {
   "cell_type": "code",
   "execution_count": null,
   "metadata": {
    "collapsed": true
   },
   "outputs": [],
   "source": []
  },
  {
   "cell_type": "code",
   "execution_count": 106,
   "metadata": {
    "collapsed": false
   },
   "outputs": [
    {
     "name": "stdout",
     "output_type": "stream",
     "text": [
      "(36000, 14) (36000, 2)\n",
      "(2000, 14) (2000, 2)\n",
      "(2000, 14) (2000, 2)\n"
     ]
    }
   ],
   "source": [
    "print (train_dataset.shape,train_labels.shape)\n",
    "print (valid_dataset.shape,valid_labels.shape)\n",
    "print (test_dataset.shape,test_labels.shape)"
   ]
  },
  {
   "cell_type": "code",
   "execution_count": null,
   "metadata": {
    "collapsed": true
   },
   "outputs": [],
   "source": []
  },
  {
   "cell_type": "code",
   "execution_count": 87,
   "metadata": {
    "collapsed": true
   },
   "outputs": [],
   "source": [
    "#wrote a function to return all the singleton indexes, but accidentlly deleted that. "
   ]
  },
  {
   "cell_type": "code",
   "execution_count": 116,
   "metadata": {
    "collapsed": false
   },
   "outputs": [
    {
     "name": "stdout",
     "output_type": "stream",
     "text": [
      "[ 0.00671141  0.02684564  0.          0.          0.          0.          0.\n",
      "  0.          0.00671141  0.          0.          0.          0.00494525\n",
      "  0.00033726] [ 0.  1.]\n",
      "[ 0.01342282  0.02013423  0.00671141  0.          0.          0.          0.\n",
      "  0.00671141  0.          0.          0.          0.          0.00064533\n",
      "  0.00386733] [ 0.  1.]\n",
      "[ 0.02684564  0.02013423  0.00671141  0.          0.          0.          0.\n",
      "  0.          0.00671141  0.          0.          0.          0.00366077\n",
      "  0.00437005] [ 0.  1.]\n"
     ]
    }
   ],
   "source": [
    "#check if the labels are still good after shuffling\n",
    "#it is good. \n",
    "print (train_dataset[12],train_labels[12])\n",
    "print (train_dataset[39],train_labels[39])\n",
    "print (train_dataset[10001],train_labels[10001])"
   ]
  },
  {
   "cell_type": "code",
   "execution_count": null,
   "metadata": {
    "collapsed": true
   },
   "outputs": [],
   "source": []
  },
  {
   "cell_type": "code",
   "execution_count": 117,
   "metadata": {
    "collapsed": false
   },
   "outputs": [
    {
     "data": {
      "text/plain": [
       "array([[ 0.02684564,  0.00671141,  0.        , ...,  0.        ,\n",
       "         0.00503356,  0.00433419],\n",
       "       [ 0.00671141,  0.02684564,  0.        , ...,  0.        ,\n",
       "         0.0059657 ,  0.00409857],\n",
       "       [ 0.06711409,  0.02013423,  0.        , ...,  0.        ,\n",
       "         0.00198292,  0.00483374],\n",
       "       ..., \n",
       "       [ 0.01342282,  0.01342282,  0.        , ...,  0.        ,\n",
       "         0.00491079,  0.00612212],\n",
       "       [ 0.02013423,  0.02013423,  0.        , ...,  0.        ,\n",
       "         0.00233882,  0.00421499],\n",
       "       [ 0.06040268,  0.02013423,  0.00671141, ...,  0.        ,\n",
       "         0.00457596,  0.00025422]], dtype=float32)"
      ]
     },
     "execution_count": 117,
     "metadata": {},
     "output_type": "execute_result"
    }
   ],
   "source": [
    "train_dataset"
   ]
  },
  {
   "cell_type": "code",
   "execution_count": null,
   "metadata": {
    "collapsed": true
   },
   "outputs": [],
   "source": []
  },
  {
   "cell_type": "code",
   "execution_count": null,
   "metadata": {
    "collapsed": true
   },
   "outputs": [],
   "source": []
  },
  {
   "cell_type": "code",
   "execution_count": 118,
   "metadata": {
    "collapsed": false
   },
   "outputs": [],
   "source": [
    "num_nodes= 1024\n",
    "batch_size = 128\n",
    "input_size=X.shape[1]\n",
    "num_labels=2\n",
    "\n",
    "graph = tf.Graph()\n",
    "with graph.as_default():\n",
    "\n",
    "    # Input data. For the training data, we use a placeholder that will be fed\n",
    "    # at run time with a training minibatch.\n",
    "    tf_train_dataset = tf.placeholder(tf.float32,\n",
    "                                      shape=(batch_size, input_size))\n",
    "    tf_train_labels = tf.placeholder(tf.float32, shape=(batch_size, num_labels))\n",
    "    tf_valid_dataset = tf.constant(valid_dataset)\n",
    "    tf_test_dataset = tf.constant(test_dataset)\n",
    "\n",
    "    # Variables.\n",
    "    weights_1 = tf.Variable(\n",
    "      tf.truncated_normal([input_size, num_nodes]))\n",
    "    biases_1 = tf.Variable(tf.zeros([num_nodes]))\n",
    "    weights_2 = tf.Variable(\n",
    "      tf.truncated_normal([num_nodes, num_labels]))\n",
    "    biases_2 = tf.Variable(tf.zeros([num_labels]))\n",
    "\n",
    "    # Training computation.\n",
    "    relu_layer=tf.nn.relu(tf.matmul(tf_train_dataset, weights_1) + biases_1)#notice the shape of tf_train_dataset and weights_1\n",
    "    logits = tf.matmul(relu_layer, weights_2) + biases_2\n",
    "    loss = tf.reduce_mean(\n",
    "      tf.nn.softmax_cross_entropy_with_logits(logits, tf_train_labels))\n",
    "\n",
    "    # Optimizer.\n",
    "    optimizer = tf.train.GradientDescentOptimizer(0.5).minimize(loss)\n",
    "\n",
    "    # Predictions for the training, validation, and test data.\n",
    "    train_prediction = tf.nn.softmax(logits)\n",
    "    valid_prediction = tf.nn.softmax(\n",
    "     tf.matmul(tf.nn.relu(tf.matmul(tf_valid_dataset, weights_1) + biases_1), weights_2) + biases_2)\n",
    "    test_prediction =  tf.nn.softmax(\n",
    "     tf.matmul(tf.nn.relu(tf.matmul(tf_test_dataset, weights_1) + biases_1), weights_2) + biases_2)"
   ]
  },
  {
   "cell_type": "code",
   "execution_count": 120,
   "metadata": {
    "collapsed": true
   },
   "outputs": [],
   "source": [
    "def accuracy(predictions, labels):\n",
    "    return (100.0 * np.sum(np.argmax(predictions, 1) == np.argmax(labels, 1))\n",
    "          / predictions.shape[0])"
   ]
  },
  {
   "cell_type": "code",
   "execution_count": 278,
   "metadata": {
    "collapsed": false
   },
   "outputs": [
    {
     "data": {
      "text/plain": [
       "1"
      ]
     },
     "execution_count": 278,
     "metadata": {},
     "output_type": "execute_result"
    }
   ],
   "source": [
    "np.argmax(predictions[11]"
   ]
  },
  {
   "cell_type": "code",
   "execution_count": 313,
   "metadata": {
    "collapsed": false
   },
   "outputs": [
    {
     "name": "stdout",
     "output_type": "stream",
     "text": [
      "347\n",
      "424\n"
     ]
    }
   ],
   "source": [
    "#precision=TP/(TP+FP)\n",
    "#recall=TP/(TP+FN)\n",
    "\n",
    "#TP+FP=\n",
    "predicted_sgt=np.sum(np.argmax(predictions,1)==0)\n",
    "print (predicted_sgt)\n",
    "real_sgt=np.sum(np.argmax(batch_labels,1)==0)\n",
    "print (real_sgt)"
   ]
  },
  {
   "cell_type": "code",
   "execution_count": null,
   "metadata": {
    "collapsed": true
   },
   "outputs": [],
   "source": []
  },
  {
   "cell_type": "code",
   "execution_count": null,
   "metadata": {
    "collapsed": true
   },
   "outputs": [],
   "source": []
  },
  {
   "cell_type": "code",
   "execution_count": null,
   "metadata": {
    "collapsed": true
   },
   "outputs": [],
   "source": []
  },
  {
   "cell_type": "code",
   "execution_count": 330,
   "metadata": {
    "collapsed": false
   },
   "outputs": [],
   "source": []
  },
  {
   "cell_type": "code",
   "execution_count": null,
   "metadata": {
    "collapsed": true
   },
   "outputs": [],
   "source": []
  },
  {
   "cell_type": "code",
   "execution_count": null,
   "metadata": {
    "collapsed": true
   },
   "outputs": [],
   "source": []
  },
  {
   "cell_type": "code",
   "execution_count": 331,
   "metadata": {
    "collapsed": false
   },
   "outputs": [
    {
     "name": "stdout",
     "output_type": "stream",
     "text": [
      "0.40625 1.0\n"
     ]
    },
    {
     "data": {
      "text/plain": [
       "(0.40625, 1.0, 0.5777777777777777)"
      ]
     },
     "execution_count": 331,
     "metadata": {},
     "output_type": "execute_result"
    }
   ],
   "source": [
    "precision_recall(predictions,batch_labels)"
   ]
  },
  {
   "cell_type": "code",
   "execution_count": null,
   "metadata": {
    "collapsed": true
   },
   "outputs": [],
   "source": []
  },
  {
   "cell_type": "code",
   "execution_count": null,
   "metadata": {
    "collapsed": true
   },
   "outputs": [],
   "source": []
  },
  {
   "cell_type": "code",
   "execution_count": 121,
   "metadata": {
    "collapsed": false
   },
   "outputs": [
    {
     "name": "stdout",
     "output_type": "stream",
     "text": [
      "Initialized\n",
      "Minibatch loss at step 0: 0.576419\n",
      "Minibatch accuracy: 77.3%\n",
      "Validation accuracy: 86.7%\n",
      "Minibatch loss at step 500: 0.303830\n",
      "Minibatch accuracy: 89.8%\n",
      "Validation accuracy: 86.7%\n",
      "Minibatch loss at step 1000: 0.433002\n",
      "Minibatch accuracy: 83.6%\n",
      "Validation accuracy: 86.7%\n",
      "Minibatch loss at step 1500: 0.393721\n",
      "Minibatch accuracy: 86.7%\n",
      "Validation accuracy: 86.7%\n",
      "Minibatch loss at step 2000: 0.296616\n",
      "Minibatch accuracy: 89.8%\n",
      "Validation accuracy: 86.7%\n",
      "Minibatch loss at step 2500: 0.398171\n",
      "Minibatch accuracy: 86.7%\n",
      "Validation accuracy: 86.7%\n",
      "Minibatch loss at step 3000: 0.321350\n",
      "Minibatch accuracy: 89.8%\n",
      "Validation accuracy: 86.7%\n",
      "Test accuracy: 85.0%\n"
     ]
    }
   ],
   "source": [
    "num_steps = 3001\n",
    "\n",
    "with tf.Session(graph=graph) as session:\n",
    "  tf.initialize_all_variables().run()\n",
    "  print(\"Initialized\")\n",
    "  for step in range(num_steps):\n",
    "    # Pick an offset within the training data, which has been randomized.\n",
    "    # Note: we could use better randomization across epochs.\n",
    "    offset = (step * batch_size) % (train_labels.shape[0] - batch_size)\n",
    "    # Generate a minibatch.\n",
    "    batch_data = train_dataset[offset:(offset + batch_size), :]\n",
    "    batch_labels = train_labels[offset:(offset + batch_size), :]\n",
    "    # Prepare a dictionary telling the session where to feed the minibatch.\n",
    "    # The key of the dictionary is the placeholder node of the graph to be fed,\n",
    "    # and the value is the numpy array to feed to it.\n",
    "    feed_dict = {tf_train_dataset : batch_data, tf_train_labels : batch_labels}\n",
    "    _, l, predictions = session.run(\n",
    "      [optimizer, loss, train_prediction], feed_dict=feed_dict)\n",
    "    if (step % 500 == 0):\n",
    "      print(\"Minibatch loss at step %d: %f\" % (step, l))\n",
    "      print(\"Minibatch accuracy: %.1f%%\" % accuracy(predictions, batch_labels))\n",
    "      print(\"Validation accuracy: %.1f%%\" % accuracy(\n",
    "        valid_prediction.eval(), valid_labels))\n",
    "  print(\"Test accuracy: %.1f%%\" % accuracy(test_prediction.eval(), test_labels))"
   ]
  },
  {
   "cell_type": "code",
   "execution_count": 218,
   "metadata": {
    "collapsed": false
   },
   "outputs": [],
   "source": [
    "def get_singleton(labels):\n",
    "    inds_notsgt=[]\n",
    "    inds_sgtn=[]\n",
    "    for i in range(len(labels)):\n",
    "        if labels[i][0]==1:\n",
    "            inds_sgtn.append(i)\n",
    "        else:\n",
    "            inds_notsgt.append(i)\n",
    "    return inds_notsgt,inds_sgtn"
   ]
  },
  {
   "cell_type": "code",
   "execution_count": null,
   "metadata": {
    "collapsed": true
   },
   "outputs": [],
   "source": []
  },
  {
   "cell_type": "code",
   "execution_count": null,
   "metadata": {
    "collapsed": true
   },
   "outputs": [],
   "source": []
  },
  {
   "cell_type": "code",
   "execution_count": 326,
   "metadata": {
    "collapsed": false
   },
   "outputs": [],
   "source": [
    "c,ind=get_singleton(valid_labels)"
   ]
  },
  {
   "cell_type": "code",
   "execution_count": 328,
   "metadata": {
    "collapsed": false
   },
   "outputs": [
    {
     "data": {
      "text/plain": [
       "4951"
      ]
     },
     "execution_count": 328,
     "metadata": {},
     "output_type": "execute_result"
    }
   ],
   "source": [
    "len(c)"
   ]
  },
  {
   "cell_type": "code",
   "execution_count": null,
   "metadata": {
    "collapsed": true
   },
   "outputs": [],
   "source": []
  },
  {
   "cell_type": "code",
   "execution_count": null,
   "metadata": {
    "collapsed": true
   },
   "outputs": [],
   "source": []
  },
  {
   "cell_type": "code",
   "execution_count": 163,
   "metadata": {
    "collapsed": false
   },
   "outputs": [
    {
     "data": {
      "text/plain": [
       "0.18648764977854296"
      ]
     },
     "execution_count": 163,
     "metadata": {},
     "output_type": "execute_result"
    }
   ],
   "source": [
    "float(c)/len(labels)#ratio of singleton class"
   ]
  },
  {
   "cell_type": "code",
   "execution_count": 164,
   "metadata": {
    "collapsed": false
   },
   "outputs": [
    {
     "data": {
      "text/plain": [
       "67157"
      ]
     },
     "execution_count": 164,
     "metadata": {},
     "output_type": "execute_result"
    }
   ],
   "source": [
    "len(ind)"
   ]
  },
  {
   "cell_type": "code",
   "execution_count": 201,
   "metadata": {
    "collapsed": false
   },
   "outputs": [
    {
     "data": {
      "text/plain": [
       "67157"
      ]
     },
     "execution_count": 201,
     "metadata": {},
     "output_type": "execute_result"
    }
   ],
   "source": [
    "c"
   ]
  },
  {
   "cell_type": "code",
   "execution_count": null,
   "metadata": {
    "collapsed": true
   },
   "outputs": [],
   "source": []
  },
  {
   "cell_type": "code",
   "execution_count": null,
   "metadata": {
    "collapsed": true
   },
   "outputs": [],
   "source": []
  },
  {
   "cell_type": "code",
   "execution_count": null,
   "metadata": {
    "collapsed": true
   },
   "outputs": [],
   "source": []
  },
  {
   "cell_type": "code",
   "execution_count": null,
   "metadata": {
    "collapsed": true
   },
   "outputs": [],
   "source": []
  },
  {
   "cell_type": "code",
   "execution_count": null,
   "metadata": {
    "collapsed": true
   },
   "outputs": [],
   "source": []
  },
  {
   "cell_type": "code",
   "execution_count": null,
   "metadata": {
    "collapsed": true
   },
   "outputs": [],
   "source": []
  },
  {
   "cell_type": "markdown",
   "metadata": {},
   "source": [
    "<h1 style='background:blue;color:white;'>data process pipeline using tensorflow</h1>"
   ]
  },
  {
   "cell_type": "code",
   "execution_count": null,
   "metadata": {
    "collapsed": true
   },
   "outputs": [],
   "source": [
    "%matplotlib inline\n",
    "import matplotlib.pyplot as plt"
   ]
  },
  {
   "cell_type": "code",
   "execution_count": 354,
   "metadata": {
    "collapsed": false
   },
   "outputs": [],
   "source": []
  },
  {
   "cell_type": "code",
   "execution_count": null,
   "metadata": {
    "collapsed": true
   },
   "outputs": [],
   "source": []
  },
  {
   "cell_type": "code",
   "execution_count": null,
   "metadata": {
    "collapsed": true
   },
   "outputs": [],
   "source": []
  },
  {
   "cell_type": "code",
   "execution_count": 195,
   "metadata": {
    "collapsed": false
   },
   "outputs": [
    {
     "name": "stdout",
     "output_type": "stream",
     "text": [
      "(360115, 12)\n"
     ]
    }
   ],
   "source": [
    "#pipeline\n",
    "#load data\n",
    "#datafile='Data/singleton_data_mini.tab'\n",
    "\n",
    "datafile='Data/singleton_data.tab'\n",
    "X,labels = load_data(datafile)\n",
    "\n",
    "#shuffle dataset\n",
    "dataset_shf,labels_shf = randomize(X, labels)\n",
    "\n",
    "#get sizes of division\n",
    "train_dataset=dataset_shf[:int(train_size),:]\n",
    "valid_dataset=dataset_shf[int(train_size):int(train_size+val_size),:]\n",
    "test_dataset=dataset_shf[int(train_size+val_size):,:]\n",
    "train_labels=labels_shf[:int(train_size)]\n",
    "valid_labels=labels_shf[int(train_size):int(train_size+val_size)]\n",
    "test_labels=labels_shf[int(train_size+val_size):]\n",
    "\n",
    "#divide the dataset\n",
    "train_dataset, train_labels = randomize(train_dataset, train_labels)\n",
    "test_dataset, test_labels = randomize(test_dataset, test_labels)\n",
    "valid_dataset, valid_labels = randomize(valid_dataset, valid_labels)"
   ]
  },
  {
   "cell_type": "code",
   "execution_count": null,
   "metadata": {
    "collapsed": true
   },
   "outputs": [],
   "source": []
  },
  {
   "cell_type": "code",
   "execution_count": 200,
   "metadata": {
    "collapsed": false
   },
   "outputs": [
    {
     "name": "stdout",
     "output_type": "stream",
     "text": [
      "Initialized\n",
      "Minibatch loss at step 0: 0.697906\n",
      "Minibatch accuracy: 34.2%\n",
      "Validation accuracy: 82.2%\n",
      "Minibatch loss at step 500: 0.488197\n",
      "Minibatch accuracy: 80.8%\n",
      "Validation accuracy: 82.3%\n",
      "Minibatch loss at step 1000: 0.466557\n",
      "Minibatch accuracy: 82.2%\n",
      "Validation accuracy: 82.3%\n",
      "Minibatch loss at step 1500: 0.473457\n",
      "Minibatch accuracy: 81.7%\n",
      "Validation accuracy: 82.3%\n",
      "Minibatch loss at step 2000: 0.472589\n",
      "Minibatch accuracy: 81.8%\n",
      "Validation accuracy: 82.3%\n",
      "Minibatch loss at step 2500: 0.511490\n",
      "Minibatch accuracy: 79.1%\n",
      "Validation accuracy: 82.3%\n",
      "Minibatch loss at step 3000: 0.477617\n",
      "Minibatch accuracy: 81.3%\n",
      "Validation accuracy: 82.3%\n",
      "Minibatch loss at step 3500: 0.434291\n",
      "Minibatch accuracy: 84.4%\n",
      "Validation accuracy: 82.3%\n",
      "Minibatch loss at step 4000: 0.514738\n",
      "Minibatch accuracy: 79.0%\n",
      "Validation accuracy: 82.3%\n",
      "Minibatch loss at step 4500: 0.443015\n",
      "Minibatch accuracy: 83.7%\n",
      "Validation accuracy: 82.3%\n",
      "Minibatch loss at step 5000: 0.478120\n",
      "Minibatch accuracy: 81.4%\n",
      "Validation accuracy: 82.3%\n",
      "Minibatch loss at step 5500: 0.462529\n",
      "Minibatch accuracy: 82.3%\n",
      "Validation accuracy: 82.3%\n",
      "Test accuracy: 81.3%\n"
     ]
    }
   ],
   "source": [
    "#set of a tf graph\n",
    "\n",
    "num_nodes= 1\n",
    "batch_size = 1024\n",
    "input_size=X.shape[1]#dimension of each input vector\n",
    "num_labels=2\n",
    "\n",
    "graph = tf.Graph()\n",
    "with graph.as_default():\n",
    "\n",
    "    # Input data. For the training data, we use a placeholder that will be fed\n",
    "    # at run time with a training minibatch.\n",
    "    tf_train_dataset = tf.placeholder(tf.float32,\n",
    "                                      shape=(batch_size, input_size))\n",
    "    tf_train_labels = tf.placeholder(tf.float32, shape=(batch_size, num_labels))\n",
    "    tf_valid_dataset = tf.constant(valid_dataset)\n",
    "    tf_test_dataset = tf.constant(test_dataset)\n",
    "\n",
    "    # Variables.\n",
    "    weights_1 = tf.Variable(\n",
    "      tf.truncated_normal([input_size, num_nodes]))\n",
    "    biases_1 = tf.Variable(tf.zeros([num_nodes]))\n",
    "    weights_2 = tf.Variable(\n",
    "      tf.truncated_normal([num_nodes, num_labels]))\n",
    "    biases_2 = tf.Variable(tf.zeros([num_labels]))\n",
    "\n",
    "    # Training computation.\n",
    "    relu_layer=tf.nn.relu(tf.matmul(tf_train_dataset, weights_1) + biases_1)#notice the shape of tf_train_dataset and weights_1\n",
    "    logits = tf.matmul(relu_layer, weights_2) + biases_2\n",
    "    loss = tf.reduce_mean(\n",
    "      tf.nn.softmax_cross_entropy_with_logits(logits, tf_train_labels))\n",
    "\n",
    "    # Optimizer.\n",
    "    optimizer = tf.train.GradientDescentOptimizer(0.1).minimize(loss)\n",
    "\n",
    "    # Predictions for the training, validation, and test data.\n",
    "    train_prediction = tf.nn.softmax(logits)\n",
    "    valid_prediction = tf.nn.softmax(\n",
    "     tf.matmul(tf.nn.relu(tf.matmul(tf_valid_dataset, weights_1) + biases_1), weights_2) + biases_2)\n",
    "    test_prediction =  tf.nn.softmax(\n",
    "     tf.matmul(tf.nn.relu(tf.matmul(tf_test_dataset, weights_1) + biases_1), weights_2) + biases_2)\n",
    "\n",
    "\n",
    "    num_steps = 6000\n",
    "    train_acc=[]\n",
    "    valid_acc=[]\n",
    "    with tf.Session(graph=graph) as session:\n",
    "        tf.initialize_all_variables().run()\n",
    "        print(\"Initialized\")\n",
    "        for step in range(num_steps):\n",
    "            # Pick an offset within the training data, which has been randomized.\n",
    "            # Note: we could use better randomization across epochs.\n",
    "            offset = (step * batch_size) % (train_labels.shape[0] - batch_size)\n",
    "            # Generate a minibatch.\n",
    "            batch_data = train_dataset[offset:(offset + batch_size), :]\n",
    "            batch_labels = train_labels[offset:(offset + batch_size), :]\n",
    "            # Prepare a dictionary telling the session where to feed the minibatch.\n",
    "            # The key of the dictionary is the placeholder node of the graph to be fed,\n",
    "            # and the value is the numpy array to feed to it.\n",
    "            feed_dict = {tf_train_dataset : batch_data, tf_train_labels : batch_labels}\n",
    "            _, l, predictions = session.run(\n",
    "              [optimizer, loss, train_prediction], feed_dict=feed_dict)\n",
    "            if (step % 500 == 0):\n",
    "                print(\"Minibatch loss at step %d: %f\" % (step, l))\n",
    "                print(\"Minibatch accuracy: %.1f%%\" % accuracy(predictions, batch_labels))\n",
    "                print(\"Validation accuracy: %.1f%%\" % accuracy(\n",
    "                valid_prediction.eval(), valid_labels))\n",
    "                train_acc.append(accuracy(predictions, batch_labels))\n",
    "                valid_acc.append(accuracy(\n",
    "                valid_prediction.eval(), valid_labels))\n",
    "        print(\"Test accuracy: %.1f%%\" % accuracy(test_prediction.eval(), test_labels))\n"
   ]
  },
  {
   "cell_type": "code",
   "execution_count": null,
   "metadata": {
    "collapsed": true
   },
   "outputs": [],
   "source": []
  },
  {
   "cell_type": "code",
   "execution_count": null,
   "metadata": {
    "collapsed": true
   },
   "outputs": [],
   "source": []
  },
  {
   "cell_type": "code",
   "execution_count": 198,
   "metadata": {
    "collapsed": false
   },
   "outputs": [
    {
     "data": {
      "image/png": "[encoded data removed]",
      "text/plain": [
       "<matplotlib.figure.Figure at 0x12222bb50>"
      ]
     },
     "metadata": {},
     "output_type": "display_data"
    }
   ],
   "source": [
    "plot_tf()"
   ]
  },
  {
   "cell_type": "code",
   "execution_count": null,
   "metadata": {
    "collapsed": true
   },
   "outputs": [],
   "source": []
  },
  {
   "cell_type": "markdown",
   "metadata": {},
   "source": [
    "#### comments & questions\n",
    "\n",
    "-----\n",
    "1. due to minibatch stochastic GD, the loss is not monotonically decreasing, and accuracy is not monotonically increasing. \n",
    "2. perhaps due to the nature of the dataset, the validation accuracy tend to be stuck at a constant for many steps. \n",
    "3. this is binary classification, but the class are imbalanced, so we should compute precision, recall, and F1 score.\n",
    "4. num_steps, batch size, learning rate, num_nodes, so far I didn't observe a effect of changing these (hyper) parameters.\n",
    "5. one observation is that validation accuracy is high on the first run. That might be due to the class imbalance. \n",
    "\n",
    "Questions\n",
    "\n",
    "5. would using classic GD on all of dataset make a difference?\n",
    "6. how to choose num_nodes?\n",
    "7. does the class being binary (and imbalanced) make a difference than when we were doing the 10-class classification on the notMNIST dataset?\n"
   ]
  },
  {
   "cell_type": "code",
   "execution_count": null,
   "metadata": {
    "collapsed": true
   },
   "outputs": [],
   "source": []
  },
  {
   "cell_type": "markdown",
   "metadata": {
    "collapsed": true
   },
   "source": [
    "# log"
   ]
  },
  {
   "cell_type": "markdown",
   "metadata": {},
   "source": [
    "## mini-dataset"
   ]
  },
  {
   "cell_type": "markdown",
   "metadata": {},
   "source": [
    "Initialized\n",
    "Minibatch loss at step 0: 0.582814\n",
    "Minibatch accuracy: 75.8%\n",
    "Validation accuracy: 85.4%\n",
    "Minibatch loss at step 500: 0.416510\n",
    "Minibatch accuracy: 82.8%\n",
    "Validation accuracy: 86.1%\n",
    "Minibatch loss at step 1000: 0.475506\n",
    "Minibatch accuracy: 85.2%\n",
    "Validation accuracy: 85.4%\n",
    "Minibatch loss at step 1500: 0.329039\n",
    "Minibatch accuracy: 88.3%\n",
    "Validation accuracy: 85.4%\n",
    "Minibatch loss at step 2000: 0.299905\n",
    "Minibatch accuracy: 89.8%\n",
    "Validation accuracy: 85.4%\n",
    "Minibatch loss at step 2500: 0.272275\n",
    "Minibatch accuracy: 92.2%\n",
    "Validation accuracy: 85.4%\n",
    "Minibatch loss at step 3000: 0.454670\n",
    "Minibatch accuracy: 80.5%\n",
    "Validation accuracy: 84.8%\n",
    "Minibatch loss at step 3500: 0.303915\n",
    "Minibatch accuracy: 88.3%\n",
    "Validation accuracy: 85.4%\n",
    "Minibatch loss at step 4000: 0.431240\n",
    "Minibatch accuracy: 81.2%\n",
    "Validation accuracy: 85.8%\n",
    "Minibatch loss at step 4500: 0.289312\n",
    "Minibatch accuracy: 90.6%\n",
    "Validation accuracy: 85.4%\n",
    "Minibatch loss at step 5000: 0.373971\n",
    "Minibatch accuracy: 87.5%\n",
    "Validation accuracy: 85.4%\n",
    "Minibatch loss at step 5500: 0.358365\n",
    "Minibatch accuracy: 86.7%\n",
    "Validation accuracy: 85.4%\n",
    "Minibatch loss at step 6000: 0.411559\n",
    "Minibatch accuracy: 85.9%\n",
    "Validation accuracy: 86.2%\n",
    "Minibatch loss at step 6500: 0.382444\n",
    "Minibatch accuracy: 85.2%\n",
    "Validation accuracy: 85.4%\n",
    "Minibatch loss at step 7000: 0.414857\n",
    "Minibatch accuracy: 82.0%\n",
    "Validation accuracy: 86.4%\n",
    "Minibatch loss at step 7500: 0.339491\n",
    "Minibatch accuracy: 86.7%\n",
    "Validation accuracy: 85.5%\n",
    "Minibatch loss at step 8000: 0.362756\n",
    "Minibatch accuracy: 89.8%\n",
    "Validation accuracy: 85.4%\n",
    "Minibatch loss at step 8500: 0.351650\n",
    "Minibatch accuracy: 85.2%\n",
    "Validation accuracy: 85.4%\n",
    "Minibatch loss at step 9000: 0.317820\n",
    "Minibatch accuracy: 89.1%\n",
    "Validation accuracy: 85.4%\n",
    "Minibatch loss at step 9500: 0.336574\n",
    "Minibatch accuracy: 87.5%\n",
    "Validation accuracy: 85.5%\n",
    "Test accuracy: 85.5%"
   ]
  },
  {
   "cell_type": "markdown",
   "metadata": {},
   "source": [
    "## entire data set "
   ]
  },
  {
   "cell_type": "markdown",
   "metadata": {},
   "source": [
    "Initialized\n",
    "Minibatch loss at step 0: 0.659597\n",
    "Minibatch accuracy: 70.3%\n",
    "Validation accuracy: 81.8%\n",
    "Minibatch loss at step 500: 0.437850\n",
    "Minibatch accuracy: 82.0%\n",
    "Validation accuracy: 81.8%\n",
    "Minibatch loss at step 1000: 0.565422\n",
    "Minibatch accuracy: 73.4%\n",
    "Validation accuracy: 80.8%\n",
    "Minibatch loss at step 1500: 0.413734\n",
    "Minibatch accuracy: 83.6%\n",
    "Validation accuracy: 81.8%\n",
    "Minibatch loss at step 2000: 0.493438\n",
    "Minibatch accuracy: 78.9%\n",
    "Validation accuracy: 81.8%\n",
    "Minibatch loss at step 2500: 0.447245\n",
    "Minibatch accuracy: 80.5%\n",
    "Validation accuracy: 81.8%\n",
    "Minibatch loss at step 3000: 0.430532\n",
    "Minibatch accuracy: 82.0%\n",
    "Validation accuracy: 81.8%\n",
    "Minibatch loss at step 3500: 0.366882\n",
    "Minibatch accuracy: 84.4%\n",
    "Validation accuracy: 81.8%\n",
    "Minibatch loss at step 4000: 0.415628\n",
    "Minibatch accuracy: 84.4%\n",
    "Validation accuracy: 81.8%\n",
    "Minibatch loss at step 4500: 0.456031\n",
    "Minibatch accuracy: 80.5%\n",
    "Validation accuracy: 81.8%\n",
    "Minibatch loss at step 5000: 0.491827\n",
    "Minibatch accuracy: 77.3%\n",
    "Validation accuracy: 81.8%\n",
    "Minibatch loss at step 5500: 0.451488\n",
    "Minibatch accuracy: 81.2%\n",
    "Validation accuracy: 81.8%\n",
    "Minibatch loss at step 6000: 0.467469\n",
    "Minibatch accuracy: 84.4%\n",
    "Validation accuracy: 81.8%\n",
    "Minibatch loss at step 6500: 0.418132\n",
    "Minibatch accuracy: 84.4%\n",
    "Validation accuracy: 81.8%\n",
    "Minibatch loss at step 7000: 0.438457\n",
    "Minibatch accuracy: 81.2%\n",
    "Validation accuracy: 81.8%\n",
    "Minibatch loss at step 7500: 0.495283\n",
    "Minibatch accuracy: 77.3%\n",
    "Validation accuracy: 81.7%\n",
    "Minibatch loss at step 8000: 0.420322\n",
    "Minibatch accuracy: 84.4%\n",
    "Validation accuracy: 81.8%\n",
    "Minibatch loss at step 8500: 0.432092\n",
    "Minibatch accuracy: 80.5%\n",
    "Validation accuracy: 81.8%\n",
    "Minibatch loss at step 9000: 0.460472\n",
    "Minibatch accuracy: 82.0%\n",
    "Validation accuracy: 81.8%\n",
    "Minibatch loss at step 9500: 0.455226\n",
    "Minibatch accuracy: 83.6%\n",
    "Validation accuracy: 81.8%\n",
    "Test accuracy: 81.3%"
   ]
  },
  {
   "cell_type": "markdown",
   "metadata": {},
   "source": [
    "actually, the imbalance of the classes is a problem in this case since the mini batch is likely to get not much of the rare class. "
   ]
  },
  {
   "cell_type": "code",
   "execution_count": null,
   "metadata": {
    "collapsed": true
   },
   "outputs": [],
   "source": []
  },
  {
   "cell_type": "markdown",
   "metadata": {},
   "source": [
    "## Trying to construct a balanced subset and see what happens\n",
    "also, implement precision and recall"
   ]
  },
  {
   "cell_type": "code",
   "execution_count": null,
   "metadata": {
    "collapsed": true
   },
   "outputs": [],
   "source": [
    "#http://machinelearningmastery.com/tactics-to-combat-imbalanced-classes-in-your-machine-learning-dataset/\n",
    "#some tactics to overcome the imbalanced class problem. including resampling (oversample, undersample)"
   ]
  },
  {
   "cell_type": "markdown",
   "metadata": {},
   "source": [
    "### undersamping"
   ]
  },
  {
   "cell_type": "code",
   "execution_count": null,
   "metadata": {
    "collapsed": true
   },
   "outputs": [],
   "source": []
  },
  {
   "cell_type": "code",
   "execution_count": 238,
   "metadata": {
    "collapsed": false
   },
   "outputs": [
    {
     "name": "stdout",
     "output_type": "stream",
     "text": [
      "292958 67157\n"
     ]
    }
   ],
   "source": [
    "# under sampling \n",
    "#first we have all singleton cases of size c;\n",
    "#then we should randomly sample size roughly c of non-singleton \n",
    "#combine these two to form a dataset\n",
    "\n",
    "#work with shuffled data sets\n",
    "#dataset_shf,labels_shf\n",
    "ind_notsgt,ind_sgt=get_singleton(labels_shf)\n",
    "singleton_data=dataset_shf[ind_sgt]\n",
    "notsgt_data=dataset_shf[ind_notsgt]\n",
    "singleton_labels=labels_shf[ind_sgt]\n",
    "notsgt_labels=labels_shf[ind_notsgt]\n",
    "print (len(notsgt_data)+len(singleton_data)==len(labels_shf))\n",
    "print (len(notsgt_data),len(singleton_data))"
   ]
  },
  {
   "cell_type": "code",
   "execution_count": null,
   "metadata": {
    "collapsed": true
   },
   "outputs": [],
   "source": []
  },
  {
   "cell_type": "code",
   "execution_count": 250,
   "metadata": {
    "collapsed": false
   },
   "outputs": [
    {
     "name": "stdout",
     "output_type": "stream",
     "text": [
      "167157\n"
     ]
    }
   ],
   "source": [
    "import random\n",
    "num_notsgt_samples=100000\n",
    "notsgt_inds=random.sample(xrange(len(notsgt_data)),num_notsgt_samples)\n",
    "\n",
    "undersampled_notsgt=notsgt_data[notsgt_inds]\n",
    "undersampled_notsgt_labels=notsgt_labels[notsgt_inds]\n",
    "#construct the whole data set\n",
    "undersampled_data=np.concatenate((undersampled_notsgt,singleton_data), axis=0)\n",
    "undersampled_labels=np.concatenate((undersampled_notsgt_labels,singleton_labels), axis=0)\n",
    "\n",
    "#construct the whole labels\n",
    "#undersampled_notsgt_labels=\n",
    "print (len(undersampled_data))\n"
   ]
  },
  {
   "cell_type": "code",
   "execution_count": 256,
   "metadata": {
    "collapsed": false
   },
   "outputs": [
    {
     "data": {
      "text/plain": [
       "150441"
      ]
     },
     "execution_count": 256,
     "metadata": {},
     "output_type": "execute_result"
    }
   ],
   "source": [
    "int(len(undersampled_data)*0.9)"
   ]
  },
  {
   "cell_type": "code",
   "execution_count": null,
   "metadata": {
    "collapsed": true
   },
   "outputs": [],
   "source": []
  },
  {
   "cell_type": "code",
   "execution_count": null,
   "metadata": {
    "collapsed": true
   },
   "outputs": [],
   "source": []
  },
  {
   "cell_type": "code",
   "execution_count": null,
   "metadata": {
    "collapsed": true
   },
   "outputs": [],
   "source": []
  },
  {
   "cell_type": "code",
   "execution_count": 356,
   "metadata": {
    "collapsed": true
   },
   "outputs": [],
   "source": [
    "def plot_tf(train,valid):\n",
    "    x=np.linspace(0,len(train),len(train))\n",
    "    plt.plot(x,train,'bo-',label='train')\n",
    "    plt.plot(x,valid,'rx-',label='validation')\n",
    "    plt.legend(loc=4)"
   ]
  },
  {
   "cell_type": "code",
   "execution_count": null,
   "metadata": {
    "collapsed": true
   },
   "outputs": [],
   "source": []
  },
  {
   "cell_type": "code",
   "execution_count": 262,
   "metadata": {
    "collapsed": true
   },
   "outputs": [],
   "source": [
    "dataset_shf_und,labels_shf_und = randomize(undersampled_data, undersampled_labels)\n",
    "\n",
    "train_size=int(len(undersampled_data)*0.9)\n",
    "val_size=int(len(undersampled_data)*0.05)\n",
    "test_isze=int(len(undersampled_data)*0.05)\n",
    "\n",
    "#get sizes of division\n",
    "train_dataset=dataset_shf_und[:int(train_size),:]\n",
    "valid_dataset=dataset_shf_und[int(train_size):int(train_size+val_size),:]\n",
    "test_dataset=dataset_shf_und[int(train_size+val_size):,:]\n",
    "train_labels=labels_shf_und[:int(train_size)]\n",
    "valid_labels=labels_shf_und[int(train_size):int(train_size+val_size)]\n",
    "test_labels=labels_shf_und[int(train_size+val_size):]\n",
    "\n",
    "#divide the dataset\n",
    "train_dataset, train_labels = randomize(train_dataset, train_labels)\n",
    "test_dataset, test_labels = randomize(test_dataset, test_labels)\n",
    "valid_dataset, valid_labels = randomize(valid_dataset, valid_labels)"
   ]
  },
  {
   "cell_type": "code",
   "execution_count": 405,
   "metadata": {
    "collapsed": false
   },
   "outputs": [
    {
     "name": "stdout",
     "output_type": "stream",
     "text": [
      "Initialized\n",
      "Minibatch loss at step 0: 0.662868\n",
      "Minibatch accuracy: 57.8%\n",
      "Validation accuracy: 40.8%\n",
      "Minibatch prec,recall,F1: 0.000 0.000 0.000\n",
      "validation prec,recall,F1: 0.408 1.000 0.579\n",
      "===================\n",
      "Minibatch loss at step 1000: 0.668403\n",
      "Minibatch accuracy: 60.9%\n",
      "Validation accuracy: 63.4%\n",
      "Minibatch prec,recall,F1: 0.692 0.164 0.265\n",
      "validation prec,recall,F1: 0.536 0.763 0.629\n",
      "===================\n",
      "Minibatch loss at step 2000: 0.634103\n",
      "Minibatch accuracy: 62.5%\n",
      "Validation accuracy: 65.5%\n",
      "Minibatch prec,recall,F1: 0.548 0.727 0.625\n",
      "validation prec,recall,F1: 0.697 0.272 0.391\n",
      "===================\n",
      "Minibatch loss at step 3000: 0.709713\n",
      "Minibatch accuracy: 56.2%\n",
      "Validation accuracy: 53.2%\n",
      "Minibatch prec,recall,F1: 0.900 0.141 0.243\n",
      "validation prec,recall,F1: 0.465 0.968 0.628\n",
      "===================\n",
      "Minibatch loss at step 4000: 0.685800\n",
      "Minibatch accuracy: 57.8%\n",
      "Validation accuracy: 64.4%\n",
      "Minibatch prec,recall,F1: 0.000 0.000 0.000\n",
      "validation prec,recall,F1: 0.548 0.728 0.625\n",
      "===================\n",
      "Minibatch loss at step 5000: 0.676577\n",
      "Minibatch accuracy: 56.2%\n",
      "Validation accuracy: 61.7%\n",
      "Minibatch prec,recall,F1: 0.625 0.167 0.263\n",
      "validation prec,recall,F1: 0.520 0.772 0.621\n",
      "===================\n",
      "Minibatch loss at step 6000: 0.636879\n",
      "Minibatch accuracy: 61.7%\n",
      "Validation accuracy: 65.7%\n",
      "Minibatch prec,recall,F1: 0.750 0.211 0.329\n",
      "validation prec,recall,F1: 0.570 0.639 0.603\n",
      "===================\n",
      "Minibatch loss at step 7000: 0.630770\n",
      "Minibatch accuracy: 60.2%\n",
      "Validation accuracy: 66.4%\n",
      "Minibatch prec,recall,F1: 0.568 0.375 0.452\n",
      "validation prec,recall,F1: 0.609 0.491 0.544\n",
      "===================\n",
      "Minibatch loss at step 8000: 0.597535\n",
      "Minibatch accuracy: 68.0%\n",
      "Validation accuracy: 66.9%\n",
      "Minibatch prec,recall,F1: 0.625 0.408 0.494\n",
      "validation prec,recall,F1: 0.700 0.327 0.446\n",
      "===================\n",
      "Minibatch loss at step 9000: 0.749756\n",
      "Minibatch accuracy: 50.0%\n",
      "Validation accuracy: 59.5%\n",
      "Minibatch prec,recall,F1: 0.407 1.000 0.579\n",
      "validation prec,recall,F1: 0.875 0.008 0.016\n",
      "===================\n",
      "Minibatch loss at step 10000: 0.614442\n",
      "Minibatch accuracy: 67.2%\n",
      "Validation accuracy: 67.4%\n",
      "Minibatch prec,recall,F1: 0.667 0.091 0.160\n",
      "validation prec,recall,F1: 0.679 0.378 0.486\n",
      "===================\n",
      "Minibatch loss at step 11000: 0.577738\n",
      "Minibatch accuracy: 71.1%\n",
      "Validation accuracy: 62.7%\n",
      "Minibatch prec,recall,F1: 0.593 0.381 0.464\n",
      "validation prec,recall,F1: 0.753 0.127 0.218\n",
      "===================\n",
      "Minibatch loss at step 12000: 0.662363\n",
      "Minibatch accuracy: 60.2%\n",
      "Validation accuracy: 64.0%\n",
      "Minibatch prec,recall,F1: 1.000 0.073 0.136\n",
      "validation prec,recall,F1: 0.540 0.777 0.638\n",
      "===================\n",
      "Minibatch loss at step 13000: 0.580162\n",
      "Minibatch accuracy: 71.1%\n",
      "Validation accuracy: 66.8%\n",
      "Minibatch prec,recall,F1: 0.640 0.627 0.634\n",
      "validation prec,recall,F1: 0.705 0.321 0.441\n",
      "===================\n",
      "Minibatch loss at step 14000: 0.587920\n",
      "Minibatch accuracy: 68.0%\n",
      "Validation accuracy: 66.9%\n",
      "Minibatch prec,recall,F1: 0.737 0.280 0.406\n",
      "validation prec,recall,F1: 0.614 0.508 0.556\n",
      "===================\n",
      "Minibatch loss at step 15000: 0.575808\n",
      "Minibatch accuracy: 70.3%\n",
      "Validation accuracy: 67.4%\n",
      "Minibatch prec,recall,F1: 0.688 0.440 0.537\n",
      "validation prec,recall,F1: 0.685 0.371 0.481\n",
      "===================\n",
      "Minibatch loss at step 16000: 0.590183\n",
      "Minibatch accuracy: 67.2%\n",
      "Validation accuracy: 67.3%\n",
      "Minibatch prec,recall,F1: 0.667 0.091 0.160\n",
      "validation prec,recall,F1: 0.662 0.405 0.503\n",
      "===================\n",
      "Minibatch loss at step 17000: 0.712410\n",
      "Minibatch accuracy: 55.5%\n",
      "Validation accuracy: 66.6%\n",
      "Minibatch prec,recall,F1: 0.486 0.963 0.646\n",
      "validation prec,recall,F1: 0.696 0.319 0.437\n",
      "===================\n",
      "Minibatch loss at step 18000: 0.614851\n",
      "Minibatch accuracy: 65.6%\n",
      "Validation accuracy: 63.9%\n",
      "Minibatch prec,recall,F1: 0.528 0.596 0.560\n",
      "validation prec,recall,F1: 0.735 0.180 0.290\n",
      "===================\n",
      "Minibatch loss at step 19000: 0.542590\n",
      "Minibatch accuracy: 75.8%\n",
      "Validation accuracy: 65.0%\n",
      "Minibatch prec,recall,F1: 0.731 0.442 0.551\n",
      "validation prec,recall,F1: 0.721 0.229 0.347\n",
      "===================\n",
      "Minibatch loss at step 20000: 0.670127\n",
      "Minibatch accuracy: 62.5%\n",
      "Validation accuracy: 65.6%\n",
      "Minibatch prec,recall,F1: 0.714 0.333 0.455\n",
      "validation prec,recall,F1: 0.570 0.639 0.602\n",
      "===================\n",
      "Minibatch loss at step 21000: 0.572617\n",
      "Minibatch accuracy: 71.1%\n",
      "Validation accuracy: 63.3%\n",
      "Minibatch prec,recall,F1: 0.903 0.452 0.602\n",
      "validation prec,recall,F1: 0.535 0.755 0.627\n",
      "===================\n",
      "Minibatch loss at step 22000: 0.645177\n",
      "Minibatch accuracy: 60.9%\n",
      "Validation accuracy: 67.5%\n",
      "Minibatch prec,recall,F1: 0.511 0.451 0.479\n",
      "validation prec,recall,F1: 0.682 0.381 0.489\n",
      "===================\n",
      "Minibatch loss at step 23000: 0.621277\n",
      "Minibatch accuracy: 62.5%\n",
      "Validation accuracy: 66.5%\n",
      "Minibatch prec,recall,F1: 0.509 0.571 0.538\n",
      "validation prec,recall,F1: 0.707 0.305 0.426\n",
      "===================\n",
      "Minibatch loss at step 24000: 0.618097\n",
      "Minibatch accuracy: 68.8%\n",
      "Validation accuracy: 67.3%\n",
      "Minibatch prec,recall,F1: 0.635 0.611 0.623\n",
      "validation prec,recall,F1: 0.650 0.428 0.516\n",
      "===================\n",
      "Minibatch loss at step 25000: 0.605304\n",
      "Minibatch accuracy: 70.3%\n",
      "Validation accuracy: 67.2%\n",
      "Minibatch prec,recall,F1: 0.651 0.549 0.596\n",
      "validation prec,recall,F1: 0.681 0.369 0.479\n",
      "===================\n",
      "Minibatch loss at step 26000: 0.602698\n",
      "Minibatch accuracy: 69.5%\n",
      "Validation accuracy: 65.1%\n",
      "Minibatch prec,recall,F1: 0.574 0.660 0.614\n",
      "validation prec,recall,F1: 0.742 0.221 0.341\n",
      "===================\n",
      "Minibatch loss at step 27000: 0.593697\n",
      "Minibatch accuracy: 65.6%\n",
      "Validation accuracy: 67.1%\n",
      "Minibatch prec,recall,F1: 0.650 0.260 0.371\n",
      "validation prec,recall,F1: 0.634 0.455 0.530\n",
      "===================\n",
      "Minibatch loss at step 28000: 0.591941\n",
      "Minibatch accuracy: 69.5%\n",
      "Validation accuracy: 65.8%\n",
      "Minibatch prec,recall,F1: 0.577 0.349 0.435\n",
      "validation prec,recall,F1: 0.713 0.270 0.391\n",
      "===================\n",
      "Minibatch loss at step 29000: 0.577619\n",
      "Minibatch accuracy: 69.5%\n",
      "Validation accuracy: 66.6%\n",
      "Minibatch prec,recall,F1: 0.727 0.444 0.552\n",
      "validation prec,recall,F1: 0.618 0.473 0.536\n",
      "===================\n",
      "Minibatch loss at step 30000: 0.663577\n",
      "Minibatch accuracy: 63.3%\n",
      "Validation accuracy: 62.3%\n",
      "Minibatch prec,recall,F1: 0.429 0.615 0.505\n",
      "validation prec,recall,F1: 0.767 0.108 0.190\n",
      "===================\n",
      "Minibatch loss at step 31000: 0.608395\n",
      "Minibatch accuracy: 69.5%\n",
      "Validation accuracy: 67.2%\n",
      "Minibatch prec,recall,F1: 0.593 0.700 0.642\n",
      "validation prec,recall,F1: 0.703 0.339 0.458\n",
      "===================\n",
      "Minibatch loss at step 32000: 0.667563\n",
      "Minibatch accuracy: 62.5%\n",
      "Validation accuracy: 62.2%\n",
      "Minibatch prec,recall,F1: 0.867 0.220 0.351\n",
      "validation prec,recall,F1: 0.522 0.852 0.648\n",
      "===================\n",
      "Minibatch loss at step 33000: 0.606286\n",
      "Minibatch accuracy: 69.5%\n",
      "Validation accuracy: 67.5%\n",
      "Minibatch prec,recall,F1: 0.629 0.709 0.667\n",
      "validation prec,recall,F1: 0.677 0.387 0.492\n",
      "===================\n",
      "Minibatch loss at step 34000: 0.631601\n",
      "Minibatch accuracy: 63.3%\n",
      "Validation accuracy: 64.0%\n",
      "Minibatch prec,recall,F1: 0.492 0.630 0.552\n",
      "validation prec,recall,F1: 0.755 0.174 0.283\n",
      "===================\n",
      "Minibatch loss at step 35000: 0.576525\n",
      "Minibatch accuracy: 69.5%\n",
      "Validation accuracy: 65.5%\n",
      "Minibatch prec,recall,F1: 0.562 0.600 0.581\n",
      "validation prec,recall,F1: 0.742 0.235 0.357\n",
      "===================\n",
      "Minibatch loss at step 36000: 0.685035\n",
      "Minibatch accuracy: 53.1%\n",
      "Validation accuracy: 67.4%\n",
      "Minibatch prec,recall,F1: 0.490 0.879 0.630\n",
      "validation prec,recall,F1: 0.678 0.382 0.489\n",
      "===================\n",
      "Minibatch loss at step 37000: 0.766877\n",
      "Minibatch accuracy: 54.7%\n",
      "Validation accuracy: 58.7%\n",
      "Minibatch prec,recall,F1: 0.500 0.034 0.065\n",
      "validation prec,recall,F1: 0.496 0.907 0.641\n",
      "===================\n",
      "Minibatch loss at step 38000: 0.670373\n",
      "Minibatch accuracy: 61.7%\n",
      "Validation accuracy: 62.9%\n",
      "Minibatch prec,recall,F1: 0.767 0.354 0.484\n",
      "validation prec,recall,F1: 0.529 0.812 0.641\n",
      "===================\n",
      "Minibatch loss at step 39000: 0.640447\n",
      "Minibatch accuracy: 60.9%\n",
      "Validation accuracy: 67.5%\n",
      "Minibatch prec,recall,F1: 0.576 0.345 0.432\n",
      "validation prec,recall,F1: 0.616 0.538 0.575\n",
      "===================\n",
      "Test accuracy: 63.7%\n",
      "Test accuracy: 0.748 0.145 0.243\n"
     ]
    },
    {
     "data": {
      "text/plain": [
       "<matplotlib.text.Text at 0x127568f90>"
      ]
     },
     "execution_count": 405,
     "metadata": {},
     "output_type": "execute_result"
    },
    {
     "data": {
      "image/png": "[encoded data removed]",
      "text/plain": [
       "<matplotlib.figure.Figure at 0x1291dba10>"
      ]
     },
     "metadata": {},
     "output_type": "display_data"
    }
   ],
   "source": [
    "#set of a tf graph\n",
    "\n",
    "num_nodes= 1024\n",
    "batch_size = 128\n",
    "input_size=X.shape[1]#dimension of each input vector\n",
    "num_labels=2\n",
    "\n",
    "graph = tf.Graph()\n",
    "with graph.as_default():\n",
    "\n",
    "    # Input data. For the training data, we use a placeholder that will be fed\n",
    "    # at run time with a training minibatch.\n",
    "    tf_train_dataset = tf.placeholder(tf.float32,\n",
    "                                      shape=(batch_size, input_size))\n",
    "    tf_train_labels = tf.placeholder(tf.float32, shape=(batch_size, num_labels))\n",
    "    tf_valid_dataset = tf.constant(valid_dataset)\n",
    "    tf_test_dataset = tf.constant(test_dataset)\n",
    "\n",
    "    # Variables.\n",
    "    weights_1 = tf.Variable(\n",
    "      tf.truncated_normal([input_size, num_nodes]))\n",
    "    biases_1 = tf.Variable(tf.zeros([num_nodes]))\n",
    "    weights_2 = tf.Variable(\n",
    "      tf.truncated_normal([num_nodes, num_labels]))\n",
    "    biases_2 = tf.Variable(tf.zeros([num_labels]))\n",
    "\n",
    "    # Training computation.\n",
    "    relu_layer=tf.nn.relu(tf.matmul(tf_train_dataset, weights_1) + biases_1)#notice the shape of tf_train_dataset and weights_1\n",
    "    logits = tf.matmul(relu_layer, weights_2) + biases_2\n",
    "    loss = tf.reduce_mean(\n",
    "      tf.nn.softmax_cross_entropy_with_logits(logits, tf_train_labels))\n",
    "\n",
    "    # Optimizer.\n",
    "    optimizer = tf.train.GradientDescentOptimizer(0.1).minimize(loss)\n",
    "\n",
    "    # Predictions for the training, validation, and test data.\n",
    "    train_prediction = tf.nn.softmax(logits)\n",
    "    valid_prediction = tf.nn.softmax(\n",
    "     tf.matmul(tf.nn.relu(tf.matmul(tf_valid_dataset, weights_1) + biases_1), weights_2) + biases_2)\n",
    "    test_prediction =  tf.nn.softmax(\n",
    "     tf.matmul(tf.nn.relu(tf.matmul(tf_test_dataset, weights_1) + biases_1), weights_2) + biases_2)\n",
    "\n",
    "\n",
    "num_steps = 40000\n",
    "train_acc=[]\n",
    "valid_acc=[]\n",
    "train_F1=[]\n",
    "valid_F1=[]\n",
    "loss_log=[]\n",
    "    \n",
    "    \n",
    "with tf.Session(graph=graph) as session:\n",
    "    tf.initialize_all_variables().run()\n",
    "    print(\"Initialized\")\n",
    "    for step in range(num_steps):\n",
    "        # Pick an offset within the training data, which has been randomized.\n",
    "        # Note: we could use better randomization across epochs.\n",
    "        offset = (step * batch_size) % (train_labels.shape[0] - batch_size)\n",
    "        # Generate a minibatch.\n",
    "        batch_data = train_dataset[offset:(offset + batch_size), :]\n",
    "        batch_labels = train_labels[offset:(offset + batch_size), :]\n",
    "        # Prepare a dictionary telling the session where to feed the minibatch.\n",
    "        # The key of the dictionary is the placeholder node of the graph to be fed,\n",
    "        # and the value is the numpy array to feed to it.\n",
    "        feed_dict = {tf_train_dataset : batch_data, tf_train_labels : batch_labels}\n",
    "        _, l, predictions = session.run(\n",
    "          [optimizer, loss, train_prediction], feed_dict=feed_dict)\n",
    "        if (step % 1000 == 0):\n",
    "            print(\"Minibatch loss at step %d: %f\" % (step, l))\n",
    "            print(\"Minibatch accuracy: %.1f%%\" % accuracy(predictions, batch_labels))\n",
    "            print(\"Validation accuracy: %.1f%%\" % accuracy(\n",
    "            valid_prediction.eval(), valid_labels))\n",
    "            \n",
    "            print(\"Minibatch prec,recall,F1: %.3f %.3f %.3f\"  % precision_recall(predictions, batch_labels))\n",
    "            print(\"validation prec,recall,F1: %.3f %.3f %.3f\" % precision_recall(\n",
    "            valid_prediction.eval(), valid_labels))\n",
    "            \n",
    "            \n",
    "            loss_log.append(l)\n",
    "            train_acc.append(accuracy(predictions, batch_labels))\n",
    "            valid_acc.append(accuracy(\n",
    "            valid_prediction.eval(), valid_labels))\n",
    "            train_F1.append(precision_recall(predictions, batch_labels))\n",
    "            valid_F1.append(precision_recall(\n",
    "            valid_prediction.eval(), valid_labels))\n",
    "            print(\"===================\")\n",
    "    print(\"Test accuracy: %.1f%%\" % accuracy(test_prediction.eval(), test_labels))\n",
    "    print(\"Test accuracy: %.3f %.3f %.3f\" % precision_recall(test_prediction.eval(), test_labels))\n",
    "plot_tf(train_acc,valid_acc)\n",
    "plt.title('accuracy')"
   ]
  },
  {
   "cell_type": "code",
   "execution_count": null,
   "metadata": {
    "collapsed": true
   },
   "outputs": [],
   "source": []
  },
  {
   "cell_type": "code",
   "execution_count": null,
   "metadata": {
    "collapsed": true
   },
   "outputs": [],
   "source": []
  },
  {
   "cell_type": "code",
   "execution_count": null,
   "metadata": {
    "collapsed": true
   },
   "outputs": [],
   "source": []
  },
  {
   "cell_type": "code",
   "execution_count": null,
   "metadata": {
    "collapsed": true
   },
   "outputs": [],
   "source": []
  },
  {
   "cell_type": "code",
   "execution_count": null,
   "metadata": {
    "collapsed": true
   },
   "outputs": [],
   "source": [
    "#https://www.coursera.org/learn/machine-learning/lecture/9zJUs/mini-batch-gradient-descent"
   ]
  },
  {
   "cell_type": "code",
   "execution_count": null,
   "metadata": {
    "collapsed": true
   },
   "outputs": [],
   "source": []
  },
  {
   "cell_type": "code",
   "execution_count": 406,
   "metadata": {
    "collapsed": false
   },
   "outputs": [
    {
     "data": {
      "text/plain": [
       "<matplotlib.text.Text at 0x123c84510>"
      ]
     },
     "execution_count": 406,
     "metadata": {},
     "output_type": "execute_result"
    },
    {
     "data": {
      "image/png": "[encoded data removed]",
      "text/plain": [
       "<matplotlib.figure.Figure at 0x11e148f50>"
      ]
     },
     "metadata": {},
     "output_type": "display_data"
    }
   ],
   "source": [
    "#plot F1 scores\n",
    "f1t=[i[2] for i in train_F1]\n",
    "f1v=[i[2] for i in valid_F1]\n",
    "plot_tf(f1t,f1v)\n",
    "plt.title('F1 score')\n"
   ]
  },
  {
   "cell_type": "code",
   "execution_count": null,
   "metadata": {
    "collapsed": true
   },
   "outputs": [],
   "source": []
  },
  {
   "cell_type": "code",
   "execution_count": 407,
   "metadata": {
    "collapsed": false
   },
   "outputs": [
    {
     "data": {
      "text/plain": [
       "<matplotlib.text.Text at 0x129163750>"
      ]
     },
     "execution_count": 407,
     "metadata": {},
     "output_type": "execute_result"
    },
    {
     "data": {
      "image/png": "[encoded data removed]",
      "text/plain": [
       "<matplotlib.figure.Figure at 0x1297f5310>"
      ]
     },
     "metadata": {},
     "output_type": "display_data"
    }
   ],
   "source": [
    "\n",
    "plt.plot(loss_log)\n",
    "plt.title('loss function')"
   ]
  },
  {
   "cell_type": "code",
   "execution_count": null,
   "metadata": {
    "collapsed": true
   },
   "outputs": [],
   "source": []
  },
  {
   "cell_type": "code",
   "execution_count": null,
   "metadata": {
    "collapsed": true
   },
   "outputs": [],
   "source": []
  },
  {
   "cell_type": "code",
   "execution_count": null,
   "metadata": {
    "collapsed": true
   },
   "outputs": [],
   "source": []
  },
  {
   "cell_type": "code",
   "execution_count": null,
   "metadata": {
    "collapsed": true
   },
   "outputs": [],
   "source": []
  },
  {
   "cell_type": "code",
   "execution_count": null,
   "metadata": {
    "collapsed": true
   },
   "outputs": [],
   "source": []
  },
  {
   "cell_type": "code",
   "execution_count": null,
   "metadata": {
    "collapsed": true
   },
   "outputs": [],
   "source": []
  },
  {
   "cell_type": "code",
   "execution_count": null,
   "metadata": {
    "collapsed": true
   },
   "outputs": [],
   "source": []
  },
  {
   "cell_type": "code",
   "execution_count": null,
   "metadata": {
    "collapsed": true
   },
   "outputs": [],
   "source": []
  },
  {
   "cell_type": "code",
   "execution_count": null,
   "metadata": {
    "collapsed": true
   },
   "outputs": [],
   "source": []
  },
  {
   "cell_type": "code",
   "execution_count": null,
   "metadata": {
    "collapsed": true
   },
   "outputs": [],
   "source": []
  },
  {
   "cell_type": "code",
   "execution_count": null,
   "metadata": {
    "collapsed": true
   },
   "outputs": [],
   "source": []
  },
  {
   "cell_type": "code",
   "execution_count": null,
   "metadata": {
    "collapsed": true
   },
   "outputs": [],
   "source": []
  },
  {
   "cell_type": "code",
   "execution_count": 347,
   "metadata": {
    "collapsed": true
   },
   "outputs": [],
   "source": []
  },
  {
   "cell_type": "code",
   "execution_count": null,
   "metadata": {
    "collapsed": true
   },
   "outputs": [],
   "source": []
  },
  {
   "cell_type": "code",
   "execution_count": 362,
   "metadata": {
    "collapsed": false
   },
   "outputs": [],
   "source": [
    "def precision_recall(predictions,labels):\n",
    "#TP=np.sum(np.argmax(predictions, 1) == np.argmax(batch_labels, 1) == 0)\n",
    "\n",
    "    TP=0\n",
    "    predicted_sgt=np.sum(np.argmax(predictions,1)==0)\n",
    "    real_sgt=np.sum(np.argmax(labels,1)==0)\n",
    "    #print('[predicted_sgt:'+str(predicted_sgt)+\"  real_sgt:\"+str(real_sgt)+']')\n",
    "\n",
    "    for i in range(len(predictions)):\n",
    "        if np.argmax(predictions[i]) == np.argmax(labels[i]) == 0:\n",
    "            TP+=1\n",
    "    if predicted_sgt!=0:\n",
    "        precision=float(TP)/predicted_sgt\n",
    "    else:\n",
    "        precision=0\n",
    "    \n",
    "    recall=float(TP)/real_sgt\n",
    "    #print (\"[\"+str(precision)+str(recall)+']')\n",
    "    if precision==recall==0:\n",
    "        F1=0\n",
    "    else:\n",
    "        F1=(2*precision*recall)/(precision+recall)\n",
    "    return precision,recall,F1"
   ]
  },
  {
   "cell_type": "code",
   "execution_count": null,
   "metadata": {
    "collapsed": true
   },
   "outputs": [],
   "source": []
  },
  {
   "cell_type": "code",
   "execution_count": null,
   "metadata": {
    "collapsed": true
   },
   "outputs": [],
   "source": []
  },
  {
   "cell_type": "code",
   "execution_count": null,
   "metadata": {
    "collapsed": true
   },
   "outputs": [],
   "source": []
  },
  {
   "cell_type": "code",
   "execution_count": null,
   "metadata": {
    "collapsed": true
   },
   "outputs": [],
   "source": []
  }
 ],
 "metadata": {
  "kernelspec": {
   "display_name": "Python 2",
   "language": "python",
   "name": "python2"
  },
  "language_info": {
   "codemirror_mode": {
    "name": "ipython",
    "version": 2
   },
   "file_extension": ".py",
   "mimetype": "text/x-python",
   "name": "python",
   "nbconvert_exporter": "python",
   "pygments_lexer": "ipython2",
   "version": "2.7.12"
  }
 },
 "nbformat": 4,
 "nbformat_minor": 0
}
