{
 "cells": [
  {
   "cell_type": "markdown",
   "metadata": {},
   "source": [
    "# Deep learning: singleton classification in XRENNER\n"
   ]
  },
  {
   "cell_type": "code",
   "execution_count": null,
   "metadata": {
    "collapsed": true
   },
   "outputs": [],
   "source": []
  },
  {
   "cell_type": "code",
   "execution_count": 1,
   "metadata": {
    "collapsed": false
   },
   "outputs": [
    {
     "name": "stdout",
     "output_type": "stream",
     "text": [
      "/Users/zangsir/Desktop/deep_xrenner\n"
     ]
    }
   ],
   "source": [
    "cd ~/Desktop/deep_xrenner/"
   ]
  },
  {
   "cell_type": "code",
   "execution_count": 2,
   "metadata": {
    "collapsed": false
   },
   "outputs": [
    {
     "name": "stdout",
     "output_type": "stream",
     "text": [
      "\u001b[1m\u001b[34mData\u001b[m\u001b[m/               mlp_update.py       singleton_net.p     xrenner_xrenner.py\r\n"
     ]
    }
   ],
   "source": [
    "ls"
   ]
  },
  {
   "cell_type": "code",
   "execution_count": 3,
   "metadata": {
    "collapsed": true
   },
   "outputs": [],
   "source": [
    "# These are all the modules we'll be using later. Make sure you can import them\n",
    "# before proceeding further.\n",
    "from __future__ import print_function\n",
    "import numpy as np\n",
    "import tensorflow as tf\n",
    "from six.moves import cPickle as pickle\n",
    "from six.moves import range"
   ]
  },
  {
   "cell_type": "markdown",
   "metadata": {},
   "source": [
    "want: in the notMNIST data set like this:\n",
    "\n",
    "Training set (200000, 28, 28) (200000,)\n",
    "\n",
    "Validation set (10000, 28, 28) (10000,)\n",
    "\n",
    "Test set (10000, 28, 28) (10000,)\n",
    "\n",
    "and after transformation:\n",
    "\n",
    "Training set (200000, 784) (200000, 10)\n",
    "\n",
    "Validation set (10000, 784) (10000, 10)\n",
    "\n",
    "Test set (10000, 784) (10000, 10)"
   ]
  },
  {
   "cell_type": "code",
   "execution_count": null,
   "metadata": {
    "collapsed": true
   },
   "outputs": [],
   "source": []
  },
  {
   "cell_type": "code",
   "execution_count": null,
   "metadata": {
    "collapsed": true
   },
   "outputs": [],
   "source": []
  },
  {
   "cell_type": "markdown",
   "metadata": {},
   "source": [
    "## load data"
   ]
  },
  {
   "cell_type": "code",
   "execution_count": null,
   "metadata": {
    "collapsed": true
   },
   "outputs": [],
   "source": []
  },
  {
   "cell_type": "code",
   "execution_count": 122,
   "metadata": {
    "collapsed": false
   },
   "outputs": [],
   "source": [
    "def load_data(datafile):\n",
    "    data = np.loadtxt(datafile, delimiter=',')\n",
    "\n",
    "    # first ten values are the one hot encoded y (target) values\n",
    "    ####y = data[:, 0:10]\n",
    "    y = data[:, -1]\n",
    "    # y[y == 0] = -1 # if you are using a tanh transfer function make the 0 into -1\n",
    "    # y[y == 1] = .90 # try values that won't saturate tanh\n",
    "\n",
    "    data = data[:, :-1]  # x data\n",
    "    # data = data - data.mean(axis = 1)\n",
    "    data -= data.min()  # scale the data so values are between 0 and 1\n",
    "    data /= data.max()  # scale\n",
    "    out = []\n",
    "    labels=[]\n",
    "    print(data.shape)\n",
    "    label_dict={1:[0,1],0:[1,0]}\n",
    "    # populate the tuple list with the data\n",
    "    for i in range(data.shape[0]):\n",
    "        fart = list((data[i, :].tolist()))  # don't mind this variable name\n",
    "        out.append(fart)\n",
    "        #two classes one hot coding:two classes are [NS,S] y=1:[0,1]; y=0:[1,0]\n",
    "        labels.append(label_dict[y[i]])\n",
    "\n",
    "    return np.array(out,dtype=np.float32),np.array(labels,dtype=np.float32)"
   ]
  },
  {
   "cell_type": "code",
   "execution_count": null,
   "metadata": {
    "collapsed": true
   },
   "outputs": [],
   "source": []
  },
  {
   "cell_type": "code",
   "execution_count": null,
   "metadata": {
    "collapsed": true
   },
   "outputs": [],
   "source": []
  },
  {
   "cell_type": "code",
   "execution_count": null,
   "metadata": {
    "collapsed": true
   },
   "outputs": [],
   "source": []
  },
  {
   "cell_type": "code",
   "execution_count": 98,
   "metadata": {
    "collapsed": false
   },
   "outputs": [
    {
     "name": "stdout",
     "output_type": "stream",
     "text": [
      "(40000, 14)\n"
     ]
    }
   ],
   "source": [
    "datafile='Data/singleton_data_mini.tab'\n",
    "X,labels = load_data(datafile)\n"
   ]
  },
  {
   "cell_type": "code",
   "execution_count": 36,
   "metadata": {
    "collapsed": false
   },
   "outputs": [
    {
     "data": {
      "text/plain": [
       "40000"
      ]
     },
     "execution_count": 36,
     "metadata": {},
     "output_type": "execute_result"
    }
   ],
   "source": [
    "X.shape[0]"
   ]
  },
  {
   "cell_type": "code",
   "execution_count": 101,
   "metadata": {
    "collapsed": false
   },
   "outputs": [
    {
     "data": {
      "text/plain": [
       "array([[  6.71140943e-03,   2.68456377e-02,   0.00000000e+00, ...,\n",
       "          0.00000000e+00,   6.10128103e-04,   1.13177221e-05],\n",
       "       [  1.34228189e-02,   6.71140943e-03,   6.71140943e-03, ...,\n",
       "          0.00000000e+00,   1.22025621e-03,   2.26354441e-05],\n",
       "       [  6.71140943e-03,   1.34228189e-02,   0.00000000e+00, ...,\n",
       "          0.00000000e+00,   2.44051241e-03,   4.52708882e-05],\n",
       "       ..., \n",
       "       [  6.71140943e-03,   2.68456377e-02,   0.00000000e+00, ...,\n",
       "          0.00000000e+00,   4.72849282e-03,   2.08693999e-03],\n",
       "       [  1.94630876e-01,   2.01342274e-02,   6.71140943e-03, ...,\n",
       "          0.00000000e+00,   4.88102483e-03,   2.11065519e-03],\n",
       "       [  5.36912754e-02,   1.34228189e-02,   1.34228189e-02, ...,\n",
       "          0.00000000e+00,   5.79621736e-03,   2.25294661e-03]], dtype=float32)"
      ]
     },
     "execution_count": 101,
     "metadata": {},
     "output_type": "execute_result"
    }
   ],
   "source": [
    "X"
   ]
  },
  {
   "cell_type": "code",
   "execution_count": null,
   "metadata": {
    "collapsed": true
   },
   "outputs": [],
   "source": []
  },
  {
   "cell_type": "code",
   "execution_count": null,
   "metadata": {
    "collapsed": true
   },
   "outputs": [],
   "source": []
  },
  {
   "cell_type": "code",
   "execution_count": 32,
   "metadata": {
    "collapsed": false
   },
   "outputs": [
    {
     "data": {
      "text/plain": [
       "array([[0, 1],\n",
       "       [0, 1],\n",
       "       [1, 0],\n",
       "       ..., \n",
       "       [0, 1],\n",
       "       [0, 1],\n",
       "       [0, 1]])"
      ]
     },
     "execution_count": 32,
     "metadata": {},
     "output_type": "execute_result"
    }
   ],
   "source": [
    "labels"
   ]
  },
  {
   "cell_type": "markdown",
   "metadata": {},
   "source": [
    "## divide into dev, val, test sets"
   ]
  },
  {
   "cell_type": "code",
   "execution_count": 111,
   "metadata": {
    "collapsed": true
   },
   "outputs": [],
   "source": [
    "train_prop=0.9\n",
    "val_prop=0.05\n",
    "test_prop=0.05\n",
    "\n",
    "train_size=X.shape[0]*train_prop\n",
    "val_size=X.shape[0]*val_prop\n",
    "test_size=X.shape[0]*test_prop\n",
    "\n",
    "#should shuffle the dataset"
   ]
  },
  {
   "cell_type": "code",
   "execution_count": null,
   "metadata": {
    "collapsed": true
   },
   "outputs": [],
   "source": []
  },
  {
   "cell_type": "code",
   "execution_count": 50,
   "metadata": {
    "collapsed": true
   },
   "outputs": [],
   "source": [
    "def randomize(dataset, labels):\n",
    "    permutation = np.random.permutation(labels.shape[0])\n",
    "    shuffled_dataset = dataset[permutation,:]\n",
    "    shuffled_labels = labels[permutation]\n",
    "    return shuffled_dataset, shuffled_labels"
   ]
  },
  {
   "cell_type": "code",
   "execution_count": 113,
   "metadata": {
    "collapsed": false
   },
   "outputs": [],
   "source": [
    "#pipeline\n",
    "#load data\n",
    "datafile='Data/singleton_data_mini.tab'\n",
    "X,labels = load_data(datafile)\n",
    "\n",
    "#shuffle dataset\n",
    "dataset_shf,labels_shf = randomize(X, labels)\n",
    "\n",
    "#get sizes of division\n",
    "train_dataset=dataset_shf[:int(train_size),:]\n",
    "valid_dataset=dataset_shf[int(train_size):int(train_size+val_size),:]\n",
    "test_dataset=dataset_shf[int(train_size+val_size):,:]\n",
    "train_labels=labels_shf[:int(train_size)]\n",
    "valid_labels=labels_shf[int(train_size):int(train_size+val_size)]\n",
    "test_labels=labels_shf[int(train_size+val_size):]\n",
    "\n",
    "#divide the dataset\n",
    "train_dataset, train_labels = randomize(train_dataset, train_labels)\n",
    "test_dataset, test_labels = randomize(test_dataset, test_labels)\n",
    "valid_dataset, valid_labels = randomize(valid_dataset, valid_labels)"
   ]
  },
  {
   "cell_type": "code",
   "execution_count": 114,
   "metadata": {
    "collapsed": false
   },
   "outputs": [],
   "source": []
  },
  {
   "cell_type": "code",
   "execution_count": 115,
   "metadata": {
    "collapsed": false
   },
   "outputs": [
    {
     "data": {
      "text/plain": [
       "array([[ 0.02684564,  0.00671141,  0.        , ...,  0.        ,\n",
       "         0.00503356,  0.00433419],\n",
       "       [ 0.00671141,  0.02684564,  0.        , ...,  0.        ,\n",
       "         0.0059657 ,  0.00409857],\n",
       "       [ 0.06711409,  0.02013423,  0.        , ...,  0.        ,\n",
       "         0.00198292,  0.00483374],\n",
       "       ..., \n",
       "       [ 0.01342282,  0.01342282,  0.        , ...,  0.        ,\n",
       "         0.00491079,  0.00612212],\n",
       "       [ 0.02013423,  0.02013423,  0.        , ...,  0.        ,\n",
       "         0.00233882,  0.00421499],\n",
       "       [ 0.06040268,  0.02013423,  0.00671141, ...,  0.        ,\n",
       "         0.00457596,  0.00025422]], dtype=float32)"
      ]
     },
     "execution_count": 115,
     "metadata": {},
     "output_type": "execute_result"
    }
   ],
   "source": [
    "train_dataset"
   ]
  },
  {
   "cell_type": "code",
   "execution_count": null,
   "metadata": {
    "collapsed": true
   },
   "outputs": [],
   "source": []
  },
  {
   "cell_type": "code",
   "execution_count": null,
   "metadata": {
    "collapsed": true
   },
   "outputs": [],
   "source": []
  },
  {
   "cell_type": "code",
   "execution_count": null,
   "metadata": {
    "collapsed": true
   },
   "outputs": [],
   "source": []
  },
  {
   "cell_type": "code",
   "execution_count": 106,
   "metadata": {
    "collapsed": false
   },
   "outputs": [
    {
     "name": "stdout",
     "output_type": "stream",
     "text": [
      "(36000, 14) (36000, 2)\n",
      "(2000, 14) (2000, 2)\n",
      "(2000, 14) (2000, 2)\n"
     ]
    }
   ],
   "source": [
    "print (train_dataset.shape,train_labels.shape)\n",
    "print (valid_dataset.shape,valid_labels.shape)\n",
    "print (test_dataset.shape,test_labels.shape)"
   ]
  },
  {
   "cell_type": "code",
   "execution_count": null,
   "metadata": {
    "collapsed": true
   },
   "outputs": [],
   "source": []
  },
  {
   "cell_type": "code",
   "execution_count": 87,
   "metadata": {
    "collapsed": true
   },
   "outputs": [],
   "source": [
    "#wrote a function to return all the singleton indexes, but accidentlly deleted that. "
   ]
  },
  {
   "cell_type": "code",
   "execution_count": 116,
   "metadata": {
    "collapsed": false
   },
   "outputs": [
    {
     "name": "stdout",
     "output_type": "stream",
     "text": [
      "[ 0.00671141  0.02684564  0.          0.          0.          0.          0.\n",
      "  0.          0.00671141  0.          0.          0.          0.00494525\n",
      "  0.00033726] [ 0.  1.]\n",
      "[ 0.01342282  0.02013423  0.00671141  0.          0.          0.          0.\n",
      "  0.00671141  0.          0.          0.          0.          0.00064533\n",
      "  0.00386733] [ 0.  1.]\n",
      "[ 0.02684564  0.02013423  0.00671141  0.          0.          0.          0.\n",
      "  0.          0.00671141  0.          0.          0.          0.00366077\n",
      "  0.00437005] [ 0.  1.]\n"
     ]
    }
   ],
   "source": [
    "#check if the labels are still good after shuffling\n",
    "#it is good. \n",
    "print (train_dataset[12],train_labels[12])\n",
    "print (train_dataset[39],train_labels[39])\n",
    "print (train_dataset[10001],train_labels[10001])"
   ]
  },
  {
   "cell_type": "code",
   "execution_count": null,
   "metadata": {
    "collapsed": true
   },
   "outputs": [],
   "source": []
  },
  {
   "cell_type": "code",
   "execution_count": 117,
   "metadata": {
    "collapsed": false
   },
   "outputs": [
    {
     "data": {
      "text/plain": [
       "array([[ 0.02684564,  0.00671141,  0.        , ...,  0.        ,\n",
       "         0.00503356,  0.00433419],\n",
       "       [ 0.00671141,  0.02684564,  0.        , ...,  0.        ,\n",
       "         0.0059657 ,  0.00409857],\n",
       "       [ 0.06711409,  0.02013423,  0.        , ...,  0.        ,\n",
       "         0.00198292,  0.00483374],\n",
       "       ..., \n",
       "       [ 0.01342282,  0.01342282,  0.        , ...,  0.        ,\n",
       "         0.00491079,  0.00612212],\n",
       "       [ 0.02013423,  0.02013423,  0.        , ...,  0.        ,\n",
       "         0.00233882,  0.00421499],\n",
       "       [ 0.06040268,  0.02013423,  0.00671141, ...,  0.        ,\n",
       "         0.00457596,  0.00025422]], dtype=float32)"
      ]
     },
     "execution_count": 117,
     "metadata": {},
     "output_type": "execute_result"
    }
   ],
   "source": [
    "train_dataset"
   ]
  },
  {
   "cell_type": "code",
   "execution_count": null,
   "metadata": {
    "collapsed": true
   },
   "outputs": [],
   "source": []
  },
  {
   "cell_type": "code",
   "execution_count": null,
   "metadata": {
    "collapsed": true
   },
   "outputs": [],
   "source": []
  },
  {
   "cell_type": "code",
   "execution_count": 118,
   "metadata": {
    "collapsed": false
   },
   "outputs": [],
   "source": [
    "num_nodes= 1024\n",
    "batch_size = 128\n",
    "input_size=X.shape[1]\n",
    "num_labels=2\n",
    "\n",
    "graph = tf.Graph()\n",
    "with graph.as_default():\n",
    "\n",
    "    # Input data. For the training data, we use a placeholder that will be fed\n",
    "    # at run time with a training minibatch.\n",
    "    tf_train_dataset = tf.placeholder(tf.float32,\n",
    "                                      shape=(batch_size, input_size))\n",
    "    tf_train_labels = tf.placeholder(tf.float32, shape=(batch_size, num_labels))\n",
    "    tf_valid_dataset = tf.constant(valid_dataset)\n",
    "    tf_test_dataset = tf.constant(test_dataset)\n",
    "\n",
    "    # Variables.\n",
    "    weights_1 = tf.Variable(\n",
    "      tf.truncated_normal([input_size, num_nodes]))\n",
    "    biases_1 = tf.Variable(tf.zeros([num_nodes]))\n",
    "    weights_2 = tf.Variable(\n",
    "      tf.truncated_normal([num_nodes, num_labels]))\n",
    "    biases_2 = tf.Variable(tf.zeros([num_labels]))\n",
    "\n",
    "    # Training computation.\n",
    "    relu_layer=tf.nn.relu(tf.matmul(tf_train_dataset, weights_1) + biases_1)#notice the shape of tf_train_dataset and weights_1\n",
    "    logits = tf.matmul(relu_layer, weights_2) + biases_2\n",
    "    loss = tf.reduce_mean(\n",
    "      tf.nn.softmax_cross_entropy_with_logits(logits, tf_train_labels))\n",
    "\n",
    "    # Optimizer.\n",
    "    optimizer = tf.train.GradientDescentOptimizer(0.5).minimize(loss)\n",
    "\n",
    "    # Predictions for the training, validation, and test data.\n",
    "    train_prediction = tf.nn.softmax(logits)\n",
    "    valid_prediction = tf.nn.softmax(\n",
    "     tf.matmul(tf.nn.relu(tf.matmul(tf_valid_dataset, weights_1) + biases_1), weights_2) + biases_2)\n",
    "    test_prediction =  tf.nn.softmax(\n",
    "     tf.matmul(tf.nn.relu(tf.matmul(tf_test_dataset, weights_1) + biases_1), weights_2) + biases_2)"
   ]
  },
  {
   "cell_type": "code",
   "execution_count": 120,
   "metadata": {
    "collapsed": true
   },
   "outputs": [],
   "source": [
    "def accuracy(predictions, labels):\n",
    "    return (100.0 * np.sum(np.argmax(predictions, 1) == np.argmax(labels, 1))\n",
    "          / predictions.shape[0])"
   ]
  },
  {
   "cell_type": "code",
   "execution_count": null,
   "metadata": {
    "collapsed": true
   },
   "outputs": [],
   "source": []
  },
  {
   "cell_type": "code",
   "execution_count": 121,
   "metadata": {
    "collapsed": false
   },
   "outputs": [
    {
     "name": "stdout",
     "output_type": "stream",
     "text": [
      "Initialized\n",
      "Minibatch loss at step 0: 0.576419\n",
      "Minibatch accuracy: 77.3%\n",
      "Validation accuracy: 86.7%\n",
      "Minibatch loss at step 500: 0.303830\n",
      "Minibatch accuracy: 89.8%\n",
      "Validation accuracy: 86.7%\n",
      "Minibatch loss at step 1000: 0.433002\n",
      "Minibatch accuracy: 83.6%\n",
      "Validation accuracy: 86.7%\n",
      "Minibatch loss at step 1500: 0.393721\n",
      "Minibatch accuracy: 86.7%\n",
      "Validation accuracy: 86.7%\n",
      "Minibatch loss at step 2000: 0.296616\n",
      "Minibatch accuracy: 89.8%\n",
      "Validation accuracy: 86.7%\n",
      "Minibatch loss at step 2500: 0.398171\n",
      "Minibatch accuracy: 86.7%\n",
      "Validation accuracy: 86.7%\n",
      "Minibatch loss at step 3000: 0.321350\n",
      "Minibatch accuracy: 89.8%\n",
      "Validation accuracy: 86.7%\n",
      "Test accuracy: 85.0%\n"
     ]
    }
   ],
   "source": [
    "num_steps = 3001\n",
    "\n",
    "with tf.Session(graph=graph) as session:\n",
    "  tf.initialize_all_variables().run()\n",
    "  print(\"Initialized\")\n",
    "  for step in range(num_steps):\n",
    "    # Pick an offset within the training data, which has been randomized.\n",
    "    # Note: we could use better randomization across epochs.\n",
    "    offset = (step * batch_size) % (train_labels.shape[0] - batch_size)\n",
    "    # Generate a minibatch.\n",
    "    batch_data = train_dataset[offset:(offset + batch_size), :]\n",
    "    batch_labels = train_labels[offset:(offset + batch_size), :]\n",
    "    # Prepare a dictionary telling the session where to feed the minibatch.\n",
    "    # The key of the dictionary is the placeholder node of the graph to be fed,\n",
    "    # and the value is the numpy array to feed to it.\n",
    "    feed_dict = {tf_train_dataset : batch_data, tf_train_labels : batch_labels}\n",
    "    _, l, predictions = session.run(\n",
    "      [optimizer, loss, train_prediction], feed_dict=feed_dict)\n",
    "    if (step % 500 == 0):\n",
    "      print(\"Minibatch loss at step %d: %f\" % (step, l))\n",
    "      print(\"Minibatch accuracy: %.1f%%\" % accuracy(predictions, batch_labels))\n",
    "      print(\"Validation accuracy: %.1f%%\" % accuracy(\n",
    "        valid_prediction.eval(), valid_labels))\n",
    "  print(\"Test accuracy: %.1f%%\" % accuracy(test_prediction.eval(), test_labels))"
   ]
  },
  {
   "cell_type": "markdown",
   "metadata": {},
   "source": [
    "## data process pipeline using tensorflow"
   ]
  },
  {
   "cell_type": "code",
   "execution_count": 123,
   "metadata": {
    "collapsed": false
   },
   "outputs": [
    {
     "name": "stdout",
     "output_type": "stream",
     "text": [
      "(360115, 12)\n"
     ]
    }
   ],
   "source": [
    "#pipeline\n",
    "#load data\n",
    "datafile='Data/singleton_data_mini.tab'\n",
    "datafile='Data/singleton_data.tab'\n",
    "X,labels = load_data(datafile)\n",
    "\n",
    "#shuffle dataset\n",
    "dataset_shf,labels_shf = randomize(X, labels)\n",
    "\n",
    "#get sizes of division\n",
    "train_dataset=dataset_shf[:int(train_size),:]\n",
    "valid_dataset=dataset_shf[int(train_size):int(train_size+val_size),:]\n",
    "test_dataset=dataset_shf[int(train_size+val_size):,:]\n",
    "train_labels=labels_shf[:int(train_size)]\n",
    "valid_labels=labels_shf[int(train_size):int(train_size+val_size)]\n",
    "test_labels=labels_shf[int(train_size+val_size):]\n",
    "\n",
    "#divide the dataset\n",
    "train_dataset, train_labels = randomize(train_dataset, train_labels)\n",
    "test_dataset, test_labels = randomize(test_dataset, test_labels)\n",
    "valid_dataset, valid_labels = randomize(valid_dataset, valid_labels)"
   ]
  },
  {
   "cell_type": "code",
   "execution_count": null,
   "metadata": {
    "collapsed": true
   },
   "outputs": [],
   "source": []
  },
  {
   "cell_type": "code",
   "execution_count": 124,
   "metadata": {
    "collapsed": true
   },
   "outputs": [],
   "source": [
    "#set of a tf graph\n",
    "num_nodes= 1024\n",
    "batch_size = 128\n",
    "input_size=X.shape[1]\n",
    "num_labels=2\n",
    "\n",
    "graph = tf.Graph()\n",
    "with graph.as_default():\n",
    "\n",
    "    # Input data. For the training data, we use a placeholder that will be fed\n",
    "    # at run time with a training minibatch.\n",
    "    tf_train_dataset = tf.placeholder(tf.float32,\n",
    "                                      shape=(batch_size, input_size))\n",
    "    tf_train_labels = tf.placeholder(tf.float32, shape=(batch_size, num_labels))\n",
    "    tf_valid_dataset = tf.constant(valid_dataset)\n",
    "    tf_test_dataset = tf.constant(test_dataset)\n",
    "\n",
    "    # Variables.\n",
    "    weights_1 = tf.Variable(\n",
    "      tf.truncated_normal([input_size, num_nodes]))\n",
    "    biases_1 = tf.Variable(tf.zeros([num_nodes]))\n",
    "    weights_2 = tf.Variable(\n",
    "      tf.truncated_normal([num_nodes, num_labels]))\n",
    "    biases_2 = tf.Variable(tf.zeros([num_labels]))\n",
    "\n",
    "    # Training computation.\n",
    "    relu_layer=tf.nn.relu(tf.matmul(tf_train_dataset, weights_1) + biases_1)#notice the shape of tf_train_dataset and weights_1\n",
    "    logits = tf.matmul(relu_layer, weights_2) + biases_2\n",
    "    loss = tf.reduce_mean(\n",
    "      tf.nn.softmax_cross_entropy_with_logits(logits, tf_train_labels))\n",
    "\n",
    "    # Optimizer.\n",
    "    optimizer = tf.train.GradientDescentOptimizer(0.5).minimize(loss)\n",
    "\n",
    "    # Predictions for the training, validation, and test data.\n",
    "    train_prediction = tf.nn.softmax(logits)\n",
    "    valid_prediction = tf.nn.softmax(\n",
    "     tf.matmul(tf.nn.relu(tf.matmul(tf_valid_dataset, weights_1) + biases_1), weights_2) + biases_2)\n",
    "    test_prediction =  tf.nn.softmax(\n",
    "     tf.matmul(tf.nn.relu(tf.matmul(tf_test_dataset, weights_1) + biases_1), weights_2) + biases_2)"
   ]
  },
  {
   "cell_type": "code",
   "execution_count": null,
   "metadata": {
    "collapsed": true
   },
   "outputs": [],
   "source": []
  },
  {
   "cell_type": "code",
   "execution_count": 126,
   "metadata": {
    "collapsed": false
   },
   "outputs": [
    {
     "name": "stdout",
     "output_type": "stream",
     "text": [
      "Initialized\n",
      "Minibatch loss at step 0: 0.768551\n",
      "Minibatch accuracy: 56.2%\n",
      "Validation accuracy: 80.3%\n",
      "Minibatch loss at step 500: 0.389067\n",
      "Minibatch accuracy: 86.7%\n",
      "Validation accuracy: 80.3%\n",
      "Minibatch loss at step 1000: 0.461038\n",
      "Minibatch accuracy: 82.8%\n",
      "Validation accuracy: 80.3%\n",
      "Minibatch loss at step 1500: 0.503479\n",
      "Minibatch accuracy: 78.9%\n",
      "Validation accuracy: 80.3%\n",
      "Minibatch loss at step 2000: 0.467837\n",
      "Minibatch accuracy: 80.5%\n",
      "Validation accuracy: 80.3%\n",
      "Minibatch loss at step 2500: 0.403675\n",
      "Minibatch accuracy: 85.2%\n",
      "Validation accuracy: 80.3%\n",
      "Minibatch loss at step 3000: 0.498244\n",
      "Minibatch accuracy: 78.9%\n",
      "Validation accuracy: 80.3%\n",
      "Minibatch loss at step 3500: 0.429803\n",
      "Minibatch accuracy: 83.6%\n",
      "Validation accuracy: 80.3%\n",
      "Minibatch loss at step 4000: 0.395747\n",
      "Minibatch accuracy: 85.2%\n",
      "Validation accuracy: 80.3%\n",
      "Minibatch loss at step 4500: 0.410204\n",
      "Minibatch accuracy: 85.2%\n",
      "Validation accuracy: 80.3%\n",
      "Minibatch loss at step 5000: 0.516976\n",
      "Minibatch accuracy: 78.9%\n",
      "Validation accuracy: 80.3%\n",
      "Minibatch loss at step 5500: 0.624003\n",
      "Minibatch accuracy: 74.2%\n",
      "Validation accuracy: 80.3%\n",
      "Minibatch loss at step 6000: 0.459419\n",
      "Minibatch accuracy: 82.8%\n",
      "Validation accuracy: 80.3%\n",
      "Minibatch loss at step 6500: 0.400214\n",
      "Minibatch accuracy: 85.2%\n",
      "Validation accuracy: 80.3%\n",
      "Minibatch loss at step 7000: 0.460815\n",
      "Minibatch accuracy: 82.8%\n",
      "Validation accuracy: 80.3%\n",
      "Minibatch loss at step 7500: 0.507723\n",
      "Minibatch accuracy: 79.7%\n",
      "Validation accuracy: 80.3%\n",
      "Minibatch loss at step 8000: 0.393415\n",
      "Minibatch accuracy: 85.2%\n",
      "Validation accuracy: 80.3%\n",
      "Minibatch loss at step 8500: 0.437925\n",
      "Minibatch accuracy: 82.8%\n",
      "Validation accuracy: 80.3%\n",
      "Minibatch loss at step 9000: 0.445925\n",
      "Minibatch accuracy: 83.6%\n",
      "Validation accuracy: 80.3%\n",
      "Minibatch loss at step 9500: 0.484595\n",
      "Minibatch accuracy: 79.7%\n",
      "Validation accuracy: 80.3%\n",
      "Test accuracy: 81.4%\n"
     ]
    }
   ],
   "source": [
    "#doing the training\n",
    "num_steps = 10000\n",
    "\n",
    "with tf.Session(graph=graph) as session:\n",
    "  tf.initialize_all_variables().run()\n",
    "  print(\"Initialized\")\n",
    "  for step in range(num_steps):\n",
    "    # Pick an offset within the training data, which has been randomized.\n",
    "    # Note: we could use better randomization across epochs.\n",
    "    offset = (step * batch_size) % (train_labels.shape[0] - batch_size)\n",
    "    # Generate a minibatch.\n",
    "    batch_data = train_dataset[offset:(offset + batch_size), :]\n",
    "    batch_labels = train_labels[offset:(offset + batch_size), :]\n",
    "    # Prepare a dictionary telling the session where to feed the minibatch.\n",
    "    # The key of the dictionary is the placeholder node of the graph to be fed,\n",
    "    # and the value is the numpy array to feed to it.\n",
    "    feed_dict = {tf_train_dataset : batch_data, tf_train_labels : batch_labels}\n",
    "    _, l, predictions = session.run(\n",
    "      [optimizer, loss, train_prediction], feed_dict=feed_dict)\n",
    "    if (step % 500 == 0):\n",
    "      print(\"Minibatch loss at step %d: %f\" % (step, l))\n",
    "      print(\"Minibatch accuracy: %.1f%%\" % accuracy(predictions, batch_labels))\n",
    "      print(\"Validation accuracy: %.1f%%\" % accuracy(\n",
    "        valid_prediction.eval(), valid_labels))\n",
    "  print(\"Test accuracy: %.1f%%\" % accuracy(test_prediction.eval(), test_labels))"
   ]
  },
  {
   "cell_type": "code",
   "execution_count": null,
   "metadata": {
    "collapsed": true
   },
   "outputs": [],
   "source": []
  },
  {
   "cell_type": "code",
   "execution_count": null,
   "metadata": {
    "collapsed": true
   },
   "outputs": [],
   "source": []
  },
  {
   "cell_type": "code",
   "execution_count": null,
   "metadata": {
    "collapsed": true
   },
   "outputs": [],
   "source": []
  },
  {
   "cell_type": "code",
   "execution_count": null,
   "metadata": {
    "collapsed": true
   },
   "outputs": [],
   "source": []
  },
  {
   "cell_type": "code",
   "execution_count": null,
   "metadata": {
    "collapsed": true
   },
   "outputs": [],
   "source": []
  },
  {
   "cell_type": "code",
   "execution_count": null,
   "metadata": {
    "collapsed": true
   },
   "outputs": [],
   "source": []
  }
 ],
 "metadata": {
  "kernelspec": {
   "display_name": "Python 2",
   "language": "python",
   "name": "python2"
  },
  "language_info": {
   "codemirror_mode": {
    "name": "ipython",
    "version": 2
   },
   "file_extension": ".py",
   "mimetype": "text/x-python",
   "name": "python",
   "nbconvert_exporter": "python",
   "pygments_lexer": "ipython2",
   "version": "2.7.12"
  }
 },
 "nbformat": 4,
 "nbformat_minor": 0
}
