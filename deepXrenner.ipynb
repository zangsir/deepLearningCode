{
 "cells": [
  {
   "cell_type": "markdown",
   "metadata": {},
   "source": [
    "# Deep learning: singleton classification in XRENNER\n"
   ]
  },
  {
   "cell_type": "code",
   "execution_count": null,
   "metadata": {
    "collapsed": true
   },
   "outputs": [],
   "source": []
  },
  {
   "cell_type": "code",
   "execution_count": 1,
   "metadata": {
    "collapsed": false
   },
   "outputs": [
    {
     "name": "stdout",
     "output_type": "stream",
     "text": [
      "/Users/zangsir/Desktop/deep_xrenner\n"
     ]
    }
   ],
   "source": [
    "cd ~/Desktop/deep_xrenner/"
   ]
  },
  {
   "cell_type": "code",
   "execution_count": 3,
   "metadata": {
    "collapsed": true
   },
   "outputs": [],
   "source": [
    "# These are all the modules we'll be using later. Make sure you can import them\n",
    "# before proceeding further.\n",
    "from __future__ import print_function\n",
    "import numpy as np\n",
    "import tensorflow as tf\n",
    "from six.moves import cPickle as pickle\n",
    "from six.moves import range"
   ]
  },
  {
   "cell_type": "markdown",
   "metadata": {},
   "source": [
    "want: in the notMNIST data set like this:\n",
    "\n",
    "Training set (200000, 28, 28) (200000,)\n",
    "\n",
    "Validation set (10000, 28, 28) (10000,)\n",
    "\n",
    "Test set (10000, 28, 28) (10000,)\n",
    "\n",
    "and after transformation:\n",
    "\n",
    "Training set (200000, 784) (200000, 10)\n",
    "\n",
    "Validation set (10000, 784) (10000, 10)\n",
    "\n",
    "Test set (10000, 784) (10000, 10)"
   ]
  },
  {
   "cell_type": "code",
   "execution_count": null,
   "metadata": {
    "collapsed": true
   },
   "outputs": [],
   "source": []
  },
  {
   "cell_type": "code",
   "execution_count": null,
   "metadata": {
    "collapsed": true
   },
   "outputs": [],
   "source": []
  },
  {
   "cell_type": "markdown",
   "metadata": {},
   "source": [
    "## load data"
   ]
  },
  {
   "cell_type": "code",
   "execution_count": null,
   "metadata": {
    "collapsed": true
   },
   "outputs": [],
   "source": [
    "import re\n",
    "#these functions are called by load_data in the case of there are a few nominal columns in the beginning of the data\n",
    "def get_num_features(line):\n",
    "    pat='(,\\d+,\\d+,\\d+,\\d+,\\d+,)+'\n",
    "    match=re.search(pat,line)\n",
    "    if match:\n",
    "        return match.start()\n",
    "    \n",
    "def strip_first_col(fname):\n",
    "    with open(fname, 'r') as fin:\n",
    "        next(fin)\n",
    "        for line in fin:\n",
    "            #print (line)\n",
    "            try:\n",
    "                #print (line[get_num_features(line)+1:])\n",
    "                yield line[get_num_features(line)+1:]\n",
    "            except IndexError:\n",
    "                continue\n",
    "\n",
    "#data = np.loadtxt(strip_first_col(datafile),skiprows=1,delimiter=',')"
   ]
  },
  {
   "cell_type": "code",
   "execution_count": 152,
   "metadata": {
    "collapsed": false
   },
   "outputs": [],
   "source": [
    "def load_data(datafile,header=True):\n",
    "    if header==True:\n",
    "        data = np.loadtxt(strip_first_col(datafile),skiprows=1,delimiter=',')\n",
    "    else:\n",
    "        data = np.loadtxt(datafile, delimiter=',',skiprows=1)\n",
    "\n",
    "    # first ten values are the one hot encoded y (target) values\n",
    "    ####y = data[:, 0:10]\n",
    "    y = data[:, -1]\n",
    "    # y[y == 0] = -1 # if you are using a tanh transfer function make the 0 into -1\n",
    "    # y[y == 1] = .90 # try values that won't saturate tanh\n",
    "    \n",
    "    #if data contains header row or not\n",
    "    #you also need to change col selection if your data contains nominal values\n",
    "    #if header==True:\n",
    "        #data = data[1:, 3:-1]\n",
    "    #if header==False:\n",
    "    data = data[:, :-1]  # x data\n",
    "    # data = data - data.mean(axis = 1)\n",
    "    data -= data.min()  # scale the data so values are between 0 and 1\n",
    "    data /= data.max()  # scale\n",
    "    out = []\n",
    "    labels=[]\n",
    "    print(data.shape)\n",
    "    label_dict={1:[0,1],0:[1,0]}\n",
    "    # populate the tuple list with the data\n",
    "    for i in range(data.shape[0]):\n",
    "        fart = list((data[i, :].tolist()))  # don't mind this variable name\n",
    "        out.append(fart)\n",
    "        #two classes one hot coding:two classes are [NS,S] y=1:[0,1]; y=0:[1,0]\n",
    "        labels.append(label_dict[y[i]])\n",
    "\n",
    "    return np.array(out,dtype=np.float32),np.array(labels,dtype=np.float32)"
   ]
  },
  {
   "cell_type": "code",
   "execution_count": null,
   "metadata": {
    "collapsed": true
   },
   "outputs": [],
   "source": []
  },
  {
   "cell_type": "code",
   "execution_count": null,
   "metadata": {
    "collapsed": true
   },
   "outputs": [],
   "source": []
  },
  {
   "cell_type": "code",
   "execution_count": null,
   "metadata": {
    "collapsed": true
   },
   "outputs": [],
   "source": []
  },
  {
   "cell_type": "code",
   "execution_count": 153,
   "metadata": {
    "collapsed": false
   },
   "outputs": [
    {
     "name": "stdout",
     "output_type": "stream",
     "text": [
      "(350845, 13)\n"
     ]
    }
   ],
   "source": [
    "datafile='Data/singleton_data_new.tab'\n",
    "X,labels = load_data(datafile)\n"
   ]
  },
  {
   "cell_type": "code",
   "execution_count": null,
   "metadata": {
    "collapsed": true
   },
   "outputs": [],
   "source": []
  },
  {
   "cell_type": "code",
   "execution_count": 154,
   "metadata": {
    "collapsed": false
   },
   "outputs": [
    {
     "data": {
      "text/plain": [
       "(350845, 13)"
      ]
     },
     "execution_count": 154,
     "metadata": {},
     "output_type": "execute_result"
    }
   ],
   "source": [
    "X.shape"
   ]
  },
  {
   "cell_type": "code",
   "execution_count": null,
   "metadata": {
    "collapsed": true
   },
   "outputs": [],
   "source": []
  },
  {
   "cell_type": "code",
   "execution_count": 101,
   "metadata": {
    "collapsed": false
   },
   "outputs": [
    {
     "data": {
      "text/plain": [
       "array([[  6.71140943e-03,   2.68456377e-02,   0.00000000e+00, ...,\n",
       "          0.00000000e+00,   6.10128103e-04,   1.13177221e-05],\n",
       "       [  1.34228189e-02,   6.71140943e-03,   6.71140943e-03, ...,\n",
       "          0.00000000e+00,   1.22025621e-03,   2.26354441e-05],\n",
       "       [  6.71140943e-03,   1.34228189e-02,   0.00000000e+00, ...,\n",
       "          0.00000000e+00,   2.44051241e-03,   4.52708882e-05],\n",
       "       ..., \n",
       "       [  6.71140943e-03,   2.68456377e-02,   0.00000000e+00, ...,\n",
       "          0.00000000e+00,   4.72849282e-03,   2.08693999e-03],\n",
       "       [  1.94630876e-01,   2.01342274e-02,   6.71140943e-03, ...,\n",
       "          0.00000000e+00,   4.88102483e-03,   2.11065519e-03],\n",
       "       [  5.36912754e-02,   1.34228189e-02,   1.34228189e-02, ...,\n",
       "          0.00000000e+00,   5.79621736e-03,   2.25294661e-03]], dtype=float32)"
      ]
     },
     "execution_count": 101,
     "metadata": {},
     "output_type": "execute_result"
    }
   ],
   "source": [
    "X"
   ]
  },
  {
   "cell_type": "code",
   "execution_count": null,
   "metadata": {
    "collapsed": true
   },
   "outputs": [],
   "source": []
  },
  {
   "cell_type": "code",
   "execution_count": null,
   "metadata": {
    "collapsed": true
   },
   "outputs": [],
   "source": []
  },
  {
   "cell_type": "code",
   "execution_count": 32,
   "metadata": {
    "collapsed": false
   },
   "outputs": [
    {
     "data": {
      "text/plain": [
       "array([[0, 1],\n",
       "       [0, 1],\n",
       "       [1, 0],\n",
       "       ..., \n",
       "       [0, 1],\n",
       "       [0, 1],\n",
       "       [0, 1]])"
      ]
     },
     "execution_count": 32,
     "metadata": {},
     "output_type": "execute_result"
    }
   ],
   "source": [
    "labels"
   ]
  },
  {
   "cell_type": "markdown",
   "metadata": {},
   "source": [
    "## divide into dev, val, test sets"
   ]
  },
  {
   "cell_type": "code",
   "execution_count": 111,
   "metadata": {
    "collapsed": true
   },
   "outputs": [],
   "source": [
    "train_prop=0.9\n",
    "val_prop=0.05\n",
    "test_prop=0.05\n",
    "\n",
    "train_size=X.shape[0]*train_prop\n",
    "val_size=X.shape[0]*val_prop\n",
    "test_size=X.shape[0]*test_prop\n",
    "\n",
    "#should shuffle the dataset"
   ]
  },
  {
   "cell_type": "code",
   "execution_count": null,
   "metadata": {
    "collapsed": true
   },
   "outputs": [],
   "source": []
  },
  {
   "cell_type": "code",
   "execution_count": 50,
   "metadata": {
    "collapsed": true
   },
   "outputs": [],
   "source": [
    "def randomize(dataset, labels):\n",
    "    permutation = np.random.permutation(labels.shape[0])\n",
    "    shuffled_dataset = dataset[permutation,:]\n",
    "    shuffled_labels = labels[permutation]\n",
    "    return shuffled_dataset, shuffled_labels"
   ]
  },
  {
   "cell_type": "code",
   "execution_count": 113,
   "metadata": {
    "collapsed": false
   },
   "outputs": [],
   "source": [
    "#pipeline\n",
    "#load data\n",
    "datafile='Data/singleton_data_mini.tab'\n",
    "X,labels = load_data(datafile)\n",
    "\n",
    "#shuffle dataset\n",
    "dataset_shf,labels_shf = randomize(X, labels)\n",
    "\n",
    "#get sizes of division\n",
    "train_dataset=dataset_shf[:int(train_size),:]\n",
    "valid_dataset=dataset_shf[int(train_size):int(train_size+val_size),:]\n",
    "test_dataset=dataset_shf[int(train_size+val_size):,:]\n",
    "train_labels=labels_shf[:int(train_size)]\n",
    "valid_labels=labels_shf[int(train_size):int(train_size+val_size)]\n",
    "test_labels=labels_shf[int(train_size+val_size):]\n",
    "\n",
    "#divide the dataset\n",
    "train_dataset, train_labels = randomize(train_dataset, train_labels)\n",
    "test_dataset, test_labels = randomize(test_dataset, test_labels)\n",
    "valid_dataset, valid_labels = randomize(valid_dataset, valid_labels)"
   ]
  },
  {
   "cell_type": "code",
   "execution_count": 114,
   "metadata": {
    "collapsed": false
   },
   "outputs": [],
   "source": []
  },
  {
   "cell_type": "code",
   "execution_count": 115,
   "metadata": {
    "collapsed": false
   },
   "outputs": [
    {
     "data": {
      "text/plain": [
       "array([[ 0.02684564,  0.00671141,  0.        , ...,  0.        ,\n",
       "         0.00503356,  0.00433419],\n",
       "       [ 0.00671141,  0.02684564,  0.        , ...,  0.        ,\n",
       "         0.0059657 ,  0.00409857],\n",
       "       [ 0.06711409,  0.02013423,  0.        , ...,  0.        ,\n",
       "         0.00198292,  0.00483374],\n",
       "       ..., \n",
       "       [ 0.01342282,  0.01342282,  0.        , ...,  0.        ,\n",
       "         0.00491079,  0.00612212],\n",
       "       [ 0.02013423,  0.02013423,  0.        , ...,  0.        ,\n",
       "         0.00233882,  0.00421499],\n",
       "       [ 0.06040268,  0.02013423,  0.00671141, ...,  0.        ,\n",
       "         0.00457596,  0.00025422]], dtype=float32)"
      ]
     },
     "execution_count": 115,
     "metadata": {},
     "output_type": "execute_result"
    }
   ],
   "source": [
    "train_dataset"
   ]
  },
  {
   "cell_type": "code",
   "execution_count": null,
   "metadata": {
    "collapsed": true
   },
   "outputs": [],
   "source": []
  },
  {
   "cell_type": "code",
   "execution_count": null,
   "metadata": {
    "collapsed": true
   },
   "outputs": [],
   "source": []
  },
  {
   "cell_type": "code",
   "execution_count": null,
   "metadata": {
    "collapsed": true
   },
   "outputs": [],
   "source": []
  },
  {
   "cell_type": "code",
   "execution_count": 106,
   "metadata": {
    "collapsed": false
   },
   "outputs": [
    {
     "name": "stdout",
     "output_type": "stream",
     "text": [
      "(36000, 14) (36000, 2)\n",
      "(2000, 14) (2000, 2)\n",
      "(2000, 14) (2000, 2)\n"
     ]
    }
   ],
   "source": [
    "print (train_dataset.shape,train_labels.shape)\n",
    "print (valid_dataset.shape,valid_labels.shape)\n",
    "print (test_dataset.shape,test_labels.shape)"
   ]
  },
  {
   "cell_type": "code",
   "execution_count": null,
   "metadata": {
    "collapsed": true
   },
   "outputs": [],
   "source": []
  },
  {
   "cell_type": "code",
   "execution_count": 87,
   "metadata": {
    "collapsed": true
   },
   "outputs": [],
   "source": [
    "#wrote a function to return all the singleton indexes, but accidentlly deleted that. "
   ]
  },
  {
   "cell_type": "code",
   "execution_count": 116,
   "metadata": {
    "collapsed": false
   },
   "outputs": [
    {
     "name": "stdout",
     "output_type": "stream",
     "text": [
      "[ 0.00671141  0.02684564  0.          0.          0.          0.          0.\n",
      "  0.          0.00671141  0.          0.          0.          0.00494525\n",
      "  0.00033726] [ 0.  1.]\n",
      "[ 0.01342282  0.02013423  0.00671141  0.          0.          0.          0.\n",
      "  0.00671141  0.          0.          0.          0.          0.00064533\n",
      "  0.00386733] [ 0.  1.]\n",
      "[ 0.02684564  0.02013423  0.00671141  0.          0.          0.          0.\n",
      "  0.          0.00671141  0.          0.          0.          0.00366077\n",
      "  0.00437005] [ 0.  1.]\n"
     ]
    }
   ],
   "source": [
    "#check if the labels are still good after shuffling\n",
    "#it is good. \n",
    "print (train_dataset[12],train_labels[12])\n",
    "print (train_dataset[39],train_labels[39])\n",
    "print (train_dataset[10001],train_labels[10001])"
   ]
  },
  {
   "cell_type": "code",
   "execution_count": null,
   "metadata": {
    "collapsed": true
   },
   "outputs": [],
   "source": []
  },
  {
   "cell_type": "code",
   "execution_count": 117,
   "metadata": {
    "collapsed": false
   },
   "outputs": [
    {
     "data": {
      "text/plain": [
       "array([[ 0.02684564,  0.00671141,  0.        , ...,  0.        ,\n",
       "         0.00503356,  0.00433419],\n",
       "       [ 0.00671141,  0.02684564,  0.        , ...,  0.        ,\n",
       "         0.0059657 ,  0.00409857],\n",
       "       [ 0.06711409,  0.02013423,  0.        , ...,  0.        ,\n",
       "         0.00198292,  0.00483374],\n",
       "       ..., \n",
       "       [ 0.01342282,  0.01342282,  0.        , ...,  0.        ,\n",
       "         0.00491079,  0.00612212],\n",
       "       [ 0.02013423,  0.02013423,  0.        , ...,  0.        ,\n",
       "         0.00233882,  0.00421499],\n",
       "       [ 0.06040268,  0.02013423,  0.00671141, ...,  0.        ,\n",
       "         0.00457596,  0.00025422]], dtype=float32)"
      ]
     },
     "execution_count": 117,
     "metadata": {},
     "output_type": "execute_result"
    }
   ],
   "source": [
    "train_dataset"
   ]
  },
  {
   "cell_type": "code",
   "execution_count": null,
   "metadata": {
    "collapsed": true
   },
   "outputs": [],
   "source": []
  },
  {
   "cell_type": "code",
   "execution_count": null,
   "metadata": {
    "collapsed": true
   },
   "outputs": [],
   "source": []
  },
  {
   "cell_type": "code",
   "execution_count": 118,
   "metadata": {
    "collapsed": false
   },
   "outputs": [],
   "source": [
    "num_nodes= 1024\n",
    "batch_size = 128\n",
    "input_size=X.shape[1]\n",
    "num_labels=2\n",
    "\n",
    "graph = tf.Graph()\n",
    "with graph.as_default():\n",
    "\n",
    "    # Input data. For the training data, we use a placeholder that will be fed\n",
    "    # at run time with a training minibatch.\n",
    "    tf_train_dataset = tf.placeholder(tf.float32,\n",
    "                                      shape=(batch_size, input_size))\n",
    "    tf_train_labels = tf.placeholder(tf.float32, shape=(batch_size, num_labels))\n",
    "    tf_valid_dataset = tf.constant(valid_dataset)\n",
    "    tf_test_dataset = tf.constant(test_dataset)\n",
    "\n",
    "    # Variables.\n",
    "    weights_1 = tf.Variable(\n",
    "      tf.truncated_normal([input_size, num_nodes]))\n",
    "    biases_1 = tf.Variable(tf.zeros([num_nodes]))\n",
    "    weights_2 = tf.Variable(\n",
    "      tf.truncated_normal([num_nodes, num_labels]))\n",
    "    biases_2 = tf.Variable(tf.zeros([num_labels]))\n",
    "\n",
    "    # Training computation.\n",
    "    relu_layer=tf.nn.relu(tf.matmul(tf_train_dataset, weights_1) + biases_1)#notice the shape of tf_train_dataset and weights_1\n",
    "    logits = tf.matmul(relu_layer, weights_2) + biases_2\n",
    "    loss = tf.reduce_mean(\n",
    "      tf.nn.softmax_cross_entropy_with_logits(logits, tf_train_labels))\n",
    "\n",
    "    # Optimizer.\n",
    "    optimizer = tf.train.GradientDescentOptimizer(0.5).minimize(loss)\n",
    "\n",
    "    # Predictions for the training, validation, and test data.\n",
    "    train_prediction = tf.nn.softmax(logits)\n",
    "    valid_prediction = tf.nn.softmax(\n",
    "     tf.matmul(tf.nn.relu(tf.matmul(tf_valid_dataset, weights_1) + biases_1), weights_2) + biases_2)\n",
    "    test_prediction =  tf.nn.softmax(\n",
    "     tf.matmul(tf.nn.relu(tf.matmul(tf_test_dataset, weights_1) + biases_1), weights_2) + biases_2)"
   ]
  },
  {
   "cell_type": "code",
   "execution_count": 120,
   "metadata": {
    "collapsed": true
   },
   "outputs": [],
   "source": [
    "def accuracy(predictions, labels):\n",
    "    return (100.0 * np.sum(np.argmax(predictions, 1) == np.argmax(labels, 1))\n",
    "          / predictions.shape[0])"
   ]
  },
  {
   "cell_type": "code",
   "execution_count": 278,
   "metadata": {
    "collapsed": false
   },
   "outputs": [
    {
     "data": {
      "text/plain": [
       "1"
      ]
     },
     "execution_count": 278,
     "metadata": {},
     "output_type": "execute_result"
    }
   ],
   "source": [
    "np.argmax(predictions[11]"
   ]
  },
  {
   "cell_type": "code",
   "execution_count": 313,
   "metadata": {
    "collapsed": false
   },
   "outputs": [
    {
     "name": "stdout",
     "output_type": "stream",
     "text": [
      "347\n",
      "424\n"
     ]
    }
   ],
   "source": [
    "#precision=TP/(TP+FP)\n",
    "#recall=TP/(TP+FN)\n",
    "\n",
    "#TP+FP=\n",
    "predicted_sgt=np.sum(np.argmax(predictions,1)==0)\n",
    "print (predicted_sgt)\n",
    "real_sgt=np.sum(np.argmax(batch_labels,1)==0)\n",
    "print (real_sgt)"
   ]
  },
  {
   "cell_type": "code",
   "execution_count": null,
   "metadata": {
    "collapsed": true
   },
   "outputs": [],
   "source": []
  },
  {
   "cell_type": "code",
   "execution_count": null,
   "metadata": {
    "collapsed": true
   },
   "outputs": [],
   "source": []
  },
  {
   "cell_type": "code",
   "execution_count": null,
   "metadata": {
    "collapsed": true
   },
   "outputs": [],
   "source": []
  },
  {
   "cell_type": "code",
   "execution_count": 330,
   "metadata": {
    "collapsed": false
   },
   "outputs": [],
   "source": []
  },
  {
   "cell_type": "code",
   "execution_count": null,
   "metadata": {
    "collapsed": true
   },
   "outputs": [],
   "source": []
  },
  {
   "cell_type": "code",
   "execution_count": null,
   "metadata": {
    "collapsed": true
   },
   "outputs": [],
   "source": []
  },
  {
   "cell_type": "code",
   "execution_count": 331,
   "metadata": {
    "collapsed": false
   },
   "outputs": [
    {
     "name": "stdout",
     "output_type": "stream",
     "text": [
      "0.40625 1.0\n"
     ]
    },
    {
     "data": {
      "text/plain": [
       "(0.40625, 1.0, 0.5777777777777777)"
      ]
     },
     "execution_count": 331,
     "metadata": {},
     "output_type": "execute_result"
    }
   ],
   "source": [
    "precision_recall(predictions,batch_labels)"
   ]
  },
  {
   "cell_type": "code",
   "execution_count": null,
   "metadata": {
    "collapsed": true
   },
   "outputs": [],
   "source": []
  },
  {
   "cell_type": "code",
   "execution_count": null,
   "metadata": {
    "collapsed": true
   },
   "outputs": [],
   "source": []
  },
  {
   "cell_type": "code",
   "execution_count": 121,
   "metadata": {
    "collapsed": false
   },
   "outputs": [
    {
     "name": "stdout",
     "output_type": "stream",
     "text": [
      "Initialized\n",
      "Minibatch loss at step 0: 0.576419\n",
      "Minibatch accuracy: 77.3%\n",
      "Validation accuracy: 86.7%\n",
      "Minibatch loss at step 500: 0.303830\n",
      "Minibatch accuracy: 89.8%\n",
      "Validation accuracy: 86.7%\n",
      "Minibatch loss at step 1000: 0.433002\n",
      "Minibatch accuracy: 83.6%\n",
      "Validation accuracy: 86.7%\n",
      "Minibatch loss at step 1500: 0.393721\n",
      "Minibatch accuracy: 86.7%\n",
      "Validation accuracy: 86.7%\n",
      "Minibatch loss at step 2000: 0.296616\n",
      "Minibatch accuracy: 89.8%\n",
      "Validation accuracy: 86.7%\n",
      "Minibatch loss at step 2500: 0.398171\n",
      "Minibatch accuracy: 86.7%\n",
      "Validation accuracy: 86.7%\n",
      "Minibatch loss at step 3000: 0.321350\n",
      "Minibatch accuracy: 89.8%\n",
      "Validation accuracy: 86.7%\n",
      "Test accuracy: 85.0%\n"
     ]
    }
   ],
   "source": [
    "num_steps = 3001\n",
    "\n",
    "with tf.Session(graph=graph) as session:\n",
    "  tf.initialize_all_variables().run()\n",
    "  print(\"Initialized\")\n",
    "  for step in range(num_steps):\n",
    "    # Pick an offset within the training data, which has been randomized.\n",
    "    # Note: we could use better randomization across epochs.\n",
    "    offset = (step * batch_size) % (train_labels.shape[0] - batch_size)\n",
    "    # Generate a minibatch.\n",
    "    batch_data = train_dataset[offset:(offset + batch_size), :]\n",
    "    batch_labels = train_labels[offset:(offset + batch_size), :]\n",
    "    # Prepare a dictionary telling the session where to feed the minibatch.\n",
    "    # The key of the dictionary is the placeholder node of the graph to be fed,\n",
    "    # and the value is the numpy array to feed to it.\n",
    "    feed_dict = {tf_train_dataset : batch_data, tf_train_labels : batch_labels}\n",
    "    _, l, predictions = session.run(\n",
    "      [optimizer, loss, train_prediction], feed_dict=feed_dict)\n",
    "    if (step % 500 == 0):\n",
    "      print(\"Minibatch loss at step %d: %f\" % (step, l))\n",
    "      print(\"Minibatch accuracy: %.1f%%\" % accuracy(predictions, batch_labels))\n",
    "      print(\"Validation accuracy: %.1f%%\" % accuracy(\n",
    "        valid_prediction.eval(), valid_labels))\n",
    "  print(\"Test accuracy: %.1f%%\" % accuracy(test_prediction.eval(), test_labels))"
   ]
  },
  {
   "cell_type": "code",
   "execution_count": 218,
   "metadata": {
    "collapsed": false
   },
   "outputs": [],
   "source": [
    "def get_singleton(labels):\n",
    "    inds_notsgt=[]\n",
    "    inds_sgtn=[]\n",
    "    for i in range(len(labels)):\n",
    "        if labels[i][0]==1:\n",
    "            inds_sgtn.append(i)\n",
    "        else:\n",
    "            inds_notsgt.append(i)\n",
    "    return inds_notsgt,inds_sgtn"
   ]
  },
  {
   "cell_type": "code",
   "execution_count": null,
   "metadata": {
    "collapsed": true
   },
   "outputs": [],
   "source": []
  },
  {
   "cell_type": "code",
   "execution_count": null,
   "metadata": {
    "collapsed": true
   },
   "outputs": [],
   "source": []
  },
  {
   "cell_type": "code",
   "execution_count": 326,
   "metadata": {
    "collapsed": false
   },
   "outputs": [],
   "source": [
    "c,ind=get_singleton(valid_labels)"
   ]
  },
  {
   "cell_type": "code",
   "execution_count": 328,
   "metadata": {
    "collapsed": false
   },
   "outputs": [
    {
     "data": {
      "text/plain": [
       "4951"
      ]
     },
     "execution_count": 328,
     "metadata": {},
     "output_type": "execute_result"
    }
   ],
   "source": [
    "len(c)"
   ]
  },
  {
   "cell_type": "code",
   "execution_count": null,
   "metadata": {
    "collapsed": true
   },
   "outputs": [],
   "source": []
  },
  {
   "cell_type": "code",
   "execution_count": null,
   "metadata": {
    "collapsed": true
   },
   "outputs": [],
   "source": []
  },
  {
   "cell_type": "code",
   "execution_count": 163,
   "metadata": {
    "collapsed": false
   },
   "outputs": [
    {
     "data": {
      "text/plain": [
       "0.18648764977854296"
      ]
     },
     "execution_count": 163,
     "metadata": {},
     "output_type": "execute_result"
    }
   ],
   "source": [
    "float(c)/len(labels)#ratio of singleton class"
   ]
  },
  {
   "cell_type": "code",
   "execution_count": 164,
   "metadata": {
    "collapsed": false
   },
   "outputs": [
    {
     "data": {
      "text/plain": [
       "67157"
      ]
     },
     "execution_count": 164,
     "metadata": {},
     "output_type": "execute_result"
    }
   ],
   "source": [
    "len(ind)"
   ]
  },
  {
   "cell_type": "code",
   "execution_count": 201,
   "metadata": {
    "collapsed": false
   },
   "outputs": [
    {
     "data": {
      "text/plain": [
       "67157"
      ]
     },
     "execution_count": 201,
     "metadata": {},
     "output_type": "execute_result"
    }
   ],
   "source": [
    "c"
   ]
  },
  {
   "cell_type": "code",
   "execution_count": null,
   "metadata": {
    "collapsed": true
   },
   "outputs": [],
   "source": []
  },
  {
   "cell_type": "code",
   "execution_count": null,
   "metadata": {
    "collapsed": true
   },
   "outputs": [],
   "source": []
  },
  {
   "cell_type": "code",
   "execution_count": null,
   "metadata": {
    "collapsed": true
   },
   "outputs": [],
   "source": []
  },
  {
   "cell_type": "code",
   "execution_count": null,
   "metadata": {
    "collapsed": true
   },
   "outputs": [],
   "source": []
  },
  {
   "cell_type": "code",
   "execution_count": null,
   "metadata": {
    "collapsed": true
   },
   "outputs": [],
   "source": []
  },
  {
   "cell_type": "code",
   "execution_count": null,
   "metadata": {
    "collapsed": true
   },
   "outputs": [],
   "source": []
  },
  {
   "cell_type": "markdown",
   "metadata": {},
   "source": [
    "<h1 style='background:blue;color:white;'>data process pipeline using tensorflow</h1>"
   ]
  },
  {
   "cell_type": "code",
   "execution_count": 1,
   "metadata": {
    "collapsed": true
   },
   "outputs": [],
   "source": [
    "%matplotlib inline\n",
    "import matplotlib.pyplot as plt\n",
    "# These are all the modules we'll be using later. Make sure you can import them\n",
    "# before proceeding further.\n",
    "from __future__ import print_function\n",
    "import numpy as np\n",
    "import tensorflow as tf\n",
    "from six.moves import cPickle as pickle\n",
    "from six.moves import range"
   ]
  },
  {
   "cell_type": "code",
   "execution_count": 3,
   "metadata": {
    "collapsed": true
   },
   "outputs": [],
   "source": [
    "def load_data(datafile):\n",
    "    data = np.loadtxt(datafile, delimiter=',')\n",
    "\n",
    "    # first ten values are the one hot encoded y (target) values\n",
    "    ####y = data[:, 0:10]\n",
    "    y = data[:, -1]\n",
    "    # y[y == 0] = -1 # if you are using a tanh transfer function make the 0 into -1\n",
    "    # y[y == 1] = .90 # try values that won't saturate tanh\n",
    "\n",
    "    data = data[:, :-1]  # x data\n",
    "    # data = data - data.mean(axis = 1)\n",
    "    data -= data.min()  # scale the data so values are between 0 and 1\n",
    "    data /= data.max()  # scale\n",
    "    out = []\n",
    "    labels=[]\n",
    "    print(data.shape)\n",
    "    label_dict={1:[0,1],0:[1,0]}\n",
    "    # populate the tuple list with the data\n",
    "    for i in range(data.shape[0]):\n",
    "        fart = list((data[i, :].tolist()))  # don't mind this variable name\n",
    "        out.append(fart)\n",
    "        #two classes one hot coding:two classes are [NS,S] y=1:[0,1]; y=0:[1,0]\n",
    "        labels.append(label_dict[y[i]])\n",
    "\n",
    "    return np.array(out,dtype=np.float32),np.array(labels,dtype=np.float32)"
   ]
  },
  {
   "cell_type": "code",
   "execution_count": 5,
   "metadata": {
    "collapsed": true
   },
   "outputs": [],
   "source": [
    "def randomize(dataset, labels):\n",
    "    permutation = np.random.permutation(labels.shape[0])\n",
    "    shuffled_dataset = dataset[permutation,:]\n",
    "    shuffled_labels = labels[permutation]\n",
    "    return shuffled_dataset, shuffled_labels"
   ]
  },
  {
   "cell_type": "code",
   "execution_count": 7,
   "metadata": {
    "collapsed": true
   },
   "outputs": [],
   "source": [
    "train_prop=0.9\n",
    "val_prop=0.05\n",
    "test_prop=0.05\n",
    "\n",
    "train_size=X.shape[0]*train_prop\n",
    "val_size=X.shape[0]*val_prop\n",
    "test_size=X.shape[0]*test_prop"
   ]
  },
  {
   "cell_type": "code",
   "execution_count": null,
   "metadata": {
    "collapsed": true
   },
   "outputs": [],
   "source": []
  },
  {
   "cell_type": "code",
   "execution_count": 8,
   "metadata": {
    "collapsed": false
   },
   "outputs": [
    {
     "name": "stdout",
     "output_type": "stream",
     "text": [
      "(360115, 12)\n"
     ]
    }
   ],
   "source": [
    "#pipeline\n",
    "#load data\n",
    "#datafile='Data/singleton_data_mini.tab'\n",
    "\n",
    "datafile='Data/singleton_data.tab'\n",
    "X,labels = load_data(datafile)\n",
    "\n",
    "#shuffle dataset\n",
    "dataset_shf,labels_shf = randomize(X, labels)\n",
    "\n",
    "#get sizes of division\n",
    "train_dataset=dataset_shf[:int(train_size),:]\n",
    "valid_dataset=dataset_shf[int(train_size):int(train_size+val_size),:]\n",
    "test_dataset=dataset_shf[int(train_size+val_size):,:]\n",
    "train_labels=labels_shf[:int(train_size)]\n",
    "valid_labels=labels_shf[int(train_size):int(train_size+val_size)]\n",
    "test_labels=labels_shf[int(train_size+val_size):]\n",
    "\n",
    "#divide the dataset\n",
    "train_dataset, train_labels = randomize(train_dataset, train_labels)\n",
    "test_dataset, test_labels = randomize(test_dataset, test_labels)\n",
    "valid_dataset, valid_labels = randomize(valid_dataset, valid_labels)"
   ]
  },
  {
   "cell_type": "code",
   "execution_count": null,
   "metadata": {
    "collapsed": true
   },
   "outputs": [],
   "source": []
  },
  {
   "cell_type": "code",
   "execution_count": null,
   "metadata": {
    "collapsed": true
   },
   "outputs": [],
   "source": []
  },
  {
   "cell_type": "code",
   "execution_count": null,
   "metadata": {
    "collapsed": true
   },
   "outputs": [],
   "source": []
  },
  {
   "cell_type": "code",
   "execution_count": null,
   "metadata": {
    "collapsed": true
   },
   "outputs": [],
   "source": []
  },
  {
   "cell_type": "code",
   "execution_count": null,
   "metadata": {
    "collapsed": true
   },
   "outputs": [],
   "source": []
  },
  {
   "cell_type": "code",
   "execution_count": 200,
   "metadata": {
    "collapsed": false
   },
   "outputs": [
    {
     "name": "stdout",
     "output_type": "stream",
     "text": [
      "Initialized\n",
      "Minibatch loss at step 0: 0.697906\n",
      "Minibatch accuracy: 34.2%\n",
      "Validation accuracy: 82.2%\n",
      "Minibatch loss at step 500: 0.488197\n",
      "Minibatch accuracy: 80.8%\n",
      "Validation accuracy: 82.3%\n",
      "Minibatch loss at step 1000: 0.466557\n",
      "Minibatch accuracy: 82.2%\n",
      "Validation accuracy: 82.3%\n",
      "Minibatch loss at step 1500: 0.473457\n",
      "Minibatch accuracy: 81.7%\n",
      "Validation accuracy: 82.3%\n",
      "Minibatch loss at step 2000: 0.472589\n",
      "Minibatch accuracy: 81.8%\n",
      "Validation accuracy: 82.3%\n",
      "Minibatch loss at step 2500: 0.511490\n",
      "Minibatch accuracy: 79.1%\n",
      "Validation accuracy: 82.3%\n",
      "Minibatch loss at step 3000: 0.477617\n",
      "Minibatch accuracy: 81.3%\n",
      "Validation accuracy: 82.3%\n",
      "Minibatch loss at step 3500: 0.434291\n",
      "Minibatch accuracy: 84.4%\n",
      "Validation accuracy: 82.3%\n",
      "Minibatch loss at step 4000: 0.514738\n",
      "Minibatch accuracy: 79.0%\n",
      "Validation accuracy: 82.3%\n",
      "Minibatch loss at step 4500: 0.443015\n",
      "Minibatch accuracy: 83.7%\n",
      "Validation accuracy: 82.3%\n",
      "Minibatch loss at step 5000: 0.478120\n",
      "Minibatch accuracy: 81.4%\n",
      "Validation accuracy: 82.3%\n",
      "Minibatch loss at step 5500: 0.462529\n",
      "Minibatch accuracy: 82.3%\n",
      "Validation accuracy: 82.3%\n",
      "Test accuracy: 81.3%\n"
     ]
    }
   ],
   "source": [
    "#set of a tf graph\n",
    "\n",
    "num_nodes= 1\n",
    "batch_size = 1024\n",
    "input_size=X.shape[1]#dimension of each input vector\n",
    "num_labels=2\n",
    "\n",
    "graph = tf.Graph()\n",
    "with graph.as_default():\n",
    "\n",
    "    # Input data. For the training data, we use a placeholder that will be fed\n",
    "    # at run time with a training minibatch.\n",
    "    tf_train_dataset = tf.placeholder(tf.float32,\n",
    "                                      shape=(batch_size, input_size))\n",
    "    tf_train_labels = tf.placeholder(tf.float32, shape=(batch_size, num_labels))\n",
    "    tf_valid_dataset = tf.constant(valid_dataset)\n",
    "    tf_test_dataset = tf.constant(test_dataset)\n",
    "\n",
    "    # Variables.\n",
    "    weights_1 = tf.Variable(\n",
    "      tf.truncated_normal([input_size, num_nodes]))\n",
    "    biases_1 = tf.Variable(tf.zeros([num_nodes]))\n",
    "    weights_2 = tf.Variable(\n",
    "      tf.truncated_normal([num_nodes, num_labels]))\n",
    "    biases_2 = tf.Variable(tf.zeros([num_labels]))\n",
    "\n",
    "    # Training computation.\n",
    "    relu_layer=tf.nn.relu(tf.matmul(tf_train_dataset, weights_1) + biases_1)#notice the shape of tf_train_dataset and weights_1\n",
    "    logits = tf.matmul(relu_layer, weights_2) + biases_2\n",
    "    loss = tf.reduce_mean(\n",
    "      tf.nn.softmax_cross_entropy_with_logits(logits, tf_train_labels))\n",
    "\n",
    "    # Optimizer.\n",
    "    optimizer = tf.train.GradientDescentOptimizer(0.1).minimize(loss)\n",
    "\n",
    "    # Predictions for the training, validation, and test data.\n",
    "    train_prediction = tf.nn.softmax(logits)\n",
    "    valid_prediction = tf.nn.softmax(\n",
    "     tf.matmul(tf.nn.relu(tf.matmul(tf_valid_dataset, weights_1) + biases_1), weights_2) + biases_2)\n",
    "    test_prediction =  tf.nn.softmax(\n",
    "     tf.matmul(tf.nn.relu(tf.matmul(tf_test_dataset, weights_1) + biases_1), weights_2) + biases_2)\n",
    "\n",
    "\n",
    "    num_steps = 6000\n",
    "    train_acc=[]\n",
    "    valid_acc=[]\n",
    "    with tf.Session(graph=graph) as session:\n",
    "        tf.initialize_all_variables().run()\n",
    "        print(\"Initialized\")\n",
    "        for step in range(num_steps):\n",
    "            # Pick an offset within the training data, which has been randomized.\n",
    "            # Note: we could use better randomization across epochs.\n",
    "            offset = (step * batch_size) % (train_labels.shape[0] - batch_size)\n",
    "            # Generate a minibatch.\n",
    "            batch_data = train_dataset[offset:(offset + batch_size), :]\n",
    "            batch_labels = train_labels[offset:(offset + batch_size), :]\n",
    "            # Prepare a dictionary telling the session where to feed the minibatch.\n",
    "            # The key of the dictionary is the placeholder node of the graph to be fed,\n",
    "            # and the value is the numpy array to feed to it.\n",
    "            feed_dict = {tf_train_dataset : batch_data, tf_train_labels : batch_labels}\n",
    "            _, l, predictions = session.run(\n",
    "              [optimizer, loss, train_prediction], feed_dict=feed_dict)\n",
    "            if (step % 500 == 0):\n",
    "                print(\"Minibatch loss at step %d: %f\" % (step, l))\n",
    "                print(\"Minibatch accuracy: %.1f%%\" % accuracy(predictions, batch_labels))\n",
    "                print(\"Validation accuracy: %.1f%%\" % accuracy(\n",
    "                valid_prediction.eval(), valid_labels))\n",
    "                train_acc.append(accuracy(predictions, batch_labels))\n",
    "                valid_acc.append(accuracy(\n",
    "                valid_prediction.eval(), valid_labels))\n",
    "        print(\"Test accuracy: %.1f%%\" % accuracy(test_prediction.eval(), test_labels))\n"
   ]
  },
  {
   "cell_type": "code",
   "execution_count": null,
   "metadata": {
    "collapsed": true
   },
   "outputs": [],
   "source": []
  },
  {
   "cell_type": "code",
   "execution_count": null,
   "metadata": {
    "collapsed": true
   },
   "outputs": [],
   "source": []
  },
  {
   "cell_type": "code",
   "execution_count": 198,
   "metadata": {
    "collapsed": false
   },
   "outputs": [
    {
     "data": {
      "image/png": "[encoded data removed]",
      "text/plain": [
       "<matplotlib.figure.Figure at 0x12222bb50>"
      ]
     },
     "metadata": {},
     "output_type": "display_data"
    }
   ],
   "source": [
    "plot_tf()"
   ]
  },
  {
   "cell_type": "code",
   "execution_count": null,
   "metadata": {
    "collapsed": true
   },
   "outputs": [],
   "source": []
  },
  {
   "cell_type": "markdown",
   "metadata": {},
   "source": [
    "#### comments & questions\n",
    "\n",
    "-----\n",
    "1. due to minibatch stochastic GD, the loss is not monotonically decreasing, and accuracy is not monotonically increasing. \n",
    "2. perhaps due to the nature of the dataset, the validation accuracy tend to be stuck at a constant for many steps. \n",
    "3. this is binary classification, but the class are imbalanced, so we should compute precision, recall, and F1 score.\n",
    "4. num_steps, batch size, learning rate, num_nodes, so far I didn't observe a effect of changing these (hyper) parameters.\n",
    "5. one observation is that validation accuracy is high on the first run. That might be due to the class imbalance. \n",
    "\n",
    "Questions\n",
    "\n",
    "5. would using classic GD on all of dataset make a difference?\n",
    "6. how to choose num_nodes?\n",
    "7. does the class being binary (and imbalanced) make a difference than when we were doing the 10-class classification on the notMNIST dataset?\n"
   ]
  },
  {
   "cell_type": "code",
   "execution_count": null,
   "metadata": {
    "collapsed": true
   },
   "outputs": [],
   "source": []
  },
  {
   "cell_type": "markdown",
   "metadata": {
    "collapsed": true
   },
   "source": [
    "# log"
   ]
  },
  {
   "cell_type": "markdown",
   "metadata": {},
   "source": [
    "## mini-dataset"
   ]
  },
  {
   "cell_type": "raw",
   "metadata": {},
   "source": [
    "Initialized\n",
    "Minibatch loss at step 0: 0.582814\n",
    "Minibatch accuracy: 75.8%\n",
    "Validation accuracy: 85.4%\n",
    "Minibatch loss at step 500: 0.416510\n",
    "Minibatch accuracy: 82.8%\n",
    "Validation accuracy: 86.1%\n",
    "Minibatch loss at step 1000: 0.475506\n",
    "Minibatch accuracy: 85.2%\n",
    "Validation accuracy: 85.4%\n",
    "Minibatch loss at step 1500: 0.329039\n",
    "Minibatch accuracy: 88.3%\n",
    "Validation accuracy: 85.4%\n",
    "Minibatch loss at step 2000: 0.299905\n",
    "Minibatch accuracy: 89.8%\n",
    "Validation accuracy: 85.4%\n",
    "Minibatch loss at step 2500: 0.272275\n",
    "Minibatch accuracy: 92.2%\n",
    "Validation accuracy: 85.4%\n",
    "Minibatch loss at step 3000: 0.454670\n",
    "Minibatch accuracy: 80.5%\n",
    "Validation accuracy: 84.8%\n",
    "Minibatch loss at step 3500: 0.303915\n",
    "Minibatch accuracy: 88.3%\n",
    "Validation accuracy: 85.4%\n",
    "Minibatch loss at step 4000: 0.431240\n",
    "Minibatch accuracy: 81.2%\n",
    "Validation accuracy: 85.8%\n",
    "Minibatch loss at step 4500: 0.289312\n",
    "Minibatch accuracy: 90.6%\n",
    "Validation accuracy: 85.4%\n",
    "Minibatch loss at step 5000: 0.373971\n",
    "Minibatch accuracy: 87.5%\n",
    "Validation accuracy: 85.4%\n",
    "Minibatch loss at step 5500: 0.358365\n",
    "Minibatch accuracy: 86.7%\n",
    "Validation accuracy: 85.4%\n",
    "Minibatch loss at step 6000: 0.411559\n",
    "Minibatch accuracy: 85.9%\n",
    "Validation accuracy: 86.2%\n",
    "Minibatch loss at step 6500: 0.382444\n",
    "Minibatch accuracy: 85.2%\n",
    "Validation accuracy: 85.4%\n",
    "Minibatch loss at step 7000: 0.414857\n",
    "Minibatch accuracy: 82.0%\n",
    "Validation accuracy: 86.4%\n",
    "Minibatch loss at step 7500: 0.339491\n",
    "Minibatch accuracy: 86.7%\n",
    "Validation accuracy: 85.5%\n",
    "Minibatch loss at step 8000: 0.362756\n",
    "Minibatch accuracy: 89.8%\n",
    "Validation accuracy: 85.4%\n",
    "Minibatch loss at step 8500: 0.351650\n",
    "Minibatch accuracy: 85.2%\n",
    "Validation accuracy: 85.4%\n",
    "Minibatch loss at step 9000: 0.317820\n",
    "Minibatch accuracy: 89.1%\n",
    "Validation accuracy: 85.4%\n",
    "Minibatch loss at step 9500: 0.336574\n",
    "Minibatch accuracy: 87.5%\n",
    "Validation accuracy: 85.5%\n",
    "Test accuracy: 85.5%"
   ]
  },
  {
   "cell_type": "markdown",
   "metadata": {},
   "source": [
    "## entire data set "
   ]
  },
  {
   "cell_type": "raw",
   "metadata": {},
   "source": [
    "Initialized\n",
    "Minibatch loss at step 0: 0.659597\n",
    "Minibatch accuracy: 70.3%\n",
    "Validation accuracy: 81.8%\n",
    "Minibatch loss at step 500: 0.437850\n",
    "Minibatch accuracy: 82.0%\n",
    "Validation accuracy: 81.8%\n",
    "Minibatch loss at step 1000: 0.565422\n",
    "Minibatch accuracy: 73.4%\n",
    "Validation accuracy: 80.8%\n",
    "Minibatch loss at step 1500: 0.413734\n",
    "Minibatch accuracy: 83.6%\n",
    "Validation accuracy: 81.8%\n",
    "Minibatch loss at step 2000: 0.493438\n",
    "Minibatch accuracy: 78.9%\n",
    "Validation accuracy: 81.8%\n",
    "Minibatch loss at step 2500: 0.447245\n",
    "Minibatch accuracy: 80.5%\n",
    "Validation accuracy: 81.8%\n",
    "Minibatch loss at step 3000: 0.430532\n",
    "Minibatch accuracy: 82.0%\n",
    "Validation accuracy: 81.8%\n",
    "Minibatch loss at step 3500: 0.366882\n",
    "Minibatch accuracy: 84.4%\n",
    "Validation accuracy: 81.8%\n",
    "Minibatch loss at step 4000: 0.415628\n",
    "Minibatch accuracy: 84.4%\n",
    "Validation accuracy: 81.8%\n",
    "Minibatch loss at step 4500: 0.456031\n",
    "Minibatch accuracy: 80.5%\n",
    "Validation accuracy: 81.8%\n",
    "Minibatch loss at step 5000: 0.491827\n",
    "Minibatch accuracy: 77.3%\n",
    "Validation accuracy: 81.8%\n",
    "Minibatch loss at step 5500: 0.451488\n",
    "Minibatch accuracy: 81.2%\n",
    "Validation accuracy: 81.8%\n",
    "Minibatch loss at step 6000: 0.467469\n",
    "Minibatch accuracy: 84.4%\n",
    "Validation accuracy: 81.8%\n",
    "Minibatch loss at step 6500: 0.418132\n",
    "Minibatch accuracy: 84.4%\n",
    "Validation accuracy: 81.8%\n",
    "Minibatch loss at step 7000: 0.438457\n",
    "Minibatch accuracy: 81.2%\n",
    "Validation accuracy: 81.8%\n",
    "Minibatch loss at step 7500: 0.495283\n",
    "Minibatch accuracy: 77.3%\n",
    "Validation accuracy: 81.7%\n",
    "Minibatch loss at step 8000: 0.420322\n",
    "Minibatch accuracy: 84.4%\n",
    "Validation accuracy: 81.8%\n",
    "Minibatch loss at step 8500: 0.432092\n",
    "Minibatch accuracy: 80.5%\n",
    "Validation accuracy: 81.8%\n",
    "Minibatch loss at step 9000: 0.460472\n",
    "Minibatch accuracy: 82.0%\n",
    "Validation accuracy: 81.8%\n",
    "Minibatch loss at step 9500: 0.455226\n",
    "Minibatch accuracy: 83.6%\n",
    "Validation accuracy: 81.8%\n",
    "Test accuracy: 81.3%"
   ]
  },
  {
   "cell_type": "markdown",
   "metadata": {},
   "source": [
    "actually, the imbalance of the classes is a problem in this case since the mini batch is likely to get not much of the rare class. "
   ]
  },
  {
   "cell_type": "code",
   "execution_count": null,
   "metadata": {
    "collapsed": true
   },
   "outputs": [],
   "source": []
  },
  {
   "cell_type": "markdown",
   "metadata": {},
   "source": [
    "<h1 style='background:blue;color:white;'>Trying to construct a balanced subset and see what happens</h1>\n",
    "also, implement precision and recall"
   ]
  },
  {
   "cell_type": "code",
   "execution_count": null,
   "metadata": {
    "collapsed": true
   },
   "outputs": [],
   "source": []
  },
  {
   "cell_type": "code",
   "execution_count": 21,
   "metadata": {
    "collapsed": true
   },
   "outputs": [],
   "source": [
    "### there are a couple functions at the previous blue title that needs to be run before this"
   ]
  },
  {
   "cell_type": "code",
   "execution_count": null,
   "metadata": {
    "collapsed": true
   },
   "outputs": [],
   "source": []
  },
  {
   "cell_type": "code",
   "execution_count": 10,
   "metadata": {
    "collapsed": true
   },
   "outputs": [],
   "source": [
    "def get_singleton(labels):\n",
    "    inds_notsgt=[]\n",
    "    inds_sgtn=[]\n",
    "    for i in range(len(labels)):\n",
    "        if labels[i][0]==1:\n",
    "            inds_sgtn.append(i)\n",
    "        else:\n",
    "            inds_notsgt.append(i)\n",
    "    return inds_notsgt,inds_sgtn"
   ]
  },
  {
   "cell_type": "code",
   "execution_count": 17,
   "metadata": {
    "collapsed": true
   },
   "outputs": [],
   "source": [
    "def accuracy(predictions, labels):\n",
    "    return (100.0 * np.sum(np.argmax(predictions, 1) == np.argmax(labels, 1))\n",
    "          / predictions.shape[0])"
   ]
  },
  {
   "cell_type": "code",
   "execution_count": null,
   "metadata": {
    "collapsed": true
   },
   "outputs": [],
   "source": []
  },
  {
   "cell_type": "code",
   "execution_count": null,
   "metadata": {
    "collapsed": true
   },
   "outputs": [],
   "source": [
    "#http://machinelearningmastery.com/tactics-to-combat-imbalanced-classes-in-your-machine-learning-dataset/\n",
    "#some tactics to overcome the imbalanced class problem. including resampling (oversample, undersample)"
   ]
  },
  {
   "cell_type": "markdown",
   "metadata": {},
   "source": [
    "### undersamping"
   ]
  },
  {
   "cell_type": "markdown",
   "metadata": {},
   "source": [
    "load data"
   ]
  },
  {
   "cell_type": "code",
   "execution_count": 110,
   "metadata": {
    "collapsed": false
   },
   "outputs": [
    {
     "name": "stdout",
     "output_type": "stream",
     "text": [
      "(350844, 10)\n"
     ]
    }
   ],
   "source": [
    "#pipeline\n",
    "#load data with no header and no nominal attributes\n",
    "#datafile='Data/singleton_data_mini.tab'\n",
    "#X,labels = load_data(datafile,header=False)\n",
    "\n",
    "#load new data with header row and nominal attributes in the first 3 cols\n",
    "datafile='Data/singleton_data_new.tab'\n",
    "X,labels = load_data(datafile)\n",
    "\n",
    "#shuffle dataset\n",
    "dataset_shf,labels_shf = randomize(X, labels)"
   ]
  },
  {
   "cell_type": "code",
   "execution_count": 113,
   "metadata": {
    "collapsed": false
   },
   "outputs": [
    {
     "data": {
      "text/plain": [
       "array([[ 0.,  1.],\n",
       "       [ 1.,  0.],\n",
       "       [ 0.,  1.],\n",
       "       ..., \n",
       "       [ 0.,  1.],\n",
       "       [ 0.,  1.],\n",
       "       [ 0.,  1.]], dtype=float32)"
      ]
     },
     "execution_count": 113,
     "metadata": {},
     "output_type": "execute_result"
    }
   ],
   "source": [
    "labels"
   ]
  },
  {
   "cell_type": "markdown",
   "metadata": {},
   "source": [
    "sample singleton and non-singleton data separately"
   ]
  },
  {
   "cell_type": "code",
   "execution_count": 11,
   "metadata": {
    "collapsed": false
   },
   "outputs": [
    {
     "name": "stdout",
     "output_type": "stream",
     "text": [
      "True\n",
      "292958 67157\n"
     ]
    }
   ],
   "source": [
    "# under sampling \n",
    "#first we have all singleton cases of size c;\n",
    "#then we should randomly sample size roughly c of non-singleton \n",
    "#combine these two to form a dataset\n",
    "\n",
    "#work with shuffled data sets\n",
    "#dataset_shf,labels_shf\n",
    "ind_notsgt,ind_sgt=get_singleton(labels_shf)\n",
    "singleton_data=dataset_shf[ind_sgt]\n",
    "notsgt_data=dataset_shf[ind_notsgt]\n",
    "singleton_labels=labels_shf[ind_sgt]\n",
    "notsgt_labels=labels_shf[ind_notsgt]\n",
    "print (len(notsgt_data)+len(singleton_data)==len(labels_shf))\n",
    "print (len(notsgt_data),len(singleton_data))"
   ]
  },
  {
   "cell_type": "markdown",
   "metadata": {
    "collapsed": true
   },
   "source": [
    "construct the entire undersampled dataset"
   ]
  },
  {
   "cell_type": "code",
   "execution_count": 12,
   "metadata": {
    "collapsed": false
   },
   "outputs": [
    {
     "name": "stdout",
     "output_type": "stream",
     "text": [
      "167157\n"
     ]
    }
   ],
   "source": [
    "import random\n",
    "num_notsgt_samples=100000\n",
    "notsgt_inds=random.sample(xrange(len(notsgt_data)),num_notsgt_samples)\n",
    "\n",
    "undersampled_notsgt=notsgt_data[notsgt_inds]\n",
    "undersampled_notsgt_labels=notsgt_labels[notsgt_inds]\n",
    "#construct the whole data set\n",
    "undersampled_data=np.concatenate((undersampled_notsgt,singleton_data), axis=0)\n",
    "undersampled_labels=np.concatenate((undersampled_notsgt_labels,singleton_labels), axis=0)\n",
    "\n",
    "#construct the whole labels\n",
    "#undersampled_notsgt_labels=\n",
    "print (len(undersampled_data))\n"
   ]
  },
  {
   "cell_type": "code",
   "execution_count": 13,
   "metadata": {
    "collapsed": false
   },
   "outputs": [
    {
     "data": {
      "text/plain": [
       "150441"
      ]
     },
     "execution_count": 13,
     "metadata": {},
     "output_type": "execute_result"
    }
   ],
   "source": [
    "int(len(undersampled_data)*0.9)"
   ]
  },
  {
   "cell_type": "markdown",
   "metadata": {
    "collapsed": true
   },
   "source": [
    "then you divide into different data sets, train, validate, test, and shuffle"
   ]
  },
  {
   "cell_type": "code",
   "execution_count": null,
   "metadata": {
    "collapsed": true
   },
   "outputs": [],
   "source": []
  },
  {
   "cell_type": "code",
   "execution_count": 15,
   "metadata": {
    "collapsed": true
   },
   "outputs": [],
   "source": [
    "dataset_shf_und,labels_shf_und = randomize(undersampled_data, undersampled_labels)\n",
    "\n",
    "train_size=int(len(undersampled_data)*0.9)\n",
    "val_size=int(len(undersampled_data)*0.05)\n",
    "test_isze=int(len(undersampled_data)*0.05)\n",
    "\n",
    "#get sizes of division\n",
    "train_dataset=dataset_shf_und[:int(train_size),:]\n",
    "valid_dataset=dataset_shf_und[int(train_size):int(train_size+val_size),:]\n",
    "test_dataset=dataset_shf_und[int(train_size+val_size):,:]\n",
    "train_labels=labels_shf_und[:int(train_size)]\n",
    "valid_labels=labels_shf_und[int(train_size):int(train_size+val_size)]\n",
    "test_labels=labels_shf_und[int(train_size+val_size):]\n",
    "\n",
    "#divide the dataset\n",
    "train_dataset, train_labels = randomize(train_dataset, train_labels)\n",
    "test_dataset, test_labels = randomize(test_dataset, test_labels)\n",
    "valid_dataset, valid_labels = randomize(valid_dataset, valid_labels)"
   ]
  },
  {
   "cell_type": "code",
   "execution_count": 14,
   "metadata": {
    "collapsed": true
   },
   "outputs": [],
   "source": [
    "def plot_tf(train,valid):\n",
    "    x=np.linspace(0,len(train),len(train))\n",
    "    plt.plot(x,train,'bo-',label='train')\n",
    "    plt.plot(x,valid,'rx-',label='validation')\n",
    "    plt.legend(loc=4)"
   ]
  },
  {
   "cell_type": "code",
   "execution_count": 19,
   "metadata": {
    "collapsed": false
   },
   "outputs": [],
   "source": [
    "def precision_recall(predictions,labels):\n",
    "#TP=np.sum(np.argmax(predictions, 1) == np.argmax(batch_labels, 1) == 0)\n",
    "\n",
    "    TP=0\n",
    "    predicted_sgt=np.sum(np.argmax(predictions,1)==0)\n",
    "    real_sgt=np.sum(np.argmax(labels,1)==0)\n",
    "    #print('[predicted_sgt:'+str(predicted_sgt)+\"  real_sgt:\"+str(real_sgt)+']')\n",
    "\n",
    "    for i in range(len(predictions)):\n",
    "        if np.argmax(predictions[i]) == np.argmax(labels[i]) == 0:\n",
    "            TP+=1\n",
    "    if predicted_sgt!=0:\n",
    "        precision=float(TP)/predicted_sgt\n",
    "    else:\n",
    "        precision=0\n",
    "    \n",
    "    recall=float(TP)/real_sgt\n",
    "    #print (\"[\"+str(precision)+str(recall)+']')\n",
    "    if precision==recall==0:\n",
    "        F1=0\n",
    "    else:\n",
    "        F1=(2*precision*recall)/(precision+recall)\n",
    "    return precision,recall,F1"
   ]
  },
  {
   "cell_type": "code",
   "execution_count": null,
   "metadata": {
    "collapsed": true
   },
   "outputs": [],
   "source": []
  },
  {
   "cell_type": "code",
   "execution_count": 20,
   "metadata": {
    "collapsed": false
   },
   "outputs": [
    {
     "name": "stdout",
     "output_type": "stream",
     "text": [
      "Initialized\n",
      "Minibatch loss at step 0: 0.656361\n",
      "Minibatch accuracy: 64.8%\n",
      "Validation accuracy: 60.4%\n",
      "Minibatch prec,recall,F1: 0.500 0.022 0.043\n",
      "validation prec,recall,F1: 0.000 0.000 0.000\n",
      "===================\n",
      "Minibatch loss at step 1000: 0.628837\n",
      "Minibatch accuracy: 61.7%\n",
      "Validation accuracy: 65.5%\n",
      "Minibatch prec,recall,F1: 0.455 0.326 0.380\n",
      "validation prec,recall,F1: 0.718 0.214 0.330\n",
      "===================\n",
      "Minibatch loss at step 2000: 0.676895\n",
      "Minibatch accuracy: 60.9%\n",
      "Validation accuracy: 61.3%\n",
      "Minibatch prec,recall,F1: 0.714 0.323 0.444\n",
      "validation prec,recall,F1: 0.508 0.811 0.624\n",
      "===================\n",
      "Minibatch loss at step 3000: 0.601593\n",
      "Minibatch accuracy: 71.9%\n",
      "Validation accuracy: 64.9%\n",
      "Minibatch prec,recall,F1: 0.812 0.464 0.591\n",
      "validation prec,recall,F1: 0.565 0.499 0.530\n",
      "===================\n",
      "Minibatch loss at step 4000: 0.661069\n",
      "Minibatch accuracy: 57.8%\n",
      "Validation accuracy: 66.7%\n",
      "Minibatch prec,recall,F1: 0.528 0.491 0.509\n",
      "validation prec,recall,F1: 0.617 0.419 0.499\n",
      "===================\n",
      "Minibatch loss at step 5000: 0.603112\n",
      "Minibatch accuracy: 66.4%\n",
      "Validation accuracy: 64.7%\n",
      "Minibatch prec,recall,F1: 0.762 0.296 0.427\n",
      "validation prec,recall,F1: 0.555 0.555 0.555\n",
      "===================\n",
      "Minibatch loss at step 6000: 0.589549\n",
      "Minibatch accuracy: 72.7%\n",
      "Validation accuracy: 66.4%\n",
      "Minibatch prec,recall,F1: 0.694 0.510 0.588\n",
      "validation prec,recall,F1: 0.661 0.313 0.425\n",
      "===================\n",
      "Minibatch loss at step 7000: 0.634747\n",
      "Minibatch accuracy: 64.8%\n",
      "Validation accuracy: 64.0%\n",
      "Minibatch prec,recall,F1: 0.824 0.250 0.384\n",
      "validation prec,recall,F1: 0.537 0.655 0.590\n",
      "===================\n",
      "Minibatch loss at step 8000: 0.590154\n",
      "Minibatch accuracy: 67.2%\n",
      "Validation accuracy: 65.5%\n",
      "Minibatch prec,recall,F1: 0.741 0.364 0.488\n",
      "validation prec,recall,F1: 0.576 0.490 0.530\n",
      "===================\n",
      "Minibatch loss at step 9000: 0.620136\n",
      "Minibatch accuracy: 64.1%\n",
      "Validation accuracy: 67.0%\n",
      "Minibatch prec,recall,F1: 0.480 0.267 0.343\n",
      "validation prec,recall,F1: 0.664 0.337 0.447\n",
      "===================\n",
      "Minibatch loss at step 10000: 0.624010\n",
      "Minibatch accuracy: 65.6%\n",
      "Validation accuracy: 66.8%\n",
      "Minibatch prec,recall,F1: 0.630 0.333 0.436\n",
      "validation prec,recall,F1: 0.633 0.385 0.479\n",
      "===================\n",
      "Minibatch loss at step 11000: 0.639879\n",
      "Minibatch accuracy: 61.7%\n",
      "Validation accuracy: 66.8%\n",
      "Minibatch prec,recall,F1: 0.580 0.509 0.542\n",
      "validation prec,recall,F1: 0.624 0.409 0.494\n",
      "===================\n",
      "Minibatch loss at step 12000: 0.636476\n",
      "Minibatch accuracy: 59.4%\n",
      "Validation accuracy: 66.9%\n",
      "Minibatch prec,recall,F1: 0.491 0.510 0.500\n",
      "validation prec,recall,F1: 0.675 0.319 0.433\n",
      "===================\n",
      "Minibatch loss at step 13000: 0.595911\n",
      "Minibatch accuracy: 72.7%\n",
      "Validation accuracy: 66.0%\n",
      "Minibatch prec,recall,F1: 0.821 0.434 0.568\n",
      "validation prec,recall,F1: 0.587 0.483 0.530\n",
      "===================\n",
      "Minibatch loss at step 14000: 0.667334\n",
      "Minibatch accuracy: 64.1%\n",
      "Validation accuracy: 65.3%\n",
      "Minibatch prec,recall,F1: 0.518 0.898 0.657\n",
      "validation prec,recall,F1: 0.727 0.200 0.314\n",
      "===================\n",
      "Minibatch loss at step 15000: 0.625496\n",
      "Minibatch accuracy: 63.3%\n",
      "Validation accuracy: 66.9%\n",
      "Minibatch prec,recall,F1: 0.500 0.298 0.373\n",
      "validation prec,recall,F1: 0.677 0.316 0.430\n",
      "===================\n",
      "Minibatch loss at step 16000: 0.592914\n",
      "Minibatch accuracy: 65.6%\n",
      "Validation accuracy: 66.9%\n",
      "Minibatch prec,recall,F1: 0.594 0.380 0.463\n",
      "validation prec,recall,F1: 0.635 0.390 0.483\n",
      "===================\n",
      "Minibatch loss at step 17000: 0.596724\n",
      "Minibatch accuracy: 69.5%\n",
      "Validation accuracy: 64.0%\n",
      "Minibatch prec,recall,F1: 0.846 0.386 0.530\n",
      "validation prec,recall,F1: 0.536 0.670 0.596\n",
      "===================\n",
      "Minibatch loss at step 18000: 0.605870\n",
      "Minibatch accuracy: 68.8%\n",
      "Validation accuracy: 66.2%\n",
      "Minibatch prec,recall,F1: 0.737 0.286 0.412\n",
      "validation prec,recall,F1: 0.602 0.435 0.505\n",
      "===================\n",
      "Minibatch loss at step 19000: 0.607330\n",
      "Minibatch accuracy: 68.8%\n",
      "Validation accuracy: 66.1%\n",
      "Minibatch prec,recall,F1: 0.857 0.240 0.375\n",
      "validation prec,recall,F1: 0.583 0.503 0.540\n",
      "===================\n",
      "Minibatch loss at step 20000: 0.646673\n",
      "Minibatch accuracy: 60.2%\n",
      "Validation accuracy: 67.0%\n",
      "Minibatch prec,recall,F1: 0.508 0.596 0.549\n",
      "validation prec,recall,F1: 0.660 0.343 0.452\n",
      "===================\n",
      "Minibatch loss at step 21000: 0.611310\n",
      "Minibatch accuracy: 68.0%\n",
      "Validation accuracy: 65.8%\n",
      "Minibatch prec,recall,F1: 0.840 0.362 0.506\n",
      "validation prec,recall,F1: 0.564 0.602 0.582\n",
      "===================\n",
      "Minibatch loss at step 22000: 0.590009\n",
      "Minibatch accuracy: 67.2%\n",
      "Validation accuracy: 67.1%\n",
      "Minibatch prec,recall,F1: 0.562 0.205 0.300\n",
      "validation prec,recall,F1: 0.654 0.363 0.467\n",
      "===================\n",
      "Minibatch loss at step 23000: 0.609302\n",
      "Minibatch accuracy: 71.1%\n",
      "Validation accuracy: 67.1%\n",
      "Minibatch prec,recall,F1: 0.667 0.577 0.619\n",
      "validation prec,recall,F1: 0.646 0.377 0.476\n",
      "===================\n",
      "Minibatch loss at step 24000: 0.590658\n",
      "Minibatch accuracy: 68.0%\n",
      "Validation accuracy: 67.1%\n",
      "Minibatch prec,recall,F1: 0.600 0.438 0.506\n",
      "validation prec,recall,F1: 0.675 0.327 0.441\n",
      "===================\n",
      "Minibatch loss at step 25000: 0.666484\n",
      "Minibatch accuracy: 59.4%\n",
      "Validation accuracy: 64.7%\n",
      "Minibatch prec,recall,F1: 0.594 0.328 0.422\n",
      "validation prec,recall,F1: 0.547 0.632 0.587\n",
      "===================\n",
      "Minibatch loss at step 26000: 0.606296\n",
      "Minibatch accuracy: 68.0%\n",
      "Validation accuracy: 62.5%\n",
      "Minibatch prec,recall,F1: 0.529 0.822 0.643\n",
      "validation prec,recall,F1: 0.745 0.083 0.149\n",
      "===================\n",
      "Minibatch loss at step 27000: 0.596579\n",
      "Minibatch accuracy: 73.4%\n",
      "Validation accuracy: 67.0%\n",
      "Minibatch prec,recall,F1: 0.672 0.745 0.707\n",
      "validation prec,recall,F1: 0.663 0.341 0.451\n",
      "===================\n",
      "Minibatch loss at step 28000: 0.647312\n",
      "Minibatch accuracy: 66.4%\n",
      "Validation accuracy: 64.0%\n",
      "Minibatch prec,recall,F1: 0.812 0.413 0.547\n",
      "validation prec,recall,F1: 0.535 0.701 0.607\n",
      "===================\n",
      "Minibatch loss at step 29000: 0.617582\n",
      "Minibatch accuracy: 63.3%\n",
      "Validation accuracy: 67.1%\n",
      "Minibatch prec,recall,F1: 0.528 0.388 0.447\n",
      "validation prec,recall,F1: 0.674 0.328 0.441\n",
      "===================\n",
      "Minibatch loss at step 30000: 0.584968\n",
      "Minibatch accuracy: 68.8%\n",
      "Validation accuracy: 66.2%\n",
      "Minibatch prec,recall,F1: 0.742 0.418 0.535\n",
      "validation prec,recall,F1: 0.582 0.521 0.550\n",
      "===================\n",
      "Minibatch loss at step 31000: 0.598225\n",
      "Minibatch accuracy: 62.5%\n",
      "Validation accuracy: 65.3%\n",
      "Minibatch prec,recall,F1: 0.692 0.310 0.429\n",
      "validation prec,recall,F1: 0.550 0.691 0.612\n",
      "===================\n",
      "Minibatch loss at step 32000: 0.630850\n",
      "Minibatch accuracy: 65.6%\n",
      "Validation accuracy: 61.9%\n",
      "Minibatch prec,recall,F1: 0.800 0.471 0.593\n",
      "validation prec,recall,F1: 0.513 0.772 0.617\n",
      "===================\n",
      "Minibatch loss at step 33000: 0.604561\n",
      "Minibatch accuracy: 66.4%\n",
      "Validation accuracy: 65.8%\n",
      "Minibatch prec,recall,F1: 0.697 0.411 0.517\n",
      "validation prec,recall,F1: 0.564 0.607 0.585\n",
      "===================\n",
      "Minibatch loss at step 34000: 0.595554\n",
      "Minibatch accuracy: 68.8%\n",
      "Validation accuracy: 66.0%\n",
      "Minibatch prec,recall,F1: 0.750 0.346 0.474\n",
      "validation prec,recall,F1: 0.574 0.547 0.560\n",
      "===================\n",
      "Minibatch loss at step 35000: 0.615144\n",
      "Minibatch accuracy: 65.6%\n",
      "Validation accuracy: 66.9%\n",
      "Minibatch prec,recall,F1: 0.633 0.365 0.463\n",
      "validation prec,recall,F1: 0.637 0.383 0.478\n",
      "===================\n",
      "Minibatch loss at step 36000: 0.610442\n",
      "Minibatch accuracy: 65.6%\n",
      "Validation accuracy: 67.3%\n",
      "Minibatch prec,recall,F1: 0.585 0.585 0.585\n",
      "validation prec,recall,F1: 0.650 0.381 0.480\n",
      "===================\n",
      "Minibatch loss at step 37000: 0.606330\n",
      "Minibatch accuracy: 67.2%\n",
      "Validation accuracy: 66.9%\n",
      "Minibatch prec,recall,F1: 0.643 0.360 0.462\n",
      "validation prec,recall,F1: 0.612 0.451 0.519\n",
      "===================\n",
      "Minibatch loss at step 38000: 0.567014\n",
      "Minibatch accuracy: 72.7%\n",
      "Validation accuracy: 67.1%\n",
      "Minibatch prec,recall,F1: 0.792 0.388 0.521\n",
      "validation prec,recall,F1: 0.652 0.365 0.468\n",
      "===================\n",
      "Minibatch loss at step 39000: 0.616414\n",
      "Minibatch accuracy: 67.2%\n",
      "Validation accuracy: 67.2%\n",
      "Minibatch prec,recall,F1: 0.579 0.458 0.512\n",
      "validation prec,recall,F1: 0.655 0.364 0.467\n",
      "===================\n",
      "Test accuracy: 66.9%\n",
      "Test accuracy: 0.625 0.461 0.530\n"
     ]
    },
    {
     "data": {
      "text/plain": [
       "<matplotlib.text.Text at 0x11c8b5850>"
      ]
     },
     "execution_count": 20,
     "metadata": {},
     "output_type": "execute_result"
    },
    {
     "data": {
      "image/png": "[encoded data removed]",
      "text/plain": [
       "<matplotlib.figure.Figure at 0x1267531d0>"
      ]
     },
     "metadata": {},
     "output_type": "display_data"
    }
   ],
   "source": [
    "#set of a tf graph\n",
    "\n",
    "num_nodes= 1024\n",
    "batch_size = 128\n",
    "input_size=X.shape[1]#dimension of each input vector\n",
    "num_labels=2\n",
    "\n",
    "graph = tf.Graph()\n",
    "with graph.as_default():\n",
    "\n",
    "    # Input data. For the training data, we use a placeholder that will be fed\n",
    "    # at run time with a training minibatch.\n",
    "    tf_train_dataset = tf.placeholder(tf.float32,\n",
    "                                      shape=(batch_size, input_size))\n",
    "    tf_train_labels = tf.placeholder(tf.float32, shape=(batch_size, num_labels))\n",
    "    tf_valid_dataset = tf.constant(valid_dataset)\n",
    "    tf_test_dataset = tf.constant(test_dataset)\n",
    "\n",
    "    # Variables.\n",
    "    weights_1 = tf.Variable(\n",
    "      tf.truncated_normal([input_size, num_nodes]))\n",
    "    biases_1 = tf.Variable(tf.zeros([num_nodes]))\n",
    "    weights_2 = tf.Variable(\n",
    "      tf.truncated_normal([num_nodes, num_labels]))\n",
    "    biases_2 = tf.Variable(tf.zeros([num_labels]))\n",
    "\n",
    "    # Training computation.\n",
    "    relu_layer=tf.nn.relu(tf.matmul(tf_train_dataset, weights_1) + biases_1)#notice the shape of tf_train_dataset and weights_1\n",
    "    logits = tf.matmul(relu_layer, weights_2) + biases_2\n",
    "    loss = tf.reduce_mean(\n",
    "      tf.nn.softmax_cross_entropy_with_logits(logits, tf_train_labels))\n",
    "\n",
    "    # Optimizer.\n",
    "    optimizer = tf.train.GradientDescentOptimizer(0.1).minimize(loss)\n",
    "\n",
    "    # Predictions for the training, validation, and test data.\n",
    "    train_prediction = tf.nn.softmax(logits)\n",
    "    valid_prediction = tf.nn.softmax(\n",
    "     tf.matmul(tf.nn.relu(tf.matmul(tf_valid_dataset, weights_1) + biases_1), weights_2) + biases_2)\n",
    "    test_prediction =  tf.nn.softmax(\n",
    "     tf.matmul(tf.nn.relu(tf.matmul(tf_test_dataset, weights_1) + biases_1), weights_2) + biases_2)\n",
    "\n",
    "\n",
    "num_steps = 40000\n",
    "train_acc=[]\n",
    "valid_acc=[]\n",
    "train_F1=[]\n",
    "valid_F1=[]\n",
    "loss_log=[]\n",
    "    \n",
    "    \n",
    "with tf.Session(graph=graph) as session:\n",
    "    tf.initialize_all_variables().run()\n",
    "    print(\"Initialized\")\n",
    "    for step in range(num_steps):\n",
    "        # Pick an offset within the training data, which has been randomized.\n",
    "        # Note: we could use better randomization across epochs.\n",
    "        offset = (step * batch_size) % (train_labels.shape[0] - batch_size)\n",
    "        # Generate a minibatch.\n",
    "        batch_data = train_dataset[offset:(offset + batch_size), :]\n",
    "        batch_labels = train_labels[offset:(offset + batch_size), :]\n",
    "        # Prepare a dictionary telling the session where to feed the minibatch.\n",
    "        # The key of the dictionary is the placeholder node of the graph to be fed,\n",
    "        # and the value is the numpy array to feed to it.\n",
    "        feed_dict = {tf_train_dataset : batch_data, tf_train_labels : batch_labels}\n",
    "        _, l, predictions = session.run(\n",
    "          [optimizer, loss, train_prediction], feed_dict=feed_dict)\n",
    "        if (step % 1000 == 0):\n",
    "            print(\"Minibatch loss at step %d: %f\" % (step, l))\n",
    "            print(\"Minibatch accuracy: %.1f%%\" % accuracy(predictions, batch_labels))\n",
    "            print(\"Validation accuracy: %.1f%%\" % accuracy(\n",
    "            valid_prediction.eval(), valid_labels))\n",
    "            \n",
    "            print(\"Minibatch prec,recall,F1: %.3f %.3f %.3f\"  % precision_recall(predictions, batch_labels))\n",
    "            print(\"validation prec,recall,F1: %.3f %.3f %.3f\" % precision_recall(\n",
    "            valid_prediction.eval(), valid_labels))\n",
    "            \n",
    "            \n",
    "            loss_log.append(l)\n",
    "            train_acc.append(accuracy(predictions, batch_labels))\n",
    "            valid_acc.append(accuracy(\n",
    "            valid_prediction.eval(), valid_labels))\n",
    "            train_F1.append(precision_recall(predictions, batch_labels))\n",
    "            valid_F1.append(precision_recall(\n",
    "            valid_prediction.eval(), valid_labels))\n",
    "            print(\"===================\")\n",
    "    print(\"Test accuracy: %.1f%%\" % accuracy(test_prediction.eval(), test_labels))\n",
    "    print(\"Test accuracy: %.3f %.3f %.3f\" % precision_recall(test_prediction.eval(), test_labels))\n",
    "plot_tf(train_acc,valid_acc)\n",
    "plt.title('accuracy')"
   ]
  },
  {
   "cell_type": "code",
   "execution_count": null,
   "metadata": {
    "collapsed": true
   },
   "outputs": [],
   "source": []
  },
  {
   "cell_type": "code",
   "execution_count": null,
   "metadata": {
    "collapsed": true
   },
   "outputs": [],
   "source": []
  },
  {
   "cell_type": "code",
   "execution_count": null,
   "metadata": {
    "collapsed": true
   },
   "outputs": [],
   "source": [
    "#https://www.coursera.org/learn/machine-learning/lecture/9zJUs/mini-batch-gradient-descent"
   ]
  },
  {
   "cell_type": "code",
   "execution_count": null,
   "metadata": {
    "collapsed": true
   },
   "outputs": [],
   "source": []
  },
  {
   "cell_type": "code",
   "execution_count": 22,
   "metadata": {
    "collapsed": false
   },
   "outputs": [
    {
     "data": {
      "text/plain": [
       "<matplotlib.text.Text at 0x1213d9dd0>"
      ]
     },
     "execution_count": 22,
     "metadata": {},
     "output_type": "execute_result"
    },
    {
     "data": {
      "image/png": "[encoded data removed]",
      "text/plain": [
       "<matplotlib.figure.Figure at 0x11c8299d0>"
      ]
     },
     "metadata": {},
     "output_type": "display_data"
    }
   ],
   "source": [
    "#plot F1 scores\n",
    "f1t=[i[2] for i in train_F1]\n",
    "f1v=[i[2] for i in valid_F1]\n",
    "plot_tf(f1t,f1v)\n",
    "plt.title('F1 score')\n"
   ]
  },
  {
   "cell_type": "code",
   "execution_count": null,
   "metadata": {
    "collapsed": true
   },
   "outputs": [],
   "source": []
  },
  {
   "cell_type": "code",
   "execution_count": null,
   "metadata": {
    "collapsed": true
   },
   "outputs": [],
   "source": []
  },
  {
   "cell_type": "code",
   "execution_count": 23,
   "metadata": {
    "collapsed": false
   },
   "outputs": [
    {
     "data": {
      "text/plain": [
       "<matplotlib.text.Text at 0x126ef2050>"
      ]
     },
     "execution_count": 23,
     "metadata": {},
     "output_type": "execute_result"
    },
    {
     "data": {
      "image/png": "[encoded data removed]",
      "text/plain": [
       "<matplotlib.figure.Figure at 0x12cd94f50>"
      ]
     },
     "metadata": {},
     "output_type": "display_data"
    }
   ],
   "source": [
    "\n",
    "plt.plot(loss_log)\n",
    "plt.title('loss function')"
   ]
  },
  {
   "cell_type": "markdown",
   "metadata": {},
   "source": [
    "<h1 style='background:blue;color:white;'>USE A DATASET WITH MORE complete FEATURES (13)</h1>\n"
   ]
  },
  {
   "cell_type": "code",
   "execution_count": null,
   "metadata": {
    "collapsed": true
   },
   "outputs": [],
   "source": []
  },
  {
   "cell_type": "markdown",
   "metadata": {},
   "source": [
    "### AND TRY TO GET SOME ERROR CASES"
   ]
  },
  {
   "cell_type": "code",
   "execution_count": 161,
   "metadata": {
    "collapsed": false
   },
   "outputs": [
    {
     "name": "stdout",
     "output_type": "stream",
     "text": [
      "(350845, 13)\n"
     ]
    }
   ],
   "source": [
    "#EXAMPLE: Celebration,celebration,nn,1,4,0,0,0,0,0,0,0,0,0,0.0909090909091,0.00163132137031,1\n",
    "#pipeline\n",
    "#load data with no header and no nominal attributes\n",
    "#datafile='Data/singleton_data_mini.tab'\n",
    "#X,labels = load_data(datafile,header=False)\n",
    "\n",
    "#load new data with header row and nominal attributes in the first 3 cols\n",
    "datafile='Data/singleton_data_new.tab'\n",
    "X,labels = load_data(datafile)\n",
    "\n",
    "#shuffle dataset\n",
    "dataset_shf,labels_shf = randomize(X, labels)"
   ]
  },
  {
   "cell_type": "code",
   "execution_count": null,
   "metadata": {
    "collapsed": true
   },
   "outputs": [],
   "source": []
  },
  {
   "cell_type": "code",
   "execution_count": 162,
   "metadata": {
    "collapsed": false
   },
   "outputs": [
    {
     "data": {
      "text/plain": [
       "(350845, 13)"
      ]
     },
     "execution_count": 162,
     "metadata": {},
     "output_type": "execute_result"
    }
   ],
   "source": [
    "dataset_shf.shape"
   ]
  },
  {
   "cell_type": "code",
   "execution_count": null,
   "metadata": {
    "collapsed": true
   },
   "outputs": [],
   "source": []
  },
  {
   "cell_type": "code",
   "execution_count": null,
   "metadata": {
    "collapsed": true
   },
   "outputs": [],
   "source": []
  },
  {
   "cell_type": "code",
   "execution_count": null,
   "metadata": {
    "collapsed": true
   },
   "outputs": [],
   "source": []
  },
  {
   "cell_type": "code",
   "execution_count": null,
   "metadata": {
    "collapsed": true
   },
   "outputs": [],
   "source": []
  },
  {
   "cell_type": "code",
   "execution_count": 165,
   "metadata": {
    "collapsed": false
   },
   "outputs": [
    {
     "name": "stdout",
     "output_type": "stream",
     "text": [
      "non-singleton,singleton in the original dataset: 284276 66569\n",
      "final undersampled data set size: 166569\n",
      "(149912, 13)\n"
     ]
    }
   ],
   "source": [
    "#sample sgt and non-sgt data\n",
    "ind_notsgt,ind_sgt=get_singleton(labels_shf)\n",
    "singleton_data=dataset_shf[ind_sgt]\n",
    "notsgt_data=dataset_shf[ind_notsgt]\n",
    "singleton_labels=labels_shf[ind_sgt]\n",
    "notsgt_labels=labels_shf[ind_notsgt]\n",
    "#print (len(notsgt_data)+len(singleton_data)==len(labels_shf))\n",
    "print (\"non-singleton,singleton in the original dataset:\", len(notsgt_data),len(singleton_data))\n",
    "\n",
    "\n",
    "\n",
    "#construct the entire undersampled dataset\n",
    "import random\n",
    "num_notsgt_samples=100000\n",
    "notsgt_inds=random.sample(xrange(len(notsgt_data)),num_notsgt_samples)\n",
    "undersampled_notsgt=notsgt_data[notsgt_inds]\n",
    "undersampled_notsgt_labels=notsgt_labels[notsgt_inds]\n",
    "#construct the whole data set\n",
    "undersampled_data=np.concatenate((undersampled_notsgt,singleton_data), axis=0)\n",
    "undersampled_labels=np.concatenate((undersampled_notsgt_labels,singleton_labels), axis=0)\n",
    "#construct the whole labels\n",
    "#undersampled_notsgt_labels=\n",
    "print (\"final undersampled data set size:\",len(undersampled_data))\n",
    "\n",
    "\n",
    "\n",
    "\n",
    "#divide train, valid, test\n",
    "dataset_shf_und,labels_shf_und = randomize(undersampled_data, undersampled_labels)\n",
    "train_size=int(len(undersampled_data)*0.9)\n",
    "val_size=int(len(undersampled_data)*0.05)\n",
    "test_isze=int(len(undersampled_data)*0.05)\n",
    "#get sizes of division\n",
    "train_dataset=dataset_shf_und[:int(train_size),:]\n",
    "valid_dataset=dataset_shf_und[int(train_size):int(train_size+val_size),:]\n",
    "test_dataset=dataset_shf_und[int(train_size+val_size):,:]\n",
    "train_labels=labels_shf_und[:int(train_size)]\n",
    "valid_labels=labels_shf_und[int(train_size):int(train_size+val_size)]\n",
    "test_labels=labels_shf_und[int(train_size+val_size):]\n",
    "#divide the dataset\n",
    "train_dataset, train_labels = randomize(train_dataset, train_labels)\n",
    "test_dataset, test_labels = randomize(test_dataset, test_labels)\n",
    "valid_dataset, valid_labels = randomize(valid_dataset, valid_labels)\n",
    "print (train_dataset.shape)"
   ]
  },
  {
   "cell_type": "code",
   "execution_count": null,
   "metadata": {
    "collapsed": true
   },
   "outputs": [],
   "source": []
  },
  {
   "cell_type": "code",
   "execution_count": 166,
   "metadata": {
    "collapsed": false
   },
   "outputs": [],
   "source": [
    "#set of a tf graph\n",
    "def main(num_nodes= 1024,batch_size = 128,num_steps = 10000,report_step=250):\n",
    "    \n",
    "    input_size=X.shape[1]#dimension of each input vector\n",
    "    print('================num_nodes_hidden,batch_size:',num_nodes,batch_size)\n",
    "    print('================input_feature_size:',input_size)\n",
    "    num_labels=2\n",
    "\n",
    "    graph = tf.Graph()\n",
    "    with graph.as_default():\n",
    "\n",
    "        # Input data. For the training data, we use a placeholder that will be fed\n",
    "        # at run time with a training minibatch.\n",
    "        tf_train_dataset = tf.placeholder(tf.float32,\n",
    "                                          shape=(batch_size, input_size))\n",
    "        tf_train_labels = tf.placeholder(tf.float32, shape=(batch_size, num_labels))\n",
    "        tf_valid_dataset = tf.constant(valid_dataset)\n",
    "        tf_test_dataset = tf.constant(test_dataset)\n",
    "\n",
    "        # Variables.\n",
    "        weights_1 = tf.Variable(\n",
    "          tf.truncated_normal([input_size, num_nodes]))\n",
    "        biases_1 = tf.Variable(tf.zeros([num_nodes]))\n",
    "        weights_2 = tf.Variable(\n",
    "          tf.truncated_normal([num_nodes, num_labels]))\n",
    "        biases_2 = tf.Variable(tf.zeros([num_labels]))\n",
    "\n",
    "        # Training computation.\n",
    "        relu_layer=tf.nn.relu(tf.matmul(tf_train_dataset, weights_1) + biases_1)#notice the shape of tf_train_dataset and weights_1\n",
    "        logits = tf.matmul(relu_layer, weights_2) + biases_2\n",
    "        loss = tf.reduce_mean(\n",
    "          tf.nn.softmax_cross_entropy_with_logits(logits, tf_train_labels))\n",
    "\n",
    "        # Optimizer.\n",
    "        optimizer = tf.train.GradientDescentOptimizer(0.1).minimize(loss)\n",
    "\n",
    "        # Predictions for the training, validation, and test data.\n",
    "        train_prediction = tf.nn.softmax(logits)\n",
    "        valid_prediction = tf.nn.softmax(\n",
    "         tf.matmul(tf.nn.relu(tf.matmul(tf_valid_dataset, weights_1) + biases_1), weights_2) + biases_2)\n",
    "        test_prediction =  tf.nn.softmax(\n",
    "         tf.matmul(tf.nn.relu(tf.matmul(tf_test_dataset, weights_1) + biases_1), weights_2) + biases_2)\n",
    "\n",
    "\n",
    "    \n",
    "    print ('=================num steps:',num_steps)\n",
    "    train_acc=[]\n",
    "    valid_acc=[]\n",
    "    train_F1=[]\n",
    "    valid_F1=[]\n",
    "    loss_log=[]\n",
    "\n",
    "\n",
    "\n",
    "    with tf.Session(graph=graph) as session:\n",
    "        tf.initialize_all_variables().run()\n",
    "        print(\"Initialized\")\n",
    "        for step in range(num_steps):\n",
    "            # Pick an offset within the training data, which has been randomized.\n",
    "            # Note: we could use better randomization across epochs.\n",
    "            offset = (step * batch_size) % (train_labels.shape[0] - batch_size)\n",
    "            # Generate a minibatch.\n",
    "            batch_data = train_dataset[offset:(offset + batch_size), :]\n",
    "            batch_labels = train_labels[offset:(offset + batch_size), :]\n",
    "            # Prepare a dictionary telling the session where to feed the minibatch.\n",
    "            # The key of the dictionary is the placeholder node of the graph to be fed,\n",
    "            # and the value is the numpy array to feed to it.\n",
    "            feed_dict = {tf_train_dataset : batch_data, tf_train_labels : batch_labels}\n",
    "            _, l, predictions = session.run(\n",
    "              [optimizer, loss, train_prediction], feed_dict=feed_dict)\n",
    "            if (step % report_step == 0):\n",
    "                #print(\"Minibatch loss at step %d: %f\" % (step, l))\n",
    "                #print(\"Minibatch accuracy: %.1f%%\" % accuracy(predictions, batch_labels))\n",
    "                #print(\"Validation accuracy: %.1f%%\" % accuracy(valid_prediction.eval(), valid_labels))\n",
    "\n",
    "                #print(\"Minibatch prec,recall,F1: %.3f %.3f %.3f\"  % precision_recall(predictions, batch_labels))\n",
    "                #print(\"validation prec,recall,F1: %.3f %.3f %.3f\" % precision_recall(valid_prediction.eval(), valid_labels))\n",
    "\n",
    "\n",
    "                loss_log.append(l)\n",
    "                train_acc.append(accuracy(predictions, batch_labels))\n",
    "                valid_acc.append(accuracy(valid_prediction.eval(), valid_labels))\n",
    "                train_F1.append(precision_recall(predictions, batch_labels))\n",
    "                valid_F1.append(precision_recall(valid_prediction.eval(), valid_labels))\n",
    "\n",
    "                #print(\"===================\")\n",
    "        print(\"Test accuracy: %.1f%%\" % accuracy(test_prediction.eval(), test_labels))\n",
    "        print(\"Test precision, recall, F1: %.3f %.3f %.3f\" % precision_recall(test_prediction.eval(), test_labels))\n",
    "    plt.figure(0)\n",
    "    plot_tf(train_acc,valid_acc)\n",
    "    plt.title('accuracy')\n",
    "    #plot F1 scores\n",
    "    f1t=[i[2] for i in train_F1]\n",
    "    f1v=[i[2] for i in valid_F1]\n",
    "    plt.figure(1)\n",
    "    plot_tf(f1t,f1v)\n",
    "    plt.title('F1 score')\n",
    "    \n",
    "    #plot precision\n",
    "    prect=[i[0] for i in train_F1]\n",
    "    precv=[i[0] for i in valid_F1]\n",
    "    plt.figure(2)\n",
    "    plot_tf(prect,precv)\n",
    "    plt.title('Precision')\n",
    "\n",
    "    #plot losss\n",
    "    plt.figure(3)\n",
    "    plt.plot(loss_log)\n",
    "    plt.title('loss function')\n",
    "    return train_F1,valid_F1,loss_log"
   ]
  },
  {
   "cell_type": "code",
   "execution_count": null,
   "metadata": {
    "collapsed": true
   },
   "outputs": [],
   "source": []
  },
  {
   "cell_type": "code",
   "execution_count": null,
   "metadata": {
    "collapsed": true
   },
   "outputs": [],
   "source": []
  },
  {
   "cell_type": "markdown",
   "metadata": {},
   "source": [
    "<span style='background:yellow; font-size:14pt;'>RUN:new_data_1013_1<span>"
   ]
  },
  {
   "cell_type": "code",
   "execution_count": 297,
   "metadata": {
    "collapsed": false
   },
   "outputs": [
    {
     "name": "stdout",
     "output_type": "stream",
     "text": [
      "================num_nodes_hidden,batch_size: 1024 128\n",
      "================input_feature_size: 13\n",
      "=================num steps: 40000\n",
      "Initialized\n",
      "Test accuracy: 71.1%\n",
      "Test precision, recall, F1: 0.673 0.557 0.609\n"
     ]
    },
    {
     "data": {
      "image/png": "[encoded data removed]",
      "text/plain": [
       "<matplotlib.figure.Figure at 0x11f58b9d0>"
      ]
     },
     "metadata": {},
     "output_type": "display_data"
    },
    {
     "data": {
      "image/png": "[encoded data removed]",
      "text/plain": [
       "<matplotlib.figure.Figure at 0x127907dd0>"
      ]
     },
     "metadata": {},
     "output_type": "display_data"
    },
    {
     "data": {
      "image/png": "[encoded data removed]",
      "text/plain": [
       "<matplotlib.figure.Figure at 0x127907c50>"
      ]
     },
     "metadata": {},
     "output_type": "display_data"
    },
    {
     "data": {
      "image/png": "[encoded data removed]",
      "text/plain": [
       "<matplotlib.figure.Figure at 0x121301490>"
      ]
     },
     "metadata": {},
     "output_type": "display_data"
    }
   ],
   "source": [
    "t,v,l=main(1024,128,40000,2000)"
   ]
  },
  {
   "cell_type": "code",
   "execution_count": null,
   "metadata": {
    "collapsed": true
   },
   "outputs": [],
   "source": []
  },
  {
   "cell_type": "code",
   "execution_count": null,
   "metadata": {
    "collapsed": true
   },
   "outputs": [],
   "source": []
  },
  {
   "cell_type": "code",
   "execution_count": null,
   "metadata": {
    "collapsed": true
   },
   "outputs": [],
   "source": []
  },
  {
   "cell_type": "code",
   "execution_count": null,
   "metadata": {
    "collapsed": true
   },
   "outputs": [],
   "source": []
  },
  {
   "cell_type": "code",
   "execution_count": null,
   "metadata": {
    "collapsed": true
   },
   "outputs": [],
   "source": []
  },
  {
   "cell_type": "code",
   "execution_count": null,
   "metadata": {
    "collapsed": true
   },
   "outputs": [],
   "source": []
  },
  {
   "cell_type": "code",
   "execution_count": null,
   "metadata": {
    "collapsed": true
   },
   "outputs": [],
   "source": []
  },
  {
   "cell_type": "code",
   "execution_count": null,
   "metadata": {
    "collapsed": true
   },
   "outputs": [],
   "source": []
  },
  {
   "cell_type": "code",
   "execution_count": null,
   "metadata": {
    "collapsed": true
   },
   "outputs": [],
   "source": []
  },
  {
   "cell_type": "code",
   "execution_count": null,
   "metadata": {
    "collapsed": true
   },
   "outputs": [],
   "source": []
  },
  {
   "cell_type": "code",
   "execution_count": null,
   "metadata": {
    "collapsed": true
   },
   "outputs": [],
   "source": []
  },
  {
   "cell_type": "code",
   "execution_count": null,
   "metadata": {
    "collapsed": true
   },
   "outputs": [],
   "source": []
  },
  {
   "cell_type": "markdown",
   "metadata": {},
   "source": [
    "<span style='background:yellow; font-size:14pt;'>RUN:new_data_1013_2<span>"
   ]
  },
  {
   "cell_type": "code",
   "execution_count": null,
   "metadata": {
    "collapsed": true
   },
   "outputs": [],
   "source": []
  },
  {
   "cell_type": "code",
   "execution_count": 170,
   "metadata": {
    "collapsed": false
   },
   "outputs": [
    {
     "name": "stdout",
     "output_type": "stream",
     "text": [
      "================num_nodes_hidden,batch_size: 1024 128\n",
      "================input_feature_size: 13\n",
      "=================num steps: 20000\n",
      "Initialized\n",
      "Test accuracy: 69.0%\n",
      "Test precision, recall, F1: 0.706 0.399 0.510\n"
     ]
    },
    {
     "data": {
      "image/png": "[encoded data removed]",
      "text/plain": [
       "<matplotlib.figure.Figure at 0x123f10950>"
      ]
     },
     "metadata": {},
     "output_type": "display_data"
    },
    {
     "data": {
      "image/png": "[encoded data removed]",
      "text/plain": [
       "<matplotlib.figure.Figure at 0x120776d50>"
      ]
     },
     "metadata": {},
     "output_type": "display_data"
    },
    {
     "data": {
      "image/png": "[encoded data removed]",
      "text/plain": [
       "<matplotlib.figure.Figure at 0x120776d10>"
      ]
     },
     "metadata": {},
     "output_type": "display_data"
    },
    {
     "data": {
      "image/png": "[encoded data removed]",
      "text/plain": [
       "<matplotlib.figure.Figure at 0x1210928d0>"
      ]
     },
     "metadata": {},
     "output_type": "display_data"
    }
   ],
   "source": [
    "t,v,l=main(1024,128,20000,500)"
   ]
  },
  {
   "cell_type": "code",
   "execution_count": null,
   "metadata": {
    "collapsed": true
   },
   "outputs": [],
   "source": []
  },
  {
   "cell_type": "code",
   "execution_count": null,
   "metadata": {
    "collapsed": true
   },
   "outputs": [],
   "source": []
  },
  {
   "cell_type": "markdown",
   "metadata": {},
   "source": [
    "<span style='background:yellow; font-size:14pt;'>RUN:new_data_1013_3<span>"
   ]
  },
  {
   "cell_type": "code",
   "execution_count": 171,
   "metadata": {
    "collapsed": false
   },
   "outputs": [
    {
     "name": "stdout",
     "output_type": "stream",
     "text": [
      "================num_nodes_hidden,batch_size: 1024 128\n",
      "================input_feature_size: 13\n",
      "=================num steps: 30000\n",
      "Initialized\n",
      "Test accuracy: 69.0%\n",
      "Test precision, recall, F1: 0.593 0.736 0.657\n"
     ]
    },
    {
     "data": {
      "image/png": "[encoded data removed]",
      "text/plain": [
       "<matplotlib.figure.Figure at 0x1245abb90>"
      ]
     },
     "metadata": {},
     "output_type": "display_data"
    },
    {
     "data": {
      "image/png": "[encoded data removed]",
      "text/plain": [
       "<matplotlib.figure.Figure at 0x122fc6110>"
      ]
     },
     "metadata": {},
     "output_type": "display_data"
    },
    {
     "data": {
      "image/png": "[encoded data removed]",
      "text/plain": [
       "<matplotlib.figure.Figure at 0x122fc6790>"
      ]
     },
     "metadata": {},
     "output_type": "display_data"
    },
    {
     "data": {
      "image/png": "[encoded data removed]",
      "text/plain": [
       "<matplotlib.figure.Figure at 0x11fa3e910>"
      ]
     },
     "metadata": {},
     "output_type": "display_data"
    }
   ],
   "source": [
    "train,valid,loss=main(1024,128,30000,1000)"
   ]
  },
  {
   "cell_type": "code",
   "execution_count": null,
   "metadata": {
    "collapsed": true
   },
   "outputs": [],
   "source": []
  },
  {
   "cell_type": "code",
   "execution_count": null,
   "metadata": {
    "collapsed": true
   },
   "outputs": [],
   "source": []
  },
  {
   "cell_type": "code",
   "execution_count": null,
   "metadata": {
    "collapsed": true
   },
   "outputs": [],
   "source": []
  },
  {
   "cell_type": "markdown",
   "metadata": {},
   "source": [
    "<span style='background:yellow; font-size:14pt;'>RUN:new_data_1013_4<span>"
   ]
  },
  {
   "cell_type": "code",
   "execution_count": null,
   "metadata": {
    "collapsed": true
   },
   "outputs": [],
   "source": []
  },
  {
   "cell_type": "code",
   "execution_count": 173,
   "metadata": {
    "collapsed": false
   },
   "outputs": [
    {
     "name": "stdout",
     "output_type": "stream",
     "text": [
      "================num_nodes_hidden,batch_size: 1024 128\n",
      "================input_feature_size: 13\n",
      "=================num steps: 5000\n",
      "Initialized\n",
      "Test accuracy: 65.7%\n",
      "Test precision, recall, F1: 0.807 0.196 0.315\n"
     ]
    },
    {
     "data": {
      "image/png": "[encoded data removed]",
      "text/plain": [
       "<matplotlib.figure.Figure at 0x127921dd0>"
      ]
     },
     "metadata": {},
     "output_type": "display_data"
    },
    {
     "data": {
      "image/png": "[encoded data removed]",
      "text/plain": [
       "<matplotlib.figure.Figure at 0x11d8388d0>"
      ]
     },
     "metadata": {},
     "output_type": "display_data"
    },
    {
     "data": {
      "image/png": "[encoded data removed]",
      "text/plain": [
       "<matplotlib.figure.Figure at 0x11d838890>"
      ]
     },
     "metadata": {},
     "output_type": "display_data"
    },
    {
     "data": {
      "image/png": "[encoded data removed]",
      "text/plain": [
       "<matplotlib.figure.Figure at 0x124589650>"
      ]
     },
     "metadata": {},
     "output_type": "display_data"
    }
   ],
   "source": [
    "train,valid,loss=main(1024,128,5000,100)"
   ]
  },
  {
   "cell_type": "code",
   "execution_count": null,
   "metadata": {
    "collapsed": true
   },
   "outputs": [],
   "source": []
  },
  {
   "cell_type": "markdown",
   "metadata": {},
   "source": [
    "<span style='background:yellow; font-size:14pt;'>RUN:new_data_1013_5<span>"
   ]
  },
  {
   "cell_type": "code",
   "execution_count": 175,
   "metadata": {
    "collapsed": false
   },
   "outputs": [
    {
     "name": "stdout",
     "output_type": "stream",
     "text": [
      "================num_nodes_hidden,batch_size: 10 128\n",
      "================input_feature_size: 13\n",
      "=================num steps: 20000\n",
      "Initialized\n",
      "Test accuracy: 66.3%\n",
      "Test precision, recall, F1: 0.668 0.324 0.436\n"
     ]
    },
    {
     "data": {
      "image/png": "[encoded data removed]",
      "text/plain": [
       "<matplotlib.figure.Figure at 0x1288466d0>"
      ]
     },
     "metadata": {},
     "output_type": "display_data"
    },
    {
     "data": {
      "image/png": "[encoded data removed]",
      "text/plain": [
       "<matplotlib.figure.Figure at 0x122298690>"
      ]
     },
     "metadata": {},
     "output_type": "display_data"
    },
    {
     "data": {
      "image/png": "[encoded data removed]",
      "text/plain": [
       "<matplotlib.figure.Figure at 0x122298650>"
      ]
     },
     "metadata": {},
     "output_type": "display_data"
    },
    {
     "data": {
      "image/png": "[encoded data removed]",
      "text/plain": [
       "<matplotlib.figure.Figure at 0x1279dd210>"
      ]
     },
     "metadata": {},
     "output_type": "display_data"
    }
   ],
   "source": [
    "t,v,l=main(10,128,20000,1000)"
   ]
  },
  {
   "cell_type": "code",
   "execution_count": null,
   "metadata": {
    "collapsed": true
   },
   "outputs": [],
   "source": []
  },
  {
   "cell_type": "code",
   "execution_count": null,
   "metadata": {
    "collapsed": true
   },
   "outputs": [],
   "source": []
  },
  {
   "cell_type": "code",
   "execution_count": null,
   "metadata": {
    "collapsed": true
   },
   "outputs": [],
   "source": []
  },
  {
   "cell_type": "markdown",
   "metadata": {},
   "source": [
    "<span style='background:yellow; font-size:14pt;'>RUN:new_data_1013_6<span>"
   ]
  },
  {
   "cell_type": "code",
   "execution_count": 183,
   "metadata": {
    "collapsed": false
   },
   "outputs": [
    {
     "name": "stdout",
     "output_type": "stream",
     "text": [
      "================num_nodes_hidden,batch_size: 256 128\n",
      "================input_feature_size: 13\n",
      "=================num steps: 20000\n",
      "Initialized\n",
      "Test accuracy: 66.9%\n",
      "Test precision, recall, F1: 0.663 0.365 0.471\n"
     ]
    },
    {
     "data": {
      "image/png": "[encoded data removed]",
      "text/plain": [
       "<matplotlib.figure.Figure at 0x123934d90>"
      ]
     },
     "metadata": {},
     "output_type": "display_data"
    },
    {
     "data": {
      "image/png": "[encoded data removed]",
      "text/plain": [
       "<matplotlib.figure.Figure at 0x12679ed90>"
      ]
     },
     "metadata": {},
     "output_type": "display_data"
    },
    {
     "data": {
      "image/png": "[encoded data removed]",
      "text/plain": [
       "<matplotlib.figure.Figure at 0x12679ed50>"
      ]
     },
     "metadata": {},
     "output_type": "display_data"
    },
    {
     "data": {
      "image/png": "[encoded data removed]",
      "text/plain": [
       "<matplotlib.figure.Figure at 0x127c43910>"
      ]
     },
     "metadata": {},
     "output_type": "display_data"
    }
   ],
   "source": [
    "t,v,l=main(256,128,20000,1000)"
   ]
  },
  {
   "cell_type": "markdown",
   "metadata": {},
   "source": [
    "## retrieve the error cases"
   ]
  },
  {
   "cell_type": "code",
   "execution_count": null,
   "metadata": {
    "collapsed": true
   },
   "outputs": [],
   "source": []
  },
  {
   "cell_type": "code",
   "execution_count": 185,
   "metadata": {
    "collapsed": false
   },
   "outputs": [],
   "source": [
    "predicted_sgt=np.sum(np.argmax(predictions,1)==0)"
   ]
  },
  {
   "cell_type": "code",
   "execution_count": 188,
   "metadata": {
    "collapsed": false
   },
   "outputs": [
    {
     "data": {
      "text/plain": [
       "array([[ 0.37080285,  0.62919712],\n",
       "       [ 0.38562655,  0.61437345],\n",
       "       [ 0.42572922,  0.57427078],\n",
       "       [ 0.30796358,  0.69203639],\n",
       "       [ 0.64926642,  0.35073352],\n",
       "       [ 0.34920087,  0.6507991 ],\n",
       "       [ 0.61010295,  0.38989702],\n",
       "       [ 0.46599802,  0.53400195],\n",
       "       [ 0.34212729,  0.65787274],\n",
       "       [ 0.25874332,  0.74125671]], dtype=float32)"
      ]
     },
     "execution_count": 188,
     "metadata": {},
     "output_type": "execute_result"
    }
   ],
   "source": [
    "predictions[:10]"
   ]
  },
  {
   "cell_type": "code",
   "execution_count": 189,
   "metadata": {
    "collapsed": false
   },
   "outputs": [
    {
     "data": {
      "text/plain": [
       "array([[ 0.,  1.],\n",
       "       [ 1.,  0.],\n",
       "       [ 0.,  1.],\n",
       "       [ 0.,  1.],\n",
       "       [ 1.,  0.],\n",
       "       [ 0.,  1.],\n",
       "       [ 0.,  1.],\n",
       "       [ 0.,  1.],\n",
       "       [ 1.,  0.],\n",
       "       [ 0.,  1.]], dtype=float32)"
      ]
     },
     "execution_count": 189,
     "metadata": {},
     "output_type": "execute_result"
    }
   ],
   "source": [
    "labels[:10]"
   ]
  },
  {
   "cell_type": "code",
   "execution_count": 208,
   "metadata": {
    "collapsed": true
   },
   "outputs": [],
   "source": [
    "def get_error_cases(predictions,labels):\n",
    "    false_sgt=[]\n",
    "    false_nsgt=[]\n",
    "    for i in range(len(predictions)):\n",
    "            if np.argmax(predictions[i]) == 0 and  np.argmax(labels[i]) == 1:\n",
    "                false_sgt.append(i)\n",
    "            elif np.argmax(predictions[i]) == 1 and  np.argmax(labels[i]) == 0:\n",
    "                false_nsgt.append(i)\n",
    "    return false_sgt,false_nsgt"
   ]
  },
  {
   "cell_type": "code",
   "execution_count": null,
   "metadata": {
    "collapsed": true
   },
   "outputs": [],
   "source": []
  },
  {
   "cell_type": "code",
   "execution_count": null,
   "metadata": {
    "collapsed": true
   },
   "outputs": [],
   "source": []
  },
  {
   "cell_type": "code",
   "execution_count": 201,
   "metadata": {
    "collapsed": false
   },
   "outputs": [],
   "source": [
    "p=np.array([1,2,3,4,5])\n",
    "p=p+1"
   ]
  },
  {
   "cell_type": "code",
   "execution_count": 202,
   "metadata": {
    "collapsed": false
   },
   "outputs": [
    {
     "data": {
      "text/plain": [
       "array([2, 3, 4, 5, 6])"
      ]
     },
     "execution_count": 202,
     "metadata": {},
     "output_type": "execute_result"
    }
   ],
   "source": [
    "p"
   ]
  },
  {
   "cell_type": "code",
   "execution_count": null,
   "metadata": {
    "collapsed": true
   },
   "outputs": [],
   "source": []
  },
  {
   "cell_type": "code",
   "execution_count": 277,
   "metadata": {
    "collapsed": true
   },
   "outputs": [],
   "source": [
    "#set of a tf graph\n",
    "def run_tf_noplot(num_nodes= 1024,batch_size = 128,num_steps = 10000,report_step=250):\n",
    "    \n",
    "    input_size=X.shape[1]#dimension of each input vector\n",
    "    print('================num_nodes_hidden,batch_size:',num_nodes,batch_size)\n",
    "    print('================input_feature_size:',input_size)\n",
    "    num_labels=2\n",
    "\n",
    "    graph = tf.Graph()\n",
    "    with graph.as_default():\n",
    "\n",
    "        # Input data. For the training data, we use a placeholder that will be fed\n",
    "        # at run time with a training minibatch.\n",
    "        tf_train_dataset = tf.placeholder(tf.float32,\n",
    "                                          shape=(batch_size, input_size))\n",
    "        tf_train_labels = tf.placeholder(tf.float32, shape=(batch_size, num_labels))\n",
    "        tf_valid_dataset = tf.constant(valid_dataset)\n",
    "        tf_test_dataset = tf.constant(test_dataset)\n",
    "\n",
    "        # Variables.\n",
    "        weights_1 = tf.Variable(\n",
    "          tf.truncated_normal([input_size, num_nodes]))\n",
    "        biases_1 = tf.Variable(tf.zeros([num_nodes]))\n",
    "        weights_2 = tf.Variable(\n",
    "          tf.truncated_normal([num_nodes, num_labels]))\n",
    "        biases_2 = tf.Variable(tf.zeros([num_labels]))\n",
    "\n",
    "        # Training computation.\n",
    "        relu_layer=tf.nn.relu(tf.matmul(tf_train_dataset, weights_1) + biases_1)\n",
    "        #notice the shape of tf_train_dataset and weights_1\n",
    "        logits = tf.matmul(relu_layer, weights_2) + biases_2\n",
    "        loss = tf.reduce_mean(\n",
    "          tf.nn.softmax_cross_entropy_with_logits(logits, tf_train_labels))\n",
    "\n",
    "        # Optimizer.\n",
    "        optimizer = tf.train.GradientDescentOptimizer(0.1).minimize(loss)\n",
    "\n",
    "        # Predictions for the training, validation, and test data.\n",
    "        train_prediction = tf.nn.softmax(logits)\n",
    "        valid_prediction = tf.nn.softmax(\n",
    "         tf.matmul(tf.nn.relu(tf.matmul(tf_valid_dataset, weights_1) + biases_1), weights_2) + biases_2)\n",
    "        test_prediction =  tf.nn.softmax(\n",
    "         tf.matmul(tf.nn.relu(tf.matmul(tf_test_dataset, weights_1) + biases_1), weights_2) + biases_2)\n",
    "\n",
    "\n",
    "    \n",
    "    print ('=================num steps:',num_steps)\n",
    "    train_acc=[]\n",
    "    valid_acc=[]\n",
    "    train_F1=[]\n",
    "    valid_F1=[]\n",
    "    loss_log=[]\n",
    "    false_sgt_log=[]\n",
    "    false_nsgt_log=[]\n",
    "\n",
    "\n",
    "\n",
    "    with tf.Session(graph=graph) as session:\n",
    "        tf.initialize_all_variables().run()\n",
    "        print(\"Initialized\")\n",
    "        for step in range(num_steps):\n",
    "            # Pick an offset within the training data, which has been randomized.\n",
    "            # Note: we could use better randomization across epochs.\n",
    "            offset = (step * batch_size) % (train_labels.shape[0] - batch_size)\n",
    "            # Generate a minibatch.\n",
    "            batch_data = train_dataset[offset:(offset + batch_size), :]\n",
    "            batch_labels = train_labels[offset:(offset + batch_size), :]\n",
    "            # Prepare a dictionary telling the session where to feed the minibatch.\n",
    "            # The key of the dictionary is the placeholder node of the graph to be fed,\n",
    "            # and the value is the numpy array to feed to it.\n",
    "            feed_dict = {tf_train_dataset : batch_data, tf_train_labels : batch_labels}\n",
    "            _, l, predictions = session.run([optimizer, loss, train_prediction], feed_dict=feed_dict)\n",
    "            if (step % report_step == 0):\n",
    "                #print(\"Minibatch loss at step %d: %f\" % (step, l))\n",
    "                #print(\"Minibatch accuracy: %.1f%%\" % accuracy(predictions, batch_labels))\n",
    "                #print(\"Validation accuracy: %.1f%%\" % accuracy(valid_prediction.eval(), valid_labels))\n",
    "\n",
    "                #print(\"Minibatch prec,recall,F1: %.3f %.3f %.3f\"  % precision_recall(predictions, batch_labels))\n",
    "                #print(\"validation prec,recall,F1: %.3f %.3f %.3f\" % precision_recall(valid_prediction.eval(), valid_labels))\n",
    "\n",
    "                #get some error cases in training (not yet validation errors)\n",
    "                #print (predictions)\n",
    "                #print (batch_labels)\n",
    "                false_sgt,false_nsgt=get_error_cases(predictions,batch_labels)\n",
    "                #print('false_sgt:',false_sgt)\n",
    "                #print('false_nsgt:',false_nsgt)\n",
    "                false_sgt_batch=offset+np.array(false_sgt)\n",
    "                false_nsgt_batch=offset+np.array(false_nsgt)\n",
    "                false_sgt_log.append(false_sgt_batch)\n",
    "                false_nsgt_log.append(false_nsgt_batch)\n",
    "                #print ('offset:',offset)\n",
    "                #print (false_sgt_log)\n",
    "\n",
    "                loss_log.append(l)\n",
    "                train_acc.append(accuracy(predictions, batch_labels))\n",
    "                valid_acc.append(accuracy(valid_prediction.eval(), valid_labels))\n",
    "                train_F1.append(precision_recall(predictions, batch_labels))\n",
    "                valid_F1.append(precision_recall(valid_prediction.eval(), valid_labels))\n",
    "\n",
    "                #print(\"===================\")\n",
    "        print(\"Test accuracy: %.1f%%\" % accuracy(test_prediction.eval(), test_labels))\n",
    "        print(\"Test precision, recall, F1: %.3f %.3f %.3f\" % precision_recall(test_prediction.eval(), test_labels))\n",
    "    \n",
    "    return train_F1,valid_F1,loss_log, false_sgt_log,false_nsgt_log"
   ]
  },
  {
   "cell_type": "code",
   "execution_count": null,
   "metadata": {
    "collapsed": true
   },
   "outputs": [],
   "source": []
  },
  {
   "cell_type": "code",
   "execution_count": null,
   "metadata": {
    "collapsed": true
   },
   "outputs": [],
   "source": []
  },
  {
   "cell_type": "code",
   "execution_count": null,
   "metadata": {
    "collapsed": true
   },
   "outputs": [],
   "source": []
  },
  {
   "cell_type": "code",
   "execution_count": null,
   "metadata": {
    "collapsed": true
   },
   "outputs": [],
   "source": [
    "#now, you can return the false ones at each report step, but they are not meaningful yet. You \n",
    "#probably do something such as return the mistakes on validation and test, or the last of train\n",
    "# or something"
   ]
  },
  {
   "cell_type": "code",
   "execution_count": null,
   "metadata": {
    "collapsed": true
   },
   "outputs": [],
   "source": []
  },
  {
   "cell_type": "code",
   "execution_count": null,
   "metadata": {
    "collapsed": true
   },
   "outputs": [],
   "source": []
  },
  {
   "cell_type": "code",
   "execution_count": null,
   "metadata": {
    "collapsed": true
   },
   "outputs": [],
   "source": []
  },
  {
   "cell_type": "code",
   "execution_count": 227,
   "metadata": {
    "collapsed": true
   },
   "outputs": [
    {
     "name": "stdout",
     "output_type": "stream",
     "text": [
      "================num_nodes_hidden,batch_size: 10 128\n",
      "================input_feature_size: 13\n",
      "=================num steps: 1000\n",
      "Initialized\n",
      "false_sgt: []\n",
      "false_nsgt: [2, 4, 6, 13, 14, 23, 25, 30, 31, 33, 34, 41, 42, 47, 49, 52, 53, 55, 63, 64, 67, 68, 69, 72, 73, 74, 75, 78, 80, 82, 87, 88, 89, 90, 91, 92, 96, 97, 99, 100, 104, 107, 108, 113, 114, 115, 116, 117, 118, 119, 121, 122, 123, 124, 126, 127]\n",
      "offset: 0\n",
      "===================\n",
      "false_sgt: []\n",
      "false_nsgt: [1, 2, 3, 7, 8, 9, 18, 23, 25, 29, 35, 36, 37, 38, 43, 44, 49, 50, 51, 53, 54, 55, 56, 59, 60, 61, 63, 65, 66, 69, 72, 73, 74, 76, 81, 82, 83, 84, 87, 88, 96, 99, 101, 105, 107, 118, 120, 123, 125]\n",
      "offset: 6400\n",
      "===================\n",
      "false_sgt: []\n",
      "false_nsgt: [0, 2, 4, 5, 9, 11, 12, 16, 18, 19, 22, 26, 28, 29, 30, 31, 32, 35, 37, 39, 40, 41, 44, 47, 50, 53, 56, 59, 63, 65, 66, 67, 70, 76, 81, 84, 89, 91, 97, 100, 104, 106, 108, 109, 112, 113, 117, 119, 125]\n",
      "offset: 12800\n",
      "===================\n",
      "false_sgt: []\n",
      "false_nsgt: [0, 3, 5, 6, 8, 9, 10, 11, 13, 15, 16, 18, 19, 23, 29, 34, 35, 36, 39, 40, 51, 52, 55, 59, 62, 63, 67, 71, 75, 77, 78, 79, 83, 84, 85, 87, 88, 93, 96, 99, 103, 105, 106, 107, 111, 120]\n",
      "offset: 19200\n",
      "===================\n",
      "false_sgt: []\n",
      "false_nsgt: [1, 2, 3, 4, 6, 10, 11, 12, 14, 16, 17, 20, 24, 27, 29, 31, 37, 39, 43, 45, 47, 49, 50, 52, 55, 56, 57, 58, 60, 61, 68, 74, 78, 79, 83, 85, 88, 93, 94, 99, 100, 103, 105, 108, 109, 111, 114, 119, 120, 124]\n",
      "offset: 25600\n",
      "===================\n",
      "false_sgt: []\n",
      "false_nsgt: [1, 2, 5, 7, 13, 15, 16, 23, 25, 26, 30, 31, 32, 33, 34, 37, 38, 39, 43, 44, 45, 46, 51, 57, 60, 61, 67, 69, 70, 73, 74, 76, 81, 83, 84, 85, 96, 98, 101, 102, 103, 105, 106, 110, 111, 112, 115, 124, 125]\n",
      "offset: 32000\n",
      "===================\n",
      "false_sgt: []\n",
      "false_nsgt: [0, 5, 6, 7, 9, 11, 14, 15, 20, 21, 22, 28, 29, 34, 36, 40, 45, 46, 47, 48, 53, 56, 59, 62, 65, 67, 69, 74, 76, 81, 82, 85, 90, 91, 92, 93, 94, 100, 105, 106, 108, 109, 111, 112, 114, 115, 117, 123, 127]\n",
      "offset: 38400\n",
      "===================\n",
      "false_sgt: []\n",
      "false_nsgt: [4, 7, 10, 12, 13, 15, 19, 20, 25, 28, 30, 33, 35, 37, 39, 40, 41, 42, 43, 44, 48, 50, 51, 56, 58, 60, 64, 66, 68, 69, 70, 74, 76, 81, 82, 84, 87, 88, 89, 96, 97, 98, 102, 103, 106, 110, 112, 114, 115, 118, 123, 126]\n",
      "offset: 44800\n",
      "===================\n",
      "false_sgt: []\n",
      "false_nsgt: [1, 3, 4, 6, 8, 9, 11, 12, 13, 19, 20, 23, 24, 26, 28, 30, 31, 32, 34, 35, 37, 38, 40, 43, 44, 50, 51, 52, 54, 57, 60, 67, 69, 70, 71, 72, 77, 80, 83, 84, 86, 90, 97, 103, 106, 107, 108, 111, 112, 113, 114, 115, 117, 119, 124, 126]\n",
      "offset: 51200\n",
      "===================\n",
      "false_sgt: []\n",
      "false_nsgt: [1, 2, 4, 7, 12, 13, 17, 18, 19, 23, 28, 29, 35, 38, 40, 44, 46, 51, 53, 55, 56, 59, 66, 73, 74, 76, 79, 81, 82, 84, 85, 90, 95, 97, 98, 100, 106, 107, 109, 111, 112, 116, 117, 121, 123, 124, 126]\n",
      "offset: 57600\n",
      "===================\n",
      "false_sgt: []\n",
      "false_nsgt: [2, 8, 13, 14, 17, 18, 24, 25, 31, 34, 36, 38, 39, 40, 41, 46, 48, 49, 50, 56, 62, 64, 65, 66, 67, 70, 71, 72, 74, 77, 80, 84, 87, 90, 95, 97, 99, 101, 108, 109, 110, 113, 115, 116, 118, 119, 126, 127]\n",
      "offset: 64000\n",
      "===================\n",
      "false_sgt: []\n",
      "false_nsgt: [0, 1, 2, 3, 4, 9, 10, 13, 17, 20, 21, 28, 30, 31, 32, 33, 37, 39, 40, 43, 47, 48, 49, 50, 54, 67, 68, 69, 71, 72, 74, 75, 77, 78, 80, 82, 83, 85, 86, 88, 93, 96, 97, 99, 100, 102, 104, 107, 108, 111, 118, 119, 120, 121, 122, 127]\n",
      "offset: 70400\n",
      "===================\n",
      "false_sgt: []\n",
      "false_nsgt: [1, 2, 7, 8, 9, 10, 12, 15, 17, 18, 19, 20, 23, 24, 26, 27, 32, 35, 37, 40, 44, 45, 46, 47, 48, 50, 53, 60, 62, 70, 71, 77, 78, 90, 91, 92, 97, 98, 102, 104, 105, 110, 116, 117, 123, 126, 127]\n",
      "offset: 76800\n",
      "===================\n",
      "false_sgt: []\n",
      "false_nsgt: [0, 4, 5, 6, 7, 9, 10, 12, 19, 21, 25, 27, 28, 29, 32, 42, 43, 48, 49, 51, 52, 54, 55, 56, 60, 61, 63, 64, 66, 68, 69, 72, 75, 79, 84, 87, 89, 96, 98, 105, 113, 116, 117, 118, 121, 122, 123, 124]\n",
      "offset: 83200\n",
      "===================\n",
      "false_sgt: []\n",
      "false_nsgt: [1, 4, 12, 15, 16, 17, 21, 29, 31, 33, 36, 38, 40, 41, 43, 44, 47, 49, 53, 59, 61, 65, 68, 72, 74, 75, 77, 78, 80, 81, 82, 83, 85, 86, 93, 97, 101, 109, 112, 113, 115, 117, 120, 123, 125, 126]\n",
      "offset: 89600\n",
      "===================\n",
      "false_sgt: []\n",
      "false_nsgt: [0, 3, 4, 9, 21, 25, 26, 27, 28, 29, 31, 32, 33, 34, 35, 36, 41, 43, 44, 45, 47, 48, 53, 54, 55, 56, 58, 59, 61, 62, 63, 65, 80, 82, 83, 84, 85, 88, 89, 91, 93, 95, 97, 98, 99, 100, 102, 103, 111, 112, 115, 117, 120, 121, 124, 125, 126]\n",
      "offset: 96000\n",
      "===================\n",
      "false_sgt: []\n",
      "false_nsgt: [1, 2, 6, 8, 15, 18, 19, 26, 28, 32, 33, 34, 35, 37, 41, 47, 48, 51, 52, 54, 55, 60, 62, 64, 70, 71, 72, 73, 75, 80, 82, 88, 92, 95, 96, 101, 112, 115, 116, 117, 121, 123, 125]\n",
      "offset: 102400\n",
      "===================\n",
      "false_sgt: []\n",
      "false_nsgt: [2, 4, 7, 12, 13, 18, 22, 25, 34, 36, 38, 40, 44, 45, 51, 55, 59, 61, 62, 63, 64, 67, 72, 73, 74, 79, 80, 81, 84, 87, 90, 92, 95, 97, 98, 103, 104, 105, 106, 107, 109, 112, 115, 116, 117, 120, 121, 123, 124]\n",
      "offset: 108800\n",
      "===================\n",
      "false_sgt: []\n",
      "false_nsgt: [1, 2, 6, 7, 11, 15, 18, 20, 23, 25, 27, 35, 36, 40, 42, 44, 46, 47, 48, 49, 51, 52, 54, 56, 57, 58, 60, 65, 69, 71, 73, 74, 83, 84, 85, 86, 89, 102, 104, 105, 107, 110, 111, 113, 118, 119, 125]\n",
      "offset: 115200\n",
      "===================\n",
      "false_sgt: []\n",
      "false_nsgt: [6, 8, 12, 14, 17, 19, 21, 24, 27, 28, 29, 32, 35, 39, 40, 42, 45, 47, 49, 50, 53, 56, 60, 62, 65, 69, 74, 75, 78, 82, 83, 84, 88, 89, 90, 95, 96, 97, 100, 102, 103, 105, 113, 114, 122, 127]\n",
      "offset: 121600\n",
      "===================\n",
      "Test accuracy: 59.7%\n",
      "Test precision, recall, F1: 0.000 0.000 0.000\n"
     ]
    }
   ],
   "source": [
    "t,v,l,fs,fns=run_tf(10,128,1000,50)"
   ]
  },
  {
   "cell_type": "markdown",
   "metadata": {},
   "source": [
    "## try to add an original index in order to access the error lines in the original data to see lemma, etc. "
   ]
  },
  {
   "cell_type": "code",
   "execution_count": 261,
   "metadata": {
    "collapsed": true
   },
   "outputs": [],
   "source": [
    "def load_nominal(datafile):\n",
    "    output=[]\n",
    "    f=open(datafile,'r').read().split('\\n')\n",
    "    \n",
    "    for line in f[1:]:\n",
    "        end_nominal=get_num_features(line)\n",
    "        output.append(line[:end_nominal])\n",
    "    \n",
    "    return np.array(output)"
   ]
  },
  {
   "cell_type": "code",
   "execution_count": 262,
   "metadata": {
    "collapsed": false
   },
   "outputs": [],
   "source": [
    "nominals=load_nominal(datafile)"
   ]
  },
  {
   "cell_type": "code",
   "execution_count": 235,
   "metadata": {
    "collapsed": false
   },
   "outputs": [
    {
     "data": {
      "text/plain": [
       "350845"
      ]
     },
     "execution_count": 235,
     "metadata": {},
     "output_type": "execute_result"
    }
   ],
   "source": [
    "def load_data(datafile,header=True):\n",
    "    if header==True:\n",
    "        data = np.loadtxt(strip_first_col(datafile),skiprows=1,delimiter=',')\n",
    "    else:\n",
    "        data = np.loadtxt(datafile, delimiter=',',skiprows=1)\n",
    "\n",
    "    # first ten values are the one hot encoded y (target) values\n",
    "    y = data[:, -1]\n",
    "    \n",
    "    data = data[:, :-1]  # x data\n",
    "    # data = data - data.mean(axis = 1)\n",
    "    data -= data.min()  # scale the data so values are between 0 and 1\n",
    "    data /= data.max()  # scale\n",
    "    out = []\n",
    "    labels=[]\n",
    "    print(data.shape)\n",
    "    label_dict={1:[0,1],0:[1,0]}\n",
    "    # populate the tuple list with the data\n",
    "    \n",
    "    for i in range(data.shape[0]):\n",
    "        \n",
    "        fart = list((data[i, :].tolist()))  # don't mind this variable name\n",
    "        out.append(fart)\n",
    "        #two classes one hot coding:two classes are [NS,S] y=1:[0,1]; y=0:[1,0]\n",
    "        labels.append(label_dict[y[i]])\n",
    "\n",
    "    return np.array(out,dtype=np.float32),np.array(labels,dtype=np.float32)\n",
    "\n",
    "\n",
    "len(dataset_shf)"
   ]
  },
  {
   "cell_type": "code",
   "execution_count": null,
   "metadata": {
    "collapsed": true
   },
   "outputs": [],
   "source": []
  },
  {
   "cell_type": "code",
   "execution_count": 234,
   "metadata": {
    "collapsed": false
   },
   "outputs": [
    {
     "data": {
      "text/plain": [
       "350845"
      ]
     },
     "execution_count": 234,
     "metadata": {},
     "output_type": "execute_result"
    }
   ],
   "source": [
    "X.shape[0]"
   ]
  },
  {
   "cell_type": "code",
   "execution_count": 236,
   "metadata": {
    "collapsed": false
   },
   "outputs": [
    {
     "data": {
      "text/plain": [
       "array([ 0.00497512,  0.01492537,  0.        ,  0.        ,  0.        ,\n",
       "        0.        ,  0.        ,  0.        ,  0.        ,  0.        ,\n",
       "        0.        ,  0.00480929,  0.00353106], dtype=float32)"
      ]
     },
     "execution_count": 236,
     "metadata": {},
     "output_type": "execute_result"
    }
   ],
   "source": [
    "dataset_shf[0]"
   ]
  },
  {
   "cell_type": "code",
   "execution_count": 260,
   "metadata": {
    "collapsed": false
   },
   "outputs": [
    {
     "name": "stdout",
     "output_type": "stream",
     "text": [
      "(350845, 13)\n"
     ]
    }
   ],
   "source": [
    "datafile='Data/singleton_data_new.tab'\n",
    "X,labels = load_data(datafile)\n",
    "dataset_shf,labels_shf = randomize(X, labels)\n"
   ]
  },
  {
   "cell_type": "code",
   "execution_count": null,
   "metadata": {
    "collapsed": true
   },
   "outputs": [],
   "source": []
  },
  {
   "cell_type": "code",
   "execution_count": 264,
   "metadata": {
    "collapsed": true
   },
   "outputs": [],
   "source": [
    "def randomize(dataset, labels,nominals):\n",
    "    permutation = np.random.permutation(labels.shape[0])\n",
    "    shuffled_dataset = dataset[permutation,:]\n",
    "    shuffled_labels = labels[permutation]\n",
    "    shuffled_nominals = nominals[permutation]\n",
    "    return shuffled_dataset, shuffled_labels, shuffled_nominals\n",
    "\n",
    "\n"
   ]
  },
  {
   "cell_type": "code",
   "execution_count": null,
   "metadata": {
    "collapsed": true
   },
   "outputs": [],
   "source": []
  },
  {
   "cell_type": "code",
   "execution_count": 265,
   "metadata": {
    "collapsed": false
   },
   "outputs": [
    {
     "name": "stdout",
     "output_type": "stream",
     "text": [
      "(350845, 13)\n",
      "non-singleton,singleton in the original dataset: 284276 66569\n",
      "final undersampled data set size: 166569\n",
      "(149912, 13)\n"
     ]
    }
   ],
   "source": [
    "datafile='Data/singleton_data_new.tab'\n",
    "X,labels = load_data(datafile)\n",
    "nominals=load_nominal(datafile)\n",
    "#shuffle dataset\n",
    "dataset_shf,labels_shf, nominal_shf = randomize(X, labels, nominals)\n",
    "\n",
    "\n",
    "\n",
    "#sample sgt and non-sgt data\n",
    "ind_notsgt,ind_sgt=get_singleton(labels_shf)\n",
    "singleton_data=dataset_shf[ind_sgt]\n",
    "notsgt_data=dataset_shf[ind_notsgt]\n",
    "singleton_labels=labels_shf[ind_sgt]\n",
    "notsgt_labels=labels_shf[ind_notsgt]\n",
    "singleton_nominal=nominal_shf[ind_sgt]\n",
    "notsgt_nominal=nominal_shf[ind_notsgt]\n",
    "\n",
    "#print (len(notsgt_data)+len(singleton_data)==len(labels_shf))\n",
    "print (\"non-singleton,singleton in the original dataset:\", len(notsgt_data),len(singleton_data))\n",
    "\n",
    "\n",
    "\n",
    "#construct the entire undersampled dataset\n",
    "import random\n",
    "num_notsgt_samples=100000\n",
    "notsgt_inds=random.sample(xrange(len(notsgt_data)),num_notsgt_samples)\n",
    "undersampled_notsgt=notsgt_data[notsgt_inds]\n",
    "undersampled_notsgt_labels=notsgt_labels[notsgt_inds]\n",
    "undersampled_notsgt_nominal=notsgt_nominal[notsgt_inds]\n",
    "\n",
    "#construct the whole data set\n",
    "undersampled_data=np.concatenate((undersampled_notsgt,singleton_data), axis=0)\n",
    "undersampled_labels=np.concatenate((undersampled_notsgt_labels,singleton_labels), axis=0)\n",
    "undersampled_nominal=np.concatenate((undersampled_notsgt_nominal,singleton_nominal), axis=0)\n",
    "\n",
    "#construct the whole labels\n",
    "#undersampled_notsgt_labels=\n",
    "print (\"final undersampled data set size:\",len(undersampled_data))\n",
    "\n",
    "\n",
    "\n",
    "\n",
    "#divide train, valid, test\n",
    "dataset_shf_und,labels_shf_und,nominal_shf_und = randomize(undersampled_data, undersampled_labels,undersampled_nominal)\n",
    "train_size=int(len(undersampled_data)*0.9)\n",
    "val_size=int(len(undersampled_data)*0.05)\n",
    "test_isze=int(len(undersampled_data)*0.05)\n",
    "#get sizes of division\n",
    "train_dataset=dataset_shf_und[:int(train_size),:]\n",
    "valid_dataset=dataset_shf_und[int(train_size):int(train_size+val_size),:]\n",
    "test_dataset=dataset_shf_und[int(train_size+val_size):,:]\n",
    "train_labels=labels_shf_und[:int(train_size)]\n",
    "valid_labels=labels_shf_und[int(train_size):int(train_size+val_size)]\n",
    "test_labels=labels_shf_und[int(train_size+val_size):]\n",
    "train_nominal=nominal_shf_und[:int(train_size)]\n",
    "valid_nominal=nominal_shf_und[int(train_size):int(train_size+val_size)]\n",
    "test_nominal=nominal_shf_und[int(train_size+val_size):]\n",
    "\n",
    "\n",
    "#divide the dataset\n",
    "train_dataset, train_labels, train_nominal = randomize(train_dataset, train_labels, train_nominal)\n",
    "test_dataset, test_labels, test_nominal = randomize(test_dataset, test_labels, test_nominal)\n",
    "valid_dataset, valid_labels, valid_nominal = randomize(valid_dataset, valid_labels, valid_nominal)\n",
    "print (train_dataset.shape)\n",
    "\n"
   ]
  },
  {
   "cell_type": "markdown",
   "metadata": {},
   "source": [
    "# after setting up nominals, we can obtain what is the error cases at the last iteration of the training (notice I called a variant of run_tf_noplot, where there is no plotting) "
   ]
  },
  {
   "cell_type": "code",
   "execution_count": null,
   "metadata": {
    "collapsed": true
   },
   "outputs": [],
   "source": []
  },
  {
   "cell_type": "code",
   "execution_count": 271,
   "metadata": {
    "collapsed": false
   },
   "outputs": [
    {
     "name": "stdout",
     "output_type": "stream",
     "text": [
      "================num_nodes_hidden,batch_size: 1024 128\n",
      "================input_feature_size: 13\n",
      "=================num steps: 20000\n",
      "Initialized\n",
      "Test accuracy: 66.6%\n",
      "Test precision, recall, F1: 0.807 0.231 0.360\n"
     ]
    }
   ],
   "source": [
    "t,v,l,fs,fns=run_tf_noplot(1024,128,20000,100)"
   ]
  },
  {
   "cell_type": "code",
   "execution_count": 272,
   "metadata": {
    "collapsed": false
   },
   "outputs": [
    {
     "data": {
      "text/plain": [
       "array([911, 970])"
      ]
     },
     "execution_count": 272,
     "metadata": {},
     "output_type": "execute_result"
    }
   ],
   "source": [
    "fs[-1]"
   ]
  },
  {
   "cell_type": "code",
   "execution_count": 273,
   "metadata": {
    "collapsed": false
   },
   "outputs": [
    {
     "data": {
      "text/plain": [
       "array([879, 881, 883, 895, 901, 903, 904, 905, 906, 908, 915, 923, 926,\n",
       "       931, 938, 942, 943, 944, 945, 949, 950, 952, 955, 957, 958, 962,\n",
       "       965, 971, 979, 980, 983, 984, 985, 986, 987, 997])"
      ]
     },
     "execution_count": 273,
     "metadata": {},
     "output_type": "execute_result"
    }
   ],
   "source": [
    "fns[-1]"
   ]
  },
  {
   "cell_type": "code",
   "execution_count": 276,
   "metadata": {
    "collapsed": false
   },
   "outputs": [
    {
     "name": "stdout",
     "output_type": "stream",
     "text": [
      "['no sin,sin,nsubj' 'the future of Jerusalem,future,dobj'\n",
      " 'Television,television,nsubj' 'customers,customer,dobj'\n",
      " 'the contracts it had sold earlier for December delivery in London,contract,pobj'\n",
      " 'the court,court,pobj' 'and the mercy of God and His blessings,mercy,dep'\n",
      " 'the skies and the earth that we have now,sky,dobj'\n",
      " 'about 1/20 percentage point,point,npadvmod' \"Spain 's,spain,poss\"\n",
      " 'one month,month,npadvmod' 'the suit,suit,dobj'\n",
      " 'the king of the Jews,king,dobj'\n",
      " \"the cause of Saturday 's crash of a Honduran jetliner that killed 132 of the 146 people aboard,cause,pobj\"\n",
      " 'Erich,erich,nn' 'packaging products,product,pobj' 'death,death,pobj'\n",
      " 'the Chinese New Year,year,pobj' 'the people,people,pobj' 'Mr.,mr.,nn'\n",
      " 'an annual `` A Christmas Carol,carol,dobj'\n",
      " 'the overall standard of this competition,standard,nsubj'\n",
      " 'everyone,everyone,dobj' 'studios,studio,nsubj' 'China,china,pobj'\n",
      " 'the economy,economy,nsubjpass' 'the common people,people,pobj'\n",
      " 'the people,people,nsubj' 'Mr.,mr.,nn' 'Shui,shui,nn'\n",
      " 'this big pressure,pressure,dobj' 'NBC,NBC,nn' 'peace,peace,pobj'\n",
      " 'Japanese government bonds,bond,nsubj'\n",
      " 'where he s and be an emergency third,third,dep'\n",
      " \"Tuesday 's temblor,temblor,pobj\"]\n"
     ]
    }
   ],
   "source": [
    "print (train_nominal[fns[-1]])"
   ]
  },
  {
   "cell_type": "code",
   "execution_count": 278,
   "metadata": {
    "collapsed": false
   },
   "outputs": [
    {
     "name": "stdout",
     "output_type": "stream",
     "text": [
      "['Taipei,taipei,nn' 'detainees,detainee,pobj']\n"
     ]
    }
   ],
   "source": [
    "print (train_nominal[fs[-1]])"
   ]
  },
  {
   "cell_type": "code",
   "execution_count": 283,
   "metadata": {
    "collapsed": false
   },
   "outputs": [
    {
     "data": {
      "text/plain": [
       "array([[  9.95024852e-03,   4.97512426e-03,   4.97512426e-03, ...,\n",
       "          0.00000000e+00,   9.04568064e-04,   1.62320539e-05],\n",
       "       [  4.97512426e-03,   9.95024852e-03,   0.00000000e+00, ...,\n",
       "          0.00000000e+00,   1.80913613e-03,   3.24641078e-05],\n",
       "       [  9.95024852e-03,   1.49253728e-02,   0.00000000e+00, ...,\n",
       "          0.00000000e+00,   3.16598825e-03,   5.68121868e-05],\n",
       "       ..., \n",
       "       [  4.47761193e-02,   1.49253728e-02,   4.97512426e-03, ...,\n",
       "          4.97512426e-03,   1.16086239e-03,   4.87489300e-03],\n",
       "       [  1.49253728e-02,   1.49253728e-02,   0.00000000e+00, ...,\n",
       "          4.97512426e-03,   1.82421226e-03,   4.89311665e-03],\n",
       "       [  4.97512426e-03,   1.49253728e-02,   0.00000000e+00, ...,\n",
       "          0.00000000e+00,   2.32172478e-03,   4.90678474e-03]], dtype=float32)"
      ]
     },
     "execution_count": 283,
     "metadata": {},
     "output_type": "execute_result"
    }
   ],
   "source": [
    "X"
   ]
  },
  {
   "cell_type": "code",
   "execution_count": 284,
   "metadata": {
    "collapsed": true
   },
   "outputs": [],
   "source": [
    "np.save(\"singleton_new.npy\", X)"
   ]
  },
  {
   "cell_type": "code",
   "execution_count": 287,
   "metadata": {
    "collapsed": false
   },
   "outputs": [],
   "source": [
    "np.save(\"singleton_new_labels.npy\",labels)"
   ]
  },
  {
   "cell_type": "code",
   "execution_count": null,
   "metadata": {
    "collapsed": true
   },
   "outputs": [],
   "source": []
  },
  {
   "cell_type": "code",
   "execution_count": 286,
   "metadata": {
    "collapsed": false
   },
   "outputs": [
    {
     "data": {
      "text/plain": [
       "(350845, 2)"
      ]
     },
     "execution_count": 286,
     "metadata": {},
     "output_type": "execute_result"
    }
   ],
   "source": [
    "labels.shape"
   ]
  },
  {
   "cell_type": "code",
   "execution_count": 288,
   "metadata": {
    "collapsed": true
   },
   "outputs": [],
   "source": [
    "outfile=\"singleton_new.npy\"\n",
    "new_X=np.load(outfile)"
   ]
  },
  {
   "cell_type": "code",
   "execution_count": 290,
   "metadata": {
    "collapsed": false
   },
   "outputs": [
    {
     "data": {
      "text/plain": [
       "array([[ True,  True,  True, ...,  True,  True,  True],\n",
       "       [ True,  True,  True, ...,  True,  True,  True],\n",
       "       [ True,  True,  True, ...,  True,  True,  True],\n",
       "       ..., \n",
       "       [ True,  True,  True, ...,  True,  True,  True],\n",
       "       [ True,  True,  True, ...,  True,  True,  True],\n",
       "       [ True,  True,  True, ...,  True,  True,  True]], dtype=bool)"
      ]
     },
     "execution_count": 290,
     "metadata": {},
     "output_type": "execute_result"
    }
   ],
   "source": [
    "new_X==X\n"
   ]
  },
  {
   "cell_type": "code",
   "execution_count": 292,
   "metadata": {
    "collapsed": false
   },
   "outputs": [
    {
     "data": {
      "text/plain": [
       "False"
      ]
     },
     "execution_count": 292,
     "metadata": {},
     "output_type": "execute_result"
    }
   ],
   "source": [
    "\n",
    "import os.path\n",
    "os.path.isfile('Data/singleton_new.npy')"
   ]
  },
  {
   "cell_type": "code",
   "execution_count": null,
   "metadata": {
    "collapsed": true
   },
   "outputs": [],
   "source": []
  },
  {
   "cell_type": "code",
   "execution_count": null,
   "metadata": {
    "collapsed": true
   },
   "outputs": [],
   "source": []
  },
  {
   "cell_type": "code",
   "execution_count": null,
   "metadata": {
    "collapsed": true
   },
   "outputs": [],
   "source": []
  },
  {
   "cell_type": "code",
   "execution_count": null,
   "metadata": {
    "collapsed": true
   },
   "outputs": [],
   "source": []
  },
  {
   "cell_type": "code",
   "execution_count": null,
   "metadata": {
    "collapsed": true
   },
   "outputs": [],
   "source": []
  },
  {
   "cell_type": "code",
   "execution_count": null,
   "metadata": {
    "collapsed": true
   },
   "outputs": [],
   "source": []
  },
  {
   "cell_type": "code",
   "execution_count": null,
   "metadata": {
    "collapsed": true
   },
   "outputs": [],
   "source": []
  },
  {
   "cell_type": "code",
   "execution_count": null,
   "metadata": {
    "collapsed": true
   },
   "outputs": [],
   "source": []
  }
 ],
 "metadata": {
  "kernelspec": {
   "display_name": "Python 2",
   "language": "python",
   "name": "python2"
  },
  "language_info": {
   "codemirror_mode": {
    "name": "ipython",
    "version": 2
   },
   "file_extension": ".py",
   "mimetype": "text/x-python",
   "name": "python",
   "nbconvert_exporter": "python",
   "pygments_lexer": "ipython2",
   "version": "2.7.12"
  }
 },
 "nbformat": 4,
 "nbformat_minor": 0
}
